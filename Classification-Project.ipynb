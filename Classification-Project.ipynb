{
 "cells": [
  {
   "cell_type": "markdown",
   "id": "dd625d6b",
   "metadata": {},
   "source": [
    "# Libraries imports:"
   ]
  },
  {
   "cell_type": "code",
   "execution_count": 1,
   "id": "3b8d1e74",
   "metadata": {},
   "outputs": [],
   "source": [
    "import numpy as np\n",
    "import matplotlib.pyplot as plt\n",
    "import pandas as pd\n",
    "import seaborn as sns\n",
    "%matplotlib inline"
   ]
  },
  {
   "cell_type": "code",
   "execution_count": 2,
   "id": "1a65e3f5",
   "metadata": {},
   "outputs": [],
   "source": [
    "from sklearn.neighbors import KNeighborsClassifier\n",
    "from sklearn import metrics\n",
    "from sklearn.svm import SVC\n",
    "from sklearn.metrics import accuracy_score\n"
   ]
  },
  {
   "cell_type": "markdown",
   "id": "609719d6",
   "metadata": {},
   "source": [
    "# Dataset Overview:"
   ]
  },
  {
   "cell_type": "code",
   "execution_count": 3,
   "id": "895efac8",
   "metadata": {},
   "outputs": [
    {
     "data": {
      "text/html": [
       "<div>\n",
       "<style scoped>\n",
       "    .dataframe tbody tr th:only-of-type {\n",
       "        vertical-align: middle;\n",
       "    }\n",
       "\n",
       "    .dataframe tbody tr th {\n",
       "        vertical-align: top;\n",
       "    }\n",
       "\n",
       "    .dataframe thead th {\n",
       "        text-align: right;\n",
       "    }\n",
       "</style>\n",
       "<table border=\"1\" class=\"dataframe\">\n",
       "  <thead>\n",
       "    <tr style=\"text-align: right;\">\n",
       "      <th></th>\n",
       "      <th>employee_id</th>\n",
       "      <th>department</th>\n",
       "      <th>region</th>\n",
       "      <th>education</th>\n",
       "      <th>gender</th>\n",
       "      <th>recruitment_channel</th>\n",
       "      <th>no_of_trainings</th>\n",
       "      <th>age</th>\n",
       "      <th>previous_year_rating</th>\n",
       "      <th>length_of_service</th>\n",
       "      <th>awards_won?</th>\n",
       "      <th>avg_training_score</th>\n",
       "      <th>is_promoted</th>\n",
       "    </tr>\n",
       "  </thead>\n",
       "  <tbody>\n",
       "    <tr>\n",
       "      <th>0</th>\n",
       "      <td>65438</td>\n",
       "      <td>Sales &amp; Marketing</td>\n",
       "      <td>region_7</td>\n",
       "      <td>Master's &amp; above</td>\n",
       "      <td>f</td>\n",
       "      <td>sourcing</td>\n",
       "      <td>1</td>\n",
       "      <td>35</td>\n",
       "      <td>5.0</td>\n",
       "      <td>8</td>\n",
       "      <td>0</td>\n",
       "      <td>49</td>\n",
       "      <td>0</td>\n",
       "    </tr>\n",
       "    <tr>\n",
       "      <th>1</th>\n",
       "      <td>65141</td>\n",
       "      <td>Operations</td>\n",
       "      <td>region_22</td>\n",
       "      <td>Bachelor's</td>\n",
       "      <td>m</td>\n",
       "      <td>other</td>\n",
       "      <td>1</td>\n",
       "      <td>30</td>\n",
       "      <td>5.0</td>\n",
       "      <td>4</td>\n",
       "      <td>0</td>\n",
       "      <td>60</td>\n",
       "      <td>0</td>\n",
       "    </tr>\n",
       "    <tr>\n",
       "      <th>2</th>\n",
       "      <td>7513</td>\n",
       "      <td>Sales &amp; Marketing</td>\n",
       "      <td>region_19</td>\n",
       "      <td>Bachelor's</td>\n",
       "      <td>m</td>\n",
       "      <td>sourcing</td>\n",
       "      <td>1</td>\n",
       "      <td>34</td>\n",
       "      <td>3.0</td>\n",
       "      <td>7</td>\n",
       "      <td>0</td>\n",
       "      <td>50</td>\n",
       "      <td>0</td>\n",
       "    </tr>\n",
       "    <tr>\n",
       "      <th>3</th>\n",
       "      <td>2542</td>\n",
       "      <td>Sales &amp; Marketing</td>\n",
       "      <td>region_23</td>\n",
       "      <td>Bachelor's</td>\n",
       "      <td>m</td>\n",
       "      <td>other</td>\n",
       "      <td>2</td>\n",
       "      <td>39</td>\n",
       "      <td>1.0</td>\n",
       "      <td>10</td>\n",
       "      <td>0</td>\n",
       "      <td>50</td>\n",
       "      <td>0</td>\n",
       "    </tr>\n",
       "    <tr>\n",
       "      <th>4</th>\n",
       "      <td>48945</td>\n",
       "      <td>Technology</td>\n",
       "      <td>region_26</td>\n",
       "      <td>Bachelor's</td>\n",
       "      <td>m</td>\n",
       "      <td>other</td>\n",
       "      <td>1</td>\n",
       "      <td>45</td>\n",
       "      <td>3.0</td>\n",
       "      <td>2</td>\n",
       "      <td>0</td>\n",
       "      <td>73</td>\n",
       "      <td>0</td>\n",
       "    </tr>\n",
       "  </tbody>\n",
       "</table>\n",
       "</div>"
      ],
      "text/plain": [
       "   employee_id         department     region         education gender  \\\n",
       "0        65438  Sales & Marketing   region_7  Master's & above      f   \n",
       "1        65141         Operations  region_22        Bachelor's      m   \n",
       "2         7513  Sales & Marketing  region_19        Bachelor's      m   \n",
       "3         2542  Sales & Marketing  region_23        Bachelor's      m   \n",
       "4        48945         Technology  region_26        Bachelor's      m   \n",
       "\n",
       "  recruitment_channel  no_of_trainings  age  previous_year_rating  \\\n",
       "0            sourcing                1   35                   5.0   \n",
       "1               other                1   30                   5.0   \n",
       "2            sourcing                1   34                   3.0   \n",
       "3               other                2   39                   1.0   \n",
       "4               other                1   45                   3.0   \n",
       "\n",
       "   length_of_service  awards_won?  avg_training_score  is_promoted  \n",
       "0                  8            0                  49            0  \n",
       "1                  4            0                  60            0  \n",
       "2                  7            0                  50            0  \n",
       "3                 10            0                  50            0  \n",
       "4                  2            0                  73            0  "
      ]
     },
     "execution_count": 3,
     "metadata": {},
     "output_type": "execute_result"
    }
   ],
   "source": [
    "df = pd.read_csv('HRDataset.csv')\n",
    "df.head()"
   ]
  },
  {
   "cell_type": "code",
   "execution_count": 4,
   "id": "f0ef3df6",
   "metadata": {},
   "outputs": [
    {
     "data": {
      "text/plain": [
       "Index(['employee_id', 'department', 'region', 'education', 'gender',\n",
       "       'recruitment_channel', 'no_of_trainings', 'age', 'previous_year_rating',\n",
       "       'length_of_service', 'awards_won?', 'avg_training_score',\n",
       "       'is_promoted'],\n",
       "      dtype='object')"
      ]
     },
     "execution_count": 4,
     "metadata": {},
     "output_type": "execute_result"
    }
   ],
   "source": [
    "df.columns"
   ]
  },
  {
   "cell_type": "code",
   "execution_count": 5,
   "id": "9c6971b6",
   "metadata": {},
   "outputs": [
    {
     "data": {
      "text/html": [
       "<div>\n",
       "<style scoped>\n",
       "    .dataframe tbody tr th:only-of-type {\n",
       "        vertical-align: middle;\n",
       "    }\n",
       "\n",
       "    .dataframe tbody tr th {\n",
       "        vertical-align: top;\n",
       "    }\n",
       "\n",
       "    .dataframe thead th {\n",
       "        text-align: right;\n",
       "    }\n",
       "</style>\n",
       "<table border=\"1\" class=\"dataframe\">\n",
       "  <thead>\n",
       "    <tr style=\"text-align: right;\">\n",
       "      <th></th>\n",
       "      <th>employee_id</th>\n",
       "      <th>no_of_trainings</th>\n",
       "      <th>age</th>\n",
       "      <th>previous_year_rating</th>\n",
       "      <th>length_of_service</th>\n",
       "      <th>awards_won?</th>\n",
       "      <th>avg_training_score</th>\n",
       "      <th>is_promoted</th>\n",
       "    </tr>\n",
       "  </thead>\n",
       "  <tbody>\n",
       "    <tr>\n",
       "      <th>count</th>\n",
       "      <td>54808.000000</td>\n",
       "      <td>54808.000000</td>\n",
       "      <td>54808.000000</td>\n",
       "      <td>50684.000000</td>\n",
       "      <td>54808.000000</td>\n",
       "      <td>54808.000000</td>\n",
       "      <td>54808.000000</td>\n",
       "      <td>54808.000000</td>\n",
       "    </tr>\n",
       "    <tr>\n",
       "      <th>mean</th>\n",
       "      <td>39195.830627</td>\n",
       "      <td>1.253011</td>\n",
       "      <td>34.803915</td>\n",
       "      <td>3.329256</td>\n",
       "      <td>5.865512</td>\n",
       "      <td>0.023172</td>\n",
       "      <td>63.386750</td>\n",
       "      <td>0.085170</td>\n",
       "    </tr>\n",
       "    <tr>\n",
       "      <th>std</th>\n",
       "      <td>22586.581449</td>\n",
       "      <td>0.609264</td>\n",
       "      <td>7.660169</td>\n",
       "      <td>1.259993</td>\n",
       "      <td>4.265094</td>\n",
       "      <td>0.150450</td>\n",
       "      <td>13.371559</td>\n",
       "      <td>0.279137</td>\n",
       "    </tr>\n",
       "    <tr>\n",
       "      <th>min</th>\n",
       "      <td>1.000000</td>\n",
       "      <td>1.000000</td>\n",
       "      <td>20.000000</td>\n",
       "      <td>1.000000</td>\n",
       "      <td>1.000000</td>\n",
       "      <td>0.000000</td>\n",
       "      <td>39.000000</td>\n",
       "      <td>0.000000</td>\n",
       "    </tr>\n",
       "    <tr>\n",
       "      <th>25%</th>\n",
       "      <td>19669.750000</td>\n",
       "      <td>1.000000</td>\n",
       "      <td>29.000000</td>\n",
       "      <td>3.000000</td>\n",
       "      <td>3.000000</td>\n",
       "      <td>0.000000</td>\n",
       "      <td>51.000000</td>\n",
       "      <td>0.000000</td>\n",
       "    </tr>\n",
       "    <tr>\n",
       "      <th>50%</th>\n",
       "      <td>39225.500000</td>\n",
       "      <td>1.000000</td>\n",
       "      <td>33.000000</td>\n",
       "      <td>3.000000</td>\n",
       "      <td>5.000000</td>\n",
       "      <td>0.000000</td>\n",
       "      <td>60.000000</td>\n",
       "      <td>0.000000</td>\n",
       "    </tr>\n",
       "    <tr>\n",
       "      <th>75%</th>\n",
       "      <td>58730.500000</td>\n",
       "      <td>1.000000</td>\n",
       "      <td>39.000000</td>\n",
       "      <td>4.000000</td>\n",
       "      <td>7.000000</td>\n",
       "      <td>0.000000</td>\n",
       "      <td>76.000000</td>\n",
       "      <td>0.000000</td>\n",
       "    </tr>\n",
       "    <tr>\n",
       "      <th>max</th>\n",
       "      <td>78298.000000</td>\n",
       "      <td>10.000000</td>\n",
       "      <td>60.000000</td>\n",
       "      <td>5.000000</td>\n",
       "      <td>37.000000</td>\n",
       "      <td>1.000000</td>\n",
       "      <td>99.000000</td>\n",
       "      <td>1.000000</td>\n",
       "    </tr>\n",
       "  </tbody>\n",
       "</table>\n",
       "</div>"
      ],
      "text/plain": [
       "        employee_id  no_of_trainings           age  previous_year_rating  \\\n",
       "count  54808.000000     54808.000000  54808.000000          50684.000000   \n",
       "mean   39195.830627         1.253011     34.803915              3.329256   \n",
       "std    22586.581449         0.609264      7.660169              1.259993   \n",
       "min        1.000000         1.000000     20.000000              1.000000   \n",
       "25%    19669.750000         1.000000     29.000000              3.000000   \n",
       "50%    39225.500000         1.000000     33.000000              3.000000   \n",
       "75%    58730.500000         1.000000     39.000000              4.000000   \n",
       "max    78298.000000        10.000000     60.000000              5.000000   \n",
       "\n",
       "       length_of_service   awards_won?  avg_training_score   is_promoted  \n",
       "count       54808.000000  54808.000000        54808.000000  54808.000000  \n",
       "mean            5.865512      0.023172           63.386750      0.085170  \n",
       "std             4.265094      0.150450           13.371559      0.279137  \n",
       "min             1.000000      0.000000           39.000000      0.000000  \n",
       "25%             3.000000      0.000000           51.000000      0.000000  \n",
       "50%             5.000000      0.000000           60.000000      0.000000  \n",
       "75%             7.000000      0.000000           76.000000      0.000000  \n",
       "max            37.000000      1.000000           99.000000      1.000000  "
      ]
     },
     "execution_count": 5,
     "metadata": {},
     "output_type": "execute_result"
    }
   ],
   "source": [
    "df.describe()"
   ]
  },
  {
   "cell_type": "markdown",
   "id": "3724b965",
   "metadata": {},
   "source": [
    "# Data Cleaning:"
   ]
  },
  {
   "cell_type": "code",
   "execution_count": 6,
   "id": "669c206d",
   "metadata": {},
   "outputs": [
    {
     "data": {
      "text/plain": [
       "array(['sourcing', 'other', 'referred'], dtype=object)"
      ]
     },
     "execution_count": 6,
     "metadata": {},
     "output_type": "execute_result"
    }
   ],
   "source": [
    "df['recruitment_channel'].unique()"
   ]
  },
  {
   "cell_type": "code",
   "execution_count": 7,
   "id": "742f2a6b",
   "metadata": {},
   "outputs": [
    {
     "data": {
      "text/plain": [
       "array(['region_7', 'region_22', 'region_19', 'region_23', 'region_26',\n",
       "       'region_2', 'region_20', 'region_34', 'region_1', 'region_4',\n",
       "       'region_29', 'region_31', 'region_15', 'region_14', 'region_11',\n",
       "       'region_5', 'region_28', 'region_17', 'region_13', 'region_16',\n",
       "       'region_25', 'region_10', 'region_27', 'region_30', 'region_12',\n",
       "       'region_21', 'region_8', 'region_32', 'region_6', 'region_33',\n",
       "       'region_24', 'region_3', 'region_9', 'region_18'], dtype=object)"
      ]
     },
     "execution_count": 7,
     "metadata": {},
     "output_type": "execute_result"
    }
   ],
   "source": [
    "df['region'].unique()"
   ]
  },
  {
   "cell_type": "code",
   "execution_count": 8,
   "id": "ef64f085",
   "metadata": {},
   "outputs": [],
   "source": [
    "df.drop(['employee_id','region','recruitment_channel'],axis=1 ,inplace= True)"
   ]
  },
  {
   "cell_type": "code",
   "execution_count": 9,
   "id": "7dd0b2a9",
   "metadata": {},
   "outputs": [],
   "source": [
    "df.rename(columns={'awards_won?':'awards_won'}, inplace = True)"
   ]
  },
  {
   "cell_type": "code",
   "execution_count": 10,
   "id": "feec95ab",
   "metadata": {},
   "outputs": [
    {
     "name": "stdout",
     "output_type": "stream",
     "text": [
      "<class 'pandas.core.frame.DataFrame'>\n",
      "RangeIndex: 54808 entries, 0 to 54807\n",
      "Data columns (total 10 columns):\n",
      " #   Column                Non-Null Count  Dtype  \n",
      "---  ------                --------------  -----  \n",
      " 0   department            54808 non-null  object \n",
      " 1   education             52399 non-null  object \n",
      " 2   gender                54808 non-null  object \n",
      " 3   no_of_trainings       54808 non-null  int64  \n",
      " 4   age                   54808 non-null  int64  \n",
      " 5   previous_year_rating  50684 non-null  float64\n",
      " 6   length_of_service     54808 non-null  int64  \n",
      " 7   awards_won            54808 non-null  int64  \n",
      " 8   avg_training_score    54808 non-null  int64  \n",
      " 9   is_promoted           54808 non-null  int64  \n",
      "dtypes: float64(1), int64(6), object(3)\n",
      "memory usage: 4.2+ MB\n"
     ]
    }
   ],
   "source": [
    "df.info()"
   ]
  },
  {
   "cell_type": "code",
   "execution_count": 11,
   "id": "1d2ee70b",
   "metadata": {},
   "outputs": [
    {
     "data": {
      "text/plain": [
       "7024"
      ]
     },
     "execution_count": 11,
     "metadata": {},
     "output_type": "execute_result"
    }
   ],
   "source": [
    "sum(df.duplicated())"
   ]
  },
  {
   "cell_type": "code",
   "execution_count": 12,
   "id": "b9e70946",
   "metadata": {},
   "outputs": [],
   "source": [
    "df.drop_duplicates(inplace=True) #drop duplicated rows"
   ]
  },
  {
   "cell_type": "code",
   "execution_count": 13,
   "id": "7cbc3bd4",
   "metadata": {},
   "outputs": [],
   "source": [
    "df.dropna(subset = ['education'],inplace=True)"
   ]
  },
  {
   "cell_type": "code",
   "execution_count": 14,
   "id": "4f888234",
   "metadata": {},
   "outputs": [
    {
     "data": {
      "text/plain": [
       "department                 0\n",
       "education                  0\n",
       "gender                     0\n",
       "no_of_trainings            0\n",
       "age                        0\n",
       "previous_year_rating    2279\n",
       "length_of_service          0\n",
       "awards_won                 0\n",
       "avg_training_score         0\n",
       "is_promoted                0\n",
       "dtype: int64"
      ]
     },
     "execution_count": 14,
     "metadata": {},
     "output_type": "execute_result"
    }
   ],
   "source": [
    "df.isna().sum()"
   ]
  },
  {
   "cell_type": "markdown",
   "id": "b35ca7c2",
   "metadata": {},
   "source": [
    "# Exploring Data:"
   ]
  },
  {
   "cell_type": "code",
   "execution_count": 15,
   "id": "dceee2e8",
   "metadata": {},
   "outputs": [
    {
     "data": {
      "text/html": [
       "<div>\n",
       "<style scoped>\n",
       "    .dataframe tbody tr th:only-of-type {\n",
       "        vertical-align: middle;\n",
       "    }\n",
       "\n",
       "    .dataframe tbody tr th {\n",
       "        vertical-align: top;\n",
       "    }\n",
       "\n",
       "    .dataframe thead th {\n",
       "        text-align: right;\n",
       "    }\n",
       "</style>\n",
       "<table border=\"1\" class=\"dataframe\">\n",
       "  <thead>\n",
       "    <tr style=\"text-align: right;\">\n",
       "      <th></th>\n",
       "      <th>no_of_trainings</th>\n",
       "      <th>age</th>\n",
       "      <th>previous_year_rating</th>\n",
       "      <th>length_of_service</th>\n",
       "      <th>awards_won</th>\n",
       "      <th>avg_training_score</th>\n",
       "      <th>is_promoted</th>\n",
       "    </tr>\n",
       "  </thead>\n",
       "  <tbody>\n",
       "    <tr>\n",
       "      <th>no_of_trainings</th>\n",
       "      <td>1.000000</td>\n",
       "      <td>-0.108833</td>\n",
       "      <td>-0.061732</td>\n",
       "      <td>-0.077764</td>\n",
       "      <td>-0.014022</td>\n",
       "      <td>0.033200</td>\n",
       "      <td>-0.037664</td>\n",
       "    </tr>\n",
       "    <tr>\n",
       "      <th>age</th>\n",
       "      <td>-0.108833</td>\n",
       "      <td>1.000000</td>\n",
       "      <td>0.006142</td>\n",
       "      <td>0.637573</td>\n",
       "      <td>-0.020908</td>\n",
       "      <td>-0.077603</td>\n",
       "      <td>-0.042689</td>\n",
       "    </tr>\n",
       "    <tr>\n",
       "      <th>previous_year_rating</th>\n",
       "      <td>-0.061732</td>\n",
       "      <td>0.006142</td>\n",
       "      <td>1.000000</td>\n",
       "      <td>-0.001156</td>\n",
       "      <td>0.030566</td>\n",
       "      <td>0.073300</td>\n",
       "      <td>0.167893</td>\n",
       "    </tr>\n",
       "    <tr>\n",
       "      <th>length_of_service</th>\n",
       "      <td>-0.077764</td>\n",
       "      <td>0.637573</td>\n",
       "      <td>-0.001156</td>\n",
       "      <td>1.000000</td>\n",
       "      <td>-0.051817</td>\n",
       "      <td>-0.057069</td>\n",
       "      <td>-0.031022</td>\n",
       "    </tr>\n",
       "    <tr>\n",
       "      <th>awards_won</th>\n",
       "      <td>-0.014022</td>\n",
       "      <td>-0.020908</td>\n",
       "      <td>0.030566</td>\n",
       "      <td>-0.051817</td>\n",
       "      <td>1.000000</td>\n",
       "      <td>0.072649</td>\n",
       "      <td>0.192659</td>\n",
       "    </tr>\n",
       "    <tr>\n",
       "      <th>avg_training_score</th>\n",
       "      <td>0.033200</td>\n",
       "      <td>-0.077603</td>\n",
       "      <td>0.073300</td>\n",
       "      <td>-0.057069</td>\n",
       "      <td>0.072649</td>\n",
       "      <td>1.000000</td>\n",
       "      <td>0.183961</td>\n",
       "    </tr>\n",
       "    <tr>\n",
       "      <th>is_promoted</th>\n",
       "      <td>-0.037664</td>\n",
       "      <td>-0.042689</td>\n",
       "      <td>0.167893</td>\n",
       "      <td>-0.031022</td>\n",
       "      <td>0.192659</td>\n",
       "      <td>0.183961</td>\n",
       "      <td>1.000000</td>\n",
       "    </tr>\n",
       "  </tbody>\n",
       "</table>\n",
       "</div>"
      ],
      "text/plain": [
       "                      no_of_trainings       age  previous_year_rating  \\\n",
       "no_of_trainings              1.000000 -0.108833             -0.061732   \n",
       "age                         -0.108833  1.000000              0.006142   \n",
       "previous_year_rating        -0.061732  0.006142              1.000000   \n",
       "length_of_service           -0.077764  0.637573             -0.001156   \n",
       "awards_won                  -0.014022 -0.020908              0.030566   \n",
       "avg_training_score           0.033200 -0.077603              0.073300   \n",
       "is_promoted                 -0.037664 -0.042689              0.167893   \n",
       "\n",
       "                      length_of_service  awards_won  avg_training_score  \\\n",
       "no_of_trainings               -0.077764   -0.014022            0.033200   \n",
       "age                            0.637573   -0.020908           -0.077603   \n",
       "previous_year_rating          -0.001156    0.030566            0.073300   \n",
       "length_of_service              1.000000   -0.051817           -0.057069   \n",
       "awards_won                    -0.051817    1.000000            0.072649   \n",
       "avg_training_score            -0.057069    0.072649            1.000000   \n",
       "is_promoted                   -0.031022    0.192659            0.183961   \n",
       "\n",
       "                      is_promoted  \n",
       "no_of_trainings         -0.037664  \n",
       "age                     -0.042689  \n",
       "previous_year_rating     0.167893  \n",
       "length_of_service       -0.031022  \n",
       "awards_won               0.192659  \n",
       "avg_training_score       0.183961  \n",
       "is_promoted              1.000000  "
      ]
     },
     "execution_count": 15,
     "metadata": {},
     "output_type": "execute_result"
    }
   ],
   "source": [
    "df.corr()"
   ]
  },
  {
   "cell_type": "code",
   "execution_count": 16,
   "id": "2c163d6b",
   "metadata": {},
   "outputs": [
    {
     "name": "stderr",
     "output_type": "stream",
     "text": [
      "<ipython-input-16-87f28fc312ec>:2: DeprecationWarning: `np.bool` is a deprecated alias for the builtin `bool`. To silence this warning, use `bool` by itself. Doing this will not modify any behavior and is safe. If you specifically wanted the numpy scalar type, use `np.bool_` here.\n",
      "Deprecated in NumPy 1.20; for more details and guidance: https://numpy.org/devdocs/release/1.20.0-notes.html#deprecations\n",
      "  mask = np.triu(np.ones_like(df.corr(), dtype=np.bool))\n"
     ]
    },
    {
     "data": {
      "image/png": "[encoded data removed]",
      "text/plain": [
       "<Figure size 1080x720 with 2 Axes>"
      ]
     },
     "metadata": {
      "needs_background": "light"
     },
     "output_type": "display_data"
    }
   ],
   "source": [
    "plt.figure(figsize= (15,10))\n",
    "mask = np.triu(np.ones_like(df.corr(), dtype=np.bool))\n",
    "HT=sns.heatmap(df.corr(), cmap=\"seismic\",mask=mask, annot=True, vmin=-1, vmax=1);\n",
    "HT.set_title('Correlation Heatmap', fontdict={'fontsize':18}, pad=16);"
   ]
  },
  {
   "cell_type": "code",
   "execution_count": 17,
   "id": "7ad24c71",
   "metadata": {},
   "outputs": [],
   "source": [
    "#parchart for Education"
   ]
  },
  {
   "cell_type": "code",
   "execution_count": 18,
   "id": "1cf5d533",
   "metadata": {},
   "outputs": [],
   "source": [
    "#parchart for Department"
   ]
  },
  {
   "cell_type": "code",
   "execution_count": null,
   "id": "f25275d1",
   "metadata": {},
   "outputs": [],
   "source": []
  },
  {
   "cell_type": "code",
   "execution_count": null,
   "id": "66925f53",
   "metadata": {},
   "outputs": [],
   "source": []
  },
  {
   "cell_type": "markdown",
   "id": "c5e5162a",
   "metadata": {},
   "source": [
    "# Pre-proccessing:"
   ]
  },
  {
   "cell_type": "code",
   "execution_count": 19,
   "id": "75f775c2",
   "metadata": {},
   "outputs": [
    {
     "data": {
      "text/html": [
       "<div>\n",
       "<style scoped>\n",
       "    .dataframe tbody tr th:only-of-type {\n",
       "        vertical-align: middle;\n",
       "    }\n",
       "\n",
       "    .dataframe tbody tr th {\n",
       "        vertical-align: top;\n",
       "    }\n",
       "\n",
       "    .dataframe thead th {\n",
       "        text-align: right;\n",
       "    }\n",
       "</style>\n",
       "<table border=\"1\" class=\"dataframe\">\n",
       "  <thead>\n",
       "    <tr style=\"text-align: right;\">\n",
       "      <th></th>\n",
       "      <th>no_of_trainings</th>\n",
       "      <th>age</th>\n",
       "      <th>previous_year_rating</th>\n",
       "      <th>length_of_service</th>\n",
       "      <th>awards_won</th>\n",
       "      <th>avg_training_score</th>\n",
       "      <th>is_promoted</th>\n",
       "      <th>department_Analytics</th>\n",
       "      <th>department_Finance</th>\n",
       "      <th>department_HR</th>\n",
       "      <th>...</th>\n",
       "      <th>department_Operations</th>\n",
       "      <th>department_Procurement</th>\n",
       "      <th>department_R&amp;D</th>\n",
       "      <th>department_Sales &amp; Marketing</th>\n",
       "      <th>department_Technology</th>\n",
       "      <th>education_Bachelor's</th>\n",
       "      <th>education_Below Secondary</th>\n",
       "      <th>education_Master's &amp; above</th>\n",
       "      <th>gender_f</th>\n",
       "      <th>gender_m</th>\n",
       "    </tr>\n",
       "  </thead>\n",
       "  <tbody>\n",
       "    <tr>\n",
       "      <th>0</th>\n",
       "      <td>1</td>\n",
       "      <td>35</td>\n",
       "      <td>5.0</td>\n",
       "      <td>8</td>\n",
       "      <td>0</td>\n",
       "      <td>49</td>\n",
       "      <td>0</td>\n",
       "      <td>0</td>\n",
       "      <td>0</td>\n",
       "      <td>0</td>\n",
       "      <td>...</td>\n",
       "      <td>0</td>\n",
       "      <td>0</td>\n",
       "      <td>0</td>\n",
       "      <td>1</td>\n",
       "      <td>0</td>\n",
       "      <td>0</td>\n",
       "      <td>0</td>\n",
       "      <td>1</td>\n",
       "      <td>1</td>\n",
       "      <td>0</td>\n",
       "    </tr>\n",
       "    <tr>\n",
       "      <th>1</th>\n",
       "      <td>1</td>\n",
       "      <td>30</td>\n",
       "      <td>5.0</td>\n",
       "      <td>4</td>\n",
       "      <td>0</td>\n",
       "      <td>60</td>\n",
       "      <td>0</td>\n",
       "      <td>0</td>\n",
       "      <td>0</td>\n",
       "      <td>0</td>\n",
       "      <td>...</td>\n",
       "      <td>1</td>\n",
       "      <td>0</td>\n",
       "      <td>0</td>\n",
       "      <td>0</td>\n",
       "      <td>0</td>\n",
       "      <td>1</td>\n",
       "      <td>0</td>\n",
       "      <td>0</td>\n",
       "      <td>0</td>\n",
       "      <td>1</td>\n",
       "    </tr>\n",
       "    <tr>\n",
       "      <th>2</th>\n",
       "      <td>1</td>\n",
       "      <td>34</td>\n",
       "      <td>3.0</td>\n",
       "      <td>7</td>\n",
       "      <td>0</td>\n",
       "      <td>50</td>\n",
       "      <td>0</td>\n",
       "      <td>0</td>\n",
       "      <td>0</td>\n",
       "      <td>0</td>\n",
       "      <td>...</td>\n",
       "      <td>0</td>\n",
       "      <td>0</td>\n",
       "      <td>0</td>\n",
       "      <td>1</td>\n",
       "      <td>0</td>\n",
       "      <td>1</td>\n",
       "      <td>0</td>\n",
       "      <td>0</td>\n",
       "      <td>0</td>\n",
       "      <td>1</td>\n",
       "    </tr>\n",
       "    <tr>\n",
       "      <th>3</th>\n",
       "      <td>2</td>\n",
       "      <td>39</td>\n",
       "      <td>1.0</td>\n",
       "      <td>10</td>\n",
       "      <td>0</td>\n",
       "      <td>50</td>\n",
       "      <td>0</td>\n",
       "      <td>0</td>\n",
       "      <td>0</td>\n",
       "      <td>0</td>\n",
       "      <td>...</td>\n",
       "      <td>0</td>\n",
       "      <td>0</td>\n",
       "      <td>0</td>\n",
       "      <td>1</td>\n",
       "      <td>0</td>\n",
       "      <td>1</td>\n",
       "      <td>0</td>\n",
       "      <td>0</td>\n",
       "      <td>0</td>\n",
       "      <td>1</td>\n",
       "    </tr>\n",
       "    <tr>\n",
       "      <th>4</th>\n",
       "      <td>1</td>\n",
       "      <td>45</td>\n",
       "      <td>3.0</td>\n",
       "      <td>2</td>\n",
       "      <td>0</td>\n",
       "      <td>73</td>\n",
       "      <td>0</td>\n",
       "      <td>0</td>\n",
       "      <td>0</td>\n",
       "      <td>0</td>\n",
       "      <td>...</td>\n",
       "      <td>0</td>\n",
       "      <td>0</td>\n",
       "      <td>0</td>\n",
       "      <td>0</td>\n",
       "      <td>1</td>\n",
       "      <td>1</td>\n",
       "      <td>0</td>\n",
       "      <td>0</td>\n",
       "      <td>0</td>\n",
       "      <td>1</td>\n",
       "    </tr>\n",
       "    <tr>\n",
       "      <th>...</th>\n",
       "      <td>...</td>\n",
       "      <td>...</td>\n",
       "      <td>...</td>\n",
       "      <td>...</td>\n",
       "      <td>...</td>\n",
       "      <td>...</td>\n",
       "      <td>...</td>\n",
       "      <td>...</td>\n",
       "      <td>...</td>\n",
       "      <td>...</td>\n",
       "      <td>...</td>\n",
       "      <td>...</td>\n",
       "      <td>...</td>\n",
       "      <td>...</td>\n",
       "      <td>...</td>\n",
       "      <td>...</td>\n",
       "      <td>...</td>\n",
       "      <td>...</td>\n",
       "      <td>...</td>\n",
       "      <td>...</td>\n",
       "      <td>...</td>\n",
       "    </tr>\n",
       "    <tr>\n",
       "      <th>54802</th>\n",
       "      <td>2</td>\n",
       "      <td>31</td>\n",
       "      <td>1.0</td>\n",
       "      <td>2</td>\n",
       "      <td>0</td>\n",
       "      <td>49</td>\n",
       "      <td>0</td>\n",
       "      <td>0</td>\n",
       "      <td>0</td>\n",
       "      <td>0</td>\n",
       "      <td>...</td>\n",
       "      <td>0</td>\n",
       "      <td>0</td>\n",
       "      <td>0</td>\n",
       "      <td>1</td>\n",
       "      <td>0</td>\n",
       "      <td>1</td>\n",
       "      <td>0</td>\n",
       "      <td>0</td>\n",
       "      <td>0</td>\n",
       "      <td>1</td>\n",
       "    </tr>\n",
       "    <tr>\n",
       "      <th>54803</th>\n",
       "      <td>1</td>\n",
       "      <td>48</td>\n",
       "      <td>3.0</td>\n",
       "      <td>17</td>\n",
       "      <td>0</td>\n",
       "      <td>78</td>\n",
       "      <td>0</td>\n",
       "      <td>0</td>\n",
       "      <td>0</td>\n",
       "      <td>0</td>\n",
       "      <td>...</td>\n",
       "      <td>0</td>\n",
       "      <td>0</td>\n",
       "      <td>0</td>\n",
       "      <td>0</td>\n",
       "      <td>1</td>\n",
       "      <td>1</td>\n",
       "      <td>0</td>\n",
       "      <td>0</td>\n",
       "      <td>0</td>\n",
       "      <td>1</td>\n",
       "    </tr>\n",
       "    <tr>\n",
       "      <th>54804</th>\n",
       "      <td>1</td>\n",
       "      <td>37</td>\n",
       "      <td>2.0</td>\n",
       "      <td>6</td>\n",
       "      <td>0</td>\n",
       "      <td>56</td>\n",
       "      <td>0</td>\n",
       "      <td>0</td>\n",
       "      <td>0</td>\n",
       "      <td>0</td>\n",
       "      <td>...</td>\n",
       "      <td>1</td>\n",
       "      <td>0</td>\n",
       "      <td>0</td>\n",
       "      <td>0</td>\n",
       "      <td>0</td>\n",
       "      <td>0</td>\n",
       "      <td>0</td>\n",
       "      <td>1</td>\n",
       "      <td>1</td>\n",
       "      <td>0</td>\n",
       "    </tr>\n",
       "    <tr>\n",
       "      <th>54805</th>\n",
       "      <td>1</td>\n",
       "      <td>27</td>\n",
       "      <td>5.0</td>\n",
       "      <td>3</td>\n",
       "      <td>0</td>\n",
       "      <td>79</td>\n",
       "      <td>0</td>\n",
       "      <td>1</td>\n",
       "      <td>0</td>\n",
       "      <td>0</td>\n",
       "      <td>...</td>\n",
       "      <td>0</td>\n",
       "      <td>0</td>\n",
       "      <td>0</td>\n",
       "      <td>0</td>\n",
       "      <td>0</td>\n",
       "      <td>1</td>\n",
       "      <td>0</td>\n",
       "      <td>0</td>\n",
       "      <td>0</td>\n",
       "      <td>1</td>\n",
       "    </tr>\n",
       "    <tr>\n",
       "      <th>54807</th>\n",
       "      <td>1</td>\n",
       "      <td>27</td>\n",
       "      <td>1.0</td>\n",
       "      <td>5</td>\n",
       "      <td>0</td>\n",
       "      <td>49</td>\n",
       "      <td>0</td>\n",
       "      <td>0</td>\n",
       "      <td>0</td>\n",
       "      <td>1</td>\n",
       "      <td>...</td>\n",
       "      <td>0</td>\n",
       "      <td>0</td>\n",
       "      <td>0</td>\n",
       "      <td>0</td>\n",
       "      <td>0</td>\n",
       "      <td>1</td>\n",
       "      <td>0</td>\n",
       "      <td>0</td>\n",
       "      <td>0</td>\n",
       "      <td>1</td>\n",
       "    </tr>\n",
       "  </tbody>\n",
       "</table>\n",
       "<p>45607 rows × 21 columns</p>\n",
       "</div>"
      ],
      "text/plain": [
       "       no_of_trainings  age  previous_year_rating  length_of_service  \\\n",
       "0                    1   35                   5.0                  8   \n",
       "1                    1   30                   5.0                  4   \n",
       "2                    1   34                   3.0                  7   \n",
       "3                    2   39                   1.0                 10   \n",
       "4                    1   45                   3.0                  2   \n",
       "...                ...  ...                   ...                ...   \n",
       "54802                2   31                   1.0                  2   \n",
       "54803                1   48                   3.0                 17   \n",
       "54804                1   37                   2.0                  6   \n",
       "54805                1   27                   5.0                  3   \n",
       "54807                1   27                   1.0                  5   \n",
       "\n",
       "       awards_won  avg_training_score  is_promoted  department_Analytics  \\\n",
       "0               0                  49            0                     0   \n",
       "1               0                  60            0                     0   \n",
       "2               0                  50            0                     0   \n",
       "3               0                  50            0                     0   \n",
       "4               0                  73            0                     0   \n",
       "...           ...                 ...          ...                   ...   \n",
       "54802           0                  49            0                     0   \n",
       "54803           0                  78            0                     0   \n",
       "54804           0                  56            0                     0   \n",
       "54805           0                  79            0                     1   \n",
       "54807           0                  49            0                     0   \n",
       "\n",
       "       department_Finance  department_HR  ...  department_Operations  \\\n",
       "0                       0              0  ...                      0   \n",
       "1                       0              0  ...                      1   \n",
       "2                       0              0  ...                      0   \n",
       "3                       0              0  ...                      0   \n",
       "4                       0              0  ...                      0   \n",
       "...                   ...            ...  ...                    ...   \n",
       "54802                   0              0  ...                      0   \n",
       "54803                   0              0  ...                      0   \n",
       "54804                   0              0  ...                      1   \n",
       "54805                   0              0  ...                      0   \n",
       "54807                   0              1  ...                      0   \n",
       "\n",
       "       department_Procurement  department_R&D  department_Sales & Marketing  \\\n",
       "0                           0               0                             1   \n",
       "1                           0               0                             0   \n",
       "2                           0               0                             1   \n",
       "3                           0               0                             1   \n",
       "4                           0               0                             0   \n",
       "...                       ...             ...                           ...   \n",
       "54802                       0               0                             1   \n",
       "54803                       0               0                             0   \n",
       "54804                       0               0                             0   \n",
       "54805                       0               0                             0   \n",
       "54807                       0               0                             0   \n",
       "\n",
       "       department_Technology  education_Bachelor's  education_Below Secondary  \\\n",
       "0                          0                     0                          0   \n",
       "1                          0                     1                          0   \n",
       "2                          0                     1                          0   \n",
       "3                          0                     1                          0   \n",
       "4                          1                     1                          0   \n",
       "...                      ...                   ...                        ...   \n",
       "54802                      0                     1                          0   \n",
       "54803                      1                     1                          0   \n",
       "54804                      0                     0                          0   \n",
       "54805                      0                     1                          0   \n",
       "54807                      0                     1                          0   \n",
       "\n",
       "       education_Master's & above  gender_f  gender_m  \n",
       "0                               1         1         0  \n",
       "1                               0         0         1  \n",
       "2                               0         0         1  \n",
       "3                               0         0         1  \n",
       "4                               0         0         1  \n",
       "...                           ...       ...       ...  \n",
       "54802                           0         0         1  \n",
       "54803                           0         0         1  \n",
       "54804                           1         1         0  \n",
       "54805                           0         0         1  \n",
       "54807                           0         0         1  \n",
       "\n",
       "[45607 rows x 21 columns]"
      ]
     },
     "execution_count": 19,
     "metadata": {},
     "output_type": "execute_result"
    }
   ],
   "source": [
    "df = pd.get_dummies(df) #convert all categorical data to numeric\n",
    "df"
   ]
  },
  {
   "cell_type": "code",
   "execution_count": null,
   "id": "e0300899",
   "metadata": {},
   "outputs": [],
   "source": []
  },
  {
   "cell_type": "markdown",
   "id": "1371fbef",
   "metadata": {},
   "source": [
    "# Split X & Y"
   ]
  },
  {
   "cell_type": "code",
   "execution_count": 20,
   "id": "fc05a81f",
   "metadata": {},
   "outputs": [],
   "source": [
    "X, y = df.drop('is_promoted',axis=1), df['is_promoted']"
   ]
  },
  {
   "cell_type": "code",
   "execution_count": 21,
   "id": "483175e5",
   "metadata": {},
   "outputs": [],
   "source": [
    "from sklearn.model_selection import train_test_split\n",
    "X_train, X_test, y_train, y_test = train_test_split(X, y, test_size=0.2, random_state=42)"
   ]
  },
  {
   "cell_type": "code",
   "execution_count": 22,
   "id": "a643fce7",
   "metadata": {},
   "outputs": [
    {
     "data": {
      "text/plain": [
       "no_of_trainings                    0\n",
       "age                                0\n",
       "previous_year_rating            1832\n",
       "length_of_service                  0\n",
       "awards_won                         0\n",
       "avg_training_score                 0\n",
       "department_Analytics               0\n",
       "department_Finance                 0\n",
       "department_HR                      0\n",
       "department_Legal                   0\n",
       "department_Operations              0\n",
       "department_Procurement             0\n",
       "department_R&D                     0\n",
       "department_Sales & Marketing       0\n",
       "department_Technology              0\n",
       "education_Bachelor's               0\n",
       "education_Below Secondary          0\n",
       "education_Master's & above         0\n",
       "gender_f                           0\n",
       "gender_m                           0\n",
       "dtype: int64"
      ]
     },
     "execution_count": 22,
     "metadata": {},
     "output_type": "execute_result"
    }
   ],
   "source": [
    "X_train.isna().sum()"
   ]
  },
  {
   "cell_type": "code",
   "execution_count": 23,
   "id": "27218610",
   "metadata": {},
   "outputs": [
    {
     "data": {
      "text/plain": [
       "no_of_trainings                   0\n",
       "age                               0\n",
       "previous_year_rating            447\n",
       "length_of_service                 0\n",
       "awards_won                        0\n",
       "avg_training_score                0\n",
       "department_Analytics              0\n",
       "department_Finance                0\n",
       "department_HR                     0\n",
       "department_Legal                  0\n",
       "department_Operations             0\n",
       "department_Procurement            0\n",
       "department_R&D                    0\n",
       "department_Sales & Marketing      0\n",
       "department_Technology             0\n",
       "education_Bachelor's              0\n",
       "education_Below Secondary         0\n",
       "education_Master's & above        0\n",
       "gender_f                          0\n",
       "gender_m                          0\n",
       "dtype: int64"
      ]
     },
     "execution_count": 23,
     "metadata": {},
     "output_type": "execute_result"
    }
   ],
   "source": [
    "X_test.isna().sum()"
   ]
  },
  {
   "cell_type": "code",
   "execution_count": 24,
   "id": "f7a4b0d0",
   "metadata": {},
   "outputs": [
    {
     "name": "stderr",
     "output_type": "stream",
     "text": [
      "C:\\Users\\shaha\\anaconda3\\lib\\site-packages\\pandas\\core\\series.py:4463: SettingWithCopyWarning: \n",
      "A value is trying to be set on a copy of a slice from a DataFrame\n",
      "\n",
      "See the caveats in the documentation: https://pandas.pydata.org/pandas-docs/stable/user_guide/indexing.html#returning-a-view-versus-a-copy\n",
      "  return super().fillna(\n"
     ]
    }
   ],
   "source": [
    "X_train['previous_year_rating'].fillna(value= X_train['previous_year_rating'].median(),inplace = True )\n",
    "X_test['previous_year_rating'].fillna(value= X_train['previous_year_rating'].median(),inplace = True )"
   ]
  },
  {
   "cell_type": "code",
   "execution_count": 25,
   "id": "088e85f1",
   "metadata": {},
   "outputs": [
    {
     "name": "stdout",
     "output_type": "stream",
     "text": [
      "<class 'pandas.core.frame.DataFrame'>\n",
      "Int64Index: 36485 entries, 4910 to 17485\n",
      "Data columns (total 20 columns):\n",
      " #   Column                        Non-Null Count  Dtype  \n",
      "---  ------                        --------------  -----  \n",
      " 0   no_of_trainings               36485 non-null  int64  \n",
      " 1   age                           36485 non-null  int64  \n",
      " 2   previous_year_rating          36485 non-null  float64\n",
      " 3   length_of_service             36485 non-null  int64  \n",
      " 4   awards_won                    36485 non-null  int64  \n",
      " 5   avg_training_score            36485 non-null  int64  \n",
      " 6   department_Analytics          36485 non-null  uint8  \n",
      " 7   department_Finance            36485 non-null  uint8  \n",
      " 8   department_HR                 36485 non-null  uint8  \n",
      " 9   department_Legal              36485 non-null  uint8  \n",
      " 10  department_Operations         36485 non-null  uint8  \n",
      " 11  department_Procurement        36485 non-null  uint8  \n",
      " 12  department_R&D                36485 non-null  uint8  \n",
      " 13  department_Sales & Marketing  36485 non-null  uint8  \n",
      " 14  department_Technology         36485 non-null  uint8  \n",
      " 15  education_Bachelor's          36485 non-null  uint8  \n",
      " 16  education_Below Secondary     36485 non-null  uint8  \n",
      " 17  education_Master's & above    36485 non-null  uint8  \n",
      " 18  gender_f                      36485 non-null  uint8  \n",
      " 19  gender_m                      36485 non-null  uint8  \n",
      "dtypes: float64(1), int64(5), uint8(14)\n",
      "memory usage: 2.4 MB\n"
     ]
    }
   ],
   "source": [
    "X_train.info()"
   ]
  },
  {
   "cell_type": "code",
   "execution_count": 26,
   "id": "cfcfa57c",
   "metadata": {},
   "outputs": [
    {
     "name": "stdout",
     "output_type": "stream",
     "text": [
      "<class 'pandas.core.frame.DataFrame'>\n",
      "Int64Index: 9122 entries, 6572 to 54800\n",
      "Data columns (total 20 columns):\n",
      " #   Column                        Non-Null Count  Dtype  \n",
      "---  ------                        --------------  -----  \n",
      " 0   no_of_trainings               9122 non-null   int64  \n",
      " 1   age                           9122 non-null   int64  \n",
      " 2   previous_year_rating          9122 non-null   float64\n",
      " 3   length_of_service             9122 non-null   int64  \n",
      " 4   awards_won                    9122 non-null   int64  \n",
      " 5   avg_training_score            9122 non-null   int64  \n",
      " 6   department_Analytics          9122 non-null   uint8  \n",
      " 7   department_Finance            9122 non-null   uint8  \n",
      " 8   department_HR                 9122 non-null   uint8  \n",
      " 9   department_Legal              9122 non-null   uint8  \n",
      " 10  department_Operations         9122 non-null   uint8  \n",
      " 11  department_Procurement        9122 non-null   uint8  \n",
      " 12  department_R&D                9122 non-null   uint8  \n",
      " 13  department_Sales & Marketing  9122 non-null   uint8  \n",
      " 14  department_Technology         9122 non-null   uint8  \n",
      " 15  education_Bachelor's          9122 non-null   uint8  \n",
      " 16  education_Below Secondary     9122 non-null   uint8  \n",
      " 17  education_Master's & above    9122 non-null   uint8  \n",
      " 18  gender_f                      9122 non-null   uint8  \n",
      " 19  gender_m                      9122 non-null   uint8  \n",
      "dtypes: float64(1), int64(5), uint8(14)\n",
      "memory usage: 623.6 KB\n"
     ]
    }
   ],
   "source": [
    "X_test.info()"
   ]
  },
  {
   "cell_type": "markdown",
   "id": "5392aa23",
   "metadata": {},
   "source": [
    "# KNN Model:"
   ]
  },
  {
   "cell_type": "markdown",
   "id": "5fd70a0a",
   "metadata": {},
   "source": [
    "### Now we try to use KNN model.."
   ]
  },
  {
   "cell_type": "code",
   "execution_count": 28,
   "id": "959a50d5",
   "metadata": {},
   "outputs": [
    {
     "data": {
      "text/plain": [
       "0    32867\n",
       "1     3618\n",
       "Name: is_promoted, dtype: int64"
      ]
     },
     "execution_count": 28,
     "metadata": {},
     "output_type": "execute_result"
    }
   ],
   "source": [
    "y_train.value_counts() #impalance"
   ]
  },
  {
   "cell_type": "code",
   "execution_count": 28,
   "id": "d77207ce",
   "metadata": {},
   "outputs": [],
   "source": [
    "import imblearn.over_sampling #To solve impalance\n",
    "\n",
    "n_pos = np.sum(y_train == 1)\n",
    "n_neg = np.sum(y_train == 0)\n",
    "ratio = {1 : n_pos * 9, 0 : n_neg} #duplicate (is_promoted when is positive (1)) \n",
    "\n",
    "ROS = imblearn.over_sampling.RandomOverSampler(sampling_strategy = ratio, random_state=42) # To duplicate small class\n",
    "\n",
    "X_tr_rs, y_tr_rs = ROS.fit_resample(X_train, y_train) #here duplicate is Done "
   ]
  },
  {
   "cell_type": "code",
   "execution_count": 29,
   "id": "cc790196",
   "metadata": {},
   "outputs": [
    {
     "data": {
      "text/plain": [
       "0    32867\n",
       "1    32562\n",
       "Name: is_promoted, dtype: int64"
      ]
     },
     "execution_count": 29,
     "metadata": {},
     "output_type": "execute_result"
    }
   ],
   "source": [
    "y_tr_rs.value_counts() #Now is palance"
   ]
  },
  {
   "cell_type": "markdown",
   "id": "6177d76f",
   "metadata": {},
   "source": [
    "### Another way to solve impalance"
   ]
  },
  {
   "cell_type": "code",
   "execution_count": 27,
   "id": "100e3711",
   "metadata": {},
   "outputs": [],
   "source": [
    "from imblearn.over_sampling import SMOTE\n",
    "\n",
    "oversample = SMOTE() \n",
    "X_train_smote, y_train_smote = oversample.fit_resample(X_train.astype('float'),y_train)"
   ]
  },
  {
   "cell_type": "code",
   "execution_count": 28,
   "id": "22ed99d3",
   "metadata": {},
   "outputs": [
    {
     "data": {
      "text/plain": [
       "0    32867\n",
       "1    32867\n",
       "Name: is_promoted, dtype: int64"
      ]
     },
     "execution_count": 28,
     "metadata": {},
     "output_type": "execute_result"
    }
   ],
   "source": [
    "y_train_smote.value_counts()#Now is palance"
   ]
  },
  {
   "cell_type": "markdown",
   "id": "5274398f",
   "metadata": {},
   "source": [
    "# Grid Search"
   ]
  },
  {
   "cell_type": "code",
   "execution_count": 30,
   "id": "f46c324d",
   "metadata": {},
   "outputs": [],
   "source": [
    "from sklearn.model_selection import cross_val_score\n",
    "from sklearn.model_selection import GridSearchCV\n",
    "\n",
    "# define the parameter values that should be searched\n",
    "k_range = list(range(1, 10))\n",
    "weight_options = ['uniform', 'distance']"
   ]
  },
  {
   "cell_type": "code",
   "execution_count": 31,
   "id": "b9b7314b",
   "metadata": {},
   "outputs": [],
   "source": [
    "# create a parameter grid: map the parameter names to the values that should be searched\n",
    "param_grid = dict(n_neighbors=k_range, weights=weight_options)"
   ]
  },
  {
   "cell_type": "code",
   "execution_count": null,
   "id": "4bf3c333",
   "metadata": {},
   "outputs": [],
   "source": [
    "#mymodel = KNeighborsClassifier()\n",
    "\n",
    "#param_grid = dict(n_neighbors=k_range, weights=weight_options)\n",
    " \n",
    "#grid = GridSearchCV(mymodel , param_grid, cv=10, scoring='accuracy')\n",
    "\n",
    "#grid.fit(X_train, y_train)\n",
    " \n",
    "    \n",
    "# هنا كان يشرح لي باترك ماعليكم من هالكود..    "
   ]
  },
  {
   "cell_type": "code",
   "execution_count": 33,
   "id": "4f1abbc0",
   "metadata": {},
   "outputs": [
    {
     "ename": "KeyboardInterrupt",
     "evalue": "",
     "output_type": "error",
     "traceback": [
      "\u001b[1;31m---------------------------------------------------------------------------\u001b[0m",
      "\u001b[1;31mKeyboardInterrupt\u001b[0m                         Traceback (most recent call last)",
      "\u001b[1;32m<ipython-input-33-3bc74f6ce9a6>\u001b[0m in \u001b[0;36m<module>\u001b[1;34m\u001b[0m\n\u001b[0;32m      1\u001b[0m \u001b[0mknn\u001b[0m \u001b[1;33m=\u001b[0m \u001b[0mKNeighborsClassifier\u001b[0m\u001b[1;33m(\u001b[0m\u001b[1;33m)\u001b[0m\u001b[1;33m\u001b[0m\u001b[1;33m\u001b[0m\u001b[0m\n\u001b[0;32m      2\u001b[0m \u001b[0mgrid\u001b[0m \u001b[1;33m=\u001b[0m \u001b[0mGridSearchCV\u001b[0m\u001b[1;33m(\u001b[0m\u001b[0mknn\u001b[0m\u001b[1;33m,\u001b[0m \u001b[0mparam_grid\u001b[0m\u001b[1;33m,\u001b[0m \u001b[0mcv\u001b[0m\u001b[1;33m=\u001b[0m\u001b[1;36m10\u001b[0m\u001b[1;33m,\u001b[0m \u001b[0mscoring\u001b[0m\u001b[1;33m=\u001b[0m\u001b[1;34m'accuracy'\u001b[0m\u001b[1;33m)\u001b[0m\u001b[1;33m\u001b[0m\u001b[1;33m\u001b[0m\u001b[0m\n\u001b[1;32m----> 3\u001b[1;33m \u001b[0mgrid\u001b[0m\u001b[1;33m.\u001b[0m\u001b[0mfit\u001b[0m\u001b[1;33m(\u001b[0m\u001b[0mX_train_smote\u001b[0m\u001b[1;33m,\u001b[0m \u001b[0my_train_smote\u001b[0m\u001b[1;33m)\u001b[0m\u001b[1;33m\u001b[0m\u001b[1;33m\u001b[0m\u001b[0m\n\u001b[0m",
      "\u001b[1;32m~\\anaconda3\\lib\\site-packages\\sklearn\\utils\\validation.py\u001b[0m in \u001b[0;36minner_f\u001b[1;34m(*args, **kwargs)\u001b[0m\n\u001b[0;32m     61\u001b[0m             \u001b[0mextra_args\u001b[0m \u001b[1;33m=\u001b[0m \u001b[0mlen\u001b[0m\u001b[1;33m(\u001b[0m\u001b[0margs\u001b[0m\u001b[1;33m)\u001b[0m \u001b[1;33m-\u001b[0m \u001b[0mlen\u001b[0m\u001b[1;33m(\u001b[0m\u001b[0mall_args\u001b[0m\u001b[1;33m)\u001b[0m\u001b[1;33m\u001b[0m\u001b[1;33m\u001b[0m\u001b[0m\n\u001b[0;32m     62\u001b[0m             \u001b[1;32mif\u001b[0m \u001b[0mextra_args\u001b[0m \u001b[1;33m<=\u001b[0m \u001b[1;36m0\u001b[0m\u001b[1;33m:\u001b[0m\u001b[1;33m\u001b[0m\u001b[1;33m\u001b[0m\u001b[0m\n\u001b[1;32m---> 63\u001b[1;33m                 \u001b[1;32mreturn\u001b[0m \u001b[0mf\u001b[0m\u001b[1;33m(\u001b[0m\u001b[1;33m*\u001b[0m\u001b[0margs\u001b[0m\u001b[1;33m,\u001b[0m \u001b[1;33m**\u001b[0m\u001b[0mkwargs\u001b[0m\u001b[1;33m)\u001b[0m\u001b[1;33m\u001b[0m\u001b[1;33m\u001b[0m\u001b[0m\n\u001b[0m\u001b[0;32m     64\u001b[0m \u001b[1;33m\u001b[0m\u001b[0m\n\u001b[0;32m     65\u001b[0m             \u001b[1;31m# extra_args > 0\u001b[0m\u001b[1;33m\u001b[0m\u001b[1;33m\u001b[0m\u001b[1;33m\u001b[0m\u001b[0m\n",
      "\u001b[1;32m~\\anaconda3\\lib\\site-packages\\sklearn\\model_selection\\_search.py\u001b[0m in \u001b[0;36mfit\u001b[1;34m(self, X, y, groups, **fit_params)\u001b[0m\n\u001b[0;32m    839\u001b[0m                 \u001b[1;32mreturn\u001b[0m \u001b[0mresults\u001b[0m\u001b[1;33m\u001b[0m\u001b[1;33m\u001b[0m\u001b[0m\n\u001b[0;32m    840\u001b[0m \u001b[1;33m\u001b[0m\u001b[0m\n\u001b[1;32m--> 841\u001b[1;33m             \u001b[0mself\u001b[0m\u001b[1;33m.\u001b[0m\u001b[0m_run_search\u001b[0m\u001b[1;33m(\u001b[0m\u001b[0mevaluate_candidates\u001b[0m\u001b[1;33m)\u001b[0m\u001b[1;33m\u001b[0m\u001b[1;33m\u001b[0m\u001b[0m\n\u001b[0m\u001b[0;32m    842\u001b[0m \u001b[1;33m\u001b[0m\u001b[0m\n\u001b[0;32m    843\u001b[0m             \u001b[1;31m# multimetric is determined here because in the case of a callable\u001b[0m\u001b[1;33m\u001b[0m\u001b[1;33m\u001b[0m\u001b[1;33m\u001b[0m\u001b[0m\n",
      "\u001b[1;32m~\\anaconda3\\lib\\site-packages\\sklearn\\model_selection\\_search.py\u001b[0m in \u001b[0;36m_run_search\u001b[1;34m(self, evaluate_candidates)\u001b[0m\n\u001b[0;32m   1286\u001b[0m     \u001b[1;32mdef\u001b[0m \u001b[0m_run_search\u001b[0m\u001b[1;33m(\u001b[0m\u001b[0mself\u001b[0m\u001b[1;33m,\u001b[0m \u001b[0mevaluate_candidates\u001b[0m\u001b[1;33m)\u001b[0m\u001b[1;33m:\u001b[0m\u001b[1;33m\u001b[0m\u001b[1;33m\u001b[0m\u001b[0m\n\u001b[0;32m   1287\u001b[0m         \u001b[1;34m\"\"\"Search all candidates in param_grid\"\"\"\u001b[0m\u001b[1;33m\u001b[0m\u001b[1;33m\u001b[0m\u001b[0m\n\u001b[1;32m-> 1288\u001b[1;33m         \u001b[0mevaluate_candidates\u001b[0m\u001b[1;33m(\u001b[0m\u001b[0mParameterGrid\u001b[0m\u001b[1;33m(\u001b[0m\u001b[0mself\u001b[0m\u001b[1;33m.\u001b[0m\u001b[0mparam_grid\u001b[0m\u001b[1;33m)\u001b[0m\u001b[1;33m)\u001b[0m\u001b[1;33m\u001b[0m\u001b[1;33m\u001b[0m\u001b[0m\n\u001b[0m\u001b[0;32m   1289\u001b[0m \u001b[1;33m\u001b[0m\u001b[0m\n\u001b[0;32m   1290\u001b[0m \u001b[1;33m\u001b[0m\u001b[0m\n",
      "\u001b[1;32m~\\anaconda3\\lib\\site-packages\\sklearn\\model_selection\\_search.py\u001b[0m in \u001b[0;36mevaluate_candidates\u001b[1;34m(candidate_params, cv, more_results)\u001b[0m\n\u001b[0;32m    793\u001b[0m                               n_splits, n_candidates, n_candidates * n_splits))\n\u001b[0;32m    794\u001b[0m \u001b[1;33m\u001b[0m\u001b[0m\n\u001b[1;32m--> 795\u001b[1;33m                 out = parallel(delayed(_fit_and_score)(clone(base_estimator),\n\u001b[0m\u001b[0;32m    796\u001b[0m                                                        \u001b[0mX\u001b[0m\u001b[1;33m,\u001b[0m \u001b[0my\u001b[0m\u001b[1;33m,\u001b[0m\u001b[1;33m\u001b[0m\u001b[1;33m\u001b[0m\u001b[0m\n\u001b[0;32m    797\u001b[0m                                                        \u001b[0mtrain\u001b[0m\u001b[1;33m=\u001b[0m\u001b[0mtrain\u001b[0m\u001b[1;33m,\u001b[0m \u001b[0mtest\u001b[0m\u001b[1;33m=\u001b[0m\u001b[0mtest\u001b[0m\u001b[1;33m,\u001b[0m\u001b[1;33m\u001b[0m\u001b[1;33m\u001b[0m\u001b[0m\n",
      "\u001b[1;32m~\\anaconda3\\lib\\site-packages\\joblib\\parallel.py\u001b[0m in \u001b[0;36m__call__\u001b[1;34m(self, iterable)\u001b[0m\n\u001b[0;32m   1042\u001b[0m                 \u001b[0mself\u001b[0m\u001b[1;33m.\u001b[0m\u001b[0m_iterating\u001b[0m \u001b[1;33m=\u001b[0m \u001b[0mself\u001b[0m\u001b[1;33m.\u001b[0m\u001b[0m_original_iterator\u001b[0m \u001b[1;32mis\u001b[0m \u001b[1;32mnot\u001b[0m \u001b[1;32mNone\u001b[0m\u001b[1;33m\u001b[0m\u001b[1;33m\u001b[0m\u001b[0m\n\u001b[0;32m   1043\u001b[0m \u001b[1;33m\u001b[0m\u001b[0m\n\u001b[1;32m-> 1044\u001b[1;33m             \u001b[1;32mwhile\u001b[0m \u001b[0mself\u001b[0m\u001b[1;33m.\u001b[0m\u001b[0mdispatch_one_batch\u001b[0m\u001b[1;33m(\u001b[0m\u001b[0miterator\u001b[0m\u001b[1;33m)\u001b[0m\u001b[1;33m:\u001b[0m\u001b[1;33m\u001b[0m\u001b[1;33m\u001b[0m\u001b[0m\n\u001b[0m\u001b[0;32m   1045\u001b[0m                 \u001b[1;32mpass\u001b[0m\u001b[1;33m\u001b[0m\u001b[1;33m\u001b[0m\u001b[0m\n\u001b[0;32m   1046\u001b[0m \u001b[1;33m\u001b[0m\u001b[0m\n",
      "\u001b[1;32m~\\anaconda3\\lib\\site-packages\\joblib\\parallel.py\u001b[0m in \u001b[0;36mdispatch_one_batch\u001b[1;34m(self, iterator)\u001b[0m\n\u001b[0;32m    857\u001b[0m                 \u001b[1;32mreturn\u001b[0m \u001b[1;32mFalse\u001b[0m\u001b[1;33m\u001b[0m\u001b[1;33m\u001b[0m\u001b[0m\n\u001b[0;32m    858\u001b[0m             \u001b[1;32melse\u001b[0m\u001b[1;33m:\u001b[0m\u001b[1;33m\u001b[0m\u001b[1;33m\u001b[0m\u001b[0m\n\u001b[1;32m--> 859\u001b[1;33m                 \u001b[0mself\u001b[0m\u001b[1;33m.\u001b[0m\u001b[0m_dispatch\u001b[0m\u001b[1;33m(\u001b[0m\u001b[0mtasks\u001b[0m\u001b[1;33m)\u001b[0m\u001b[1;33m\u001b[0m\u001b[1;33m\u001b[0m\u001b[0m\n\u001b[0m\u001b[0;32m    860\u001b[0m                 \u001b[1;32mreturn\u001b[0m \u001b[1;32mTrue\u001b[0m\u001b[1;33m\u001b[0m\u001b[1;33m\u001b[0m\u001b[0m\n\u001b[0;32m    861\u001b[0m \u001b[1;33m\u001b[0m\u001b[0m\n",
      "\u001b[1;32m~\\anaconda3\\lib\\site-packages\\joblib\\parallel.py\u001b[0m in \u001b[0;36m_dispatch\u001b[1;34m(self, batch)\u001b[0m\n\u001b[0;32m    775\u001b[0m         \u001b[1;32mwith\u001b[0m \u001b[0mself\u001b[0m\u001b[1;33m.\u001b[0m\u001b[0m_lock\u001b[0m\u001b[1;33m:\u001b[0m\u001b[1;33m\u001b[0m\u001b[1;33m\u001b[0m\u001b[0m\n\u001b[0;32m    776\u001b[0m             \u001b[0mjob_idx\u001b[0m \u001b[1;33m=\u001b[0m \u001b[0mlen\u001b[0m\u001b[1;33m(\u001b[0m\u001b[0mself\u001b[0m\u001b[1;33m.\u001b[0m\u001b[0m_jobs\u001b[0m\u001b[1;33m)\u001b[0m\u001b[1;33m\u001b[0m\u001b[1;33m\u001b[0m\u001b[0m\n\u001b[1;32m--> 777\u001b[1;33m             \u001b[0mjob\u001b[0m \u001b[1;33m=\u001b[0m \u001b[0mself\u001b[0m\u001b[1;33m.\u001b[0m\u001b[0m_backend\u001b[0m\u001b[1;33m.\u001b[0m\u001b[0mapply_async\u001b[0m\u001b[1;33m(\u001b[0m\u001b[0mbatch\u001b[0m\u001b[1;33m,\u001b[0m \u001b[0mcallback\u001b[0m\u001b[1;33m=\u001b[0m\u001b[0mcb\u001b[0m\u001b[1;33m)\u001b[0m\u001b[1;33m\u001b[0m\u001b[1;33m\u001b[0m\u001b[0m\n\u001b[0m\u001b[0;32m    778\u001b[0m             \u001b[1;31m# A job can complete so quickly than its callback is\u001b[0m\u001b[1;33m\u001b[0m\u001b[1;33m\u001b[0m\u001b[1;33m\u001b[0m\u001b[0m\n\u001b[0;32m    779\u001b[0m             \u001b[1;31m# called before we get here, causing self._jobs to\u001b[0m\u001b[1;33m\u001b[0m\u001b[1;33m\u001b[0m\u001b[1;33m\u001b[0m\u001b[0m\n",
      "\u001b[1;32m~\\anaconda3\\lib\\site-packages\\joblib\\_parallel_backends.py\u001b[0m in \u001b[0;36mapply_async\u001b[1;34m(self, func, callback)\u001b[0m\n\u001b[0;32m    206\u001b[0m     \u001b[1;32mdef\u001b[0m \u001b[0mapply_async\u001b[0m\u001b[1;33m(\u001b[0m\u001b[0mself\u001b[0m\u001b[1;33m,\u001b[0m \u001b[0mfunc\u001b[0m\u001b[1;33m,\u001b[0m \u001b[0mcallback\u001b[0m\u001b[1;33m=\u001b[0m\u001b[1;32mNone\u001b[0m\u001b[1;33m)\u001b[0m\u001b[1;33m:\u001b[0m\u001b[1;33m\u001b[0m\u001b[1;33m\u001b[0m\u001b[0m\n\u001b[0;32m    207\u001b[0m         \u001b[1;34m\"\"\"Schedule a func to be run\"\"\"\u001b[0m\u001b[1;33m\u001b[0m\u001b[1;33m\u001b[0m\u001b[0m\n\u001b[1;32m--> 208\u001b[1;33m         \u001b[0mresult\u001b[0m \u001b[1;33m=\u001b[0m \u001b[0mImmediateResult\u001b[0m\u001b[1;33m(\u001b[0m\u001b[0mfunc\u001b[0m\u001b[1;33m)\u001b[0m\u001b[1;33m\u001b[0m\u001b[1;33m\u001b[0m\u001b[0m\n\u001b[0m\u001b[0;32m    209\u001b[0m         \u001b[1;32mif\u001b[0m \u001b[0mcallback\u001b[0m\u001b[1;33m:\u001b[0m\u001b[1;33m\u001b[0m\u001b[1;33m\u001b[0m\u001b[0m\n\u001b[0;32m    210\u001b[0m             \u001b[0mcallback\u001b[0m\u001b[1;33m(\u001b[0m\u001b[0mresult\u001b[0m\u001b[1;33m)\u001b[0m\u001b[1;33m\u001b[0m\u001b[1;33m\u001b[0m\u001b[0m\n",
      "\u001b[1;32m~\\anaconda3\\lib\\site-packages\\joblib\\_parallel_backends.py\u001b[0m in \u001b[0;36m__init__\u001b[1;34m(self, batch)\u001b[0m\n\u001b[0;32m    570\u001b[0m         \u001b[1;31m# Don't delay the application, to avoid keeping the input\u001b[0m\u001b[1;33m\u001b[0m\u001b[1;33m\u001b[0m\u001b[1;33m\u001b[0m\u001b[0m\n\u001b[0;32m    571\u001b[0m         \u001b[1;31m# arguments in memory\u001b[0m\u001b[1;33m\u001b[0m\u001b[1;33m\u001b[0m\u001b[1;33m\u001b[0m\u001b[0m\n\u001b[1;32m--> 572\u001b[1;33m         \u001b[0mself\u001b[0m\u001b[1;33m.\u001b[0m\u001b[0mresults\u001b[0m \u001b[1;33m=\u001b[0m \u001b[0mbatch\u001b[0m\u001b[1;33m(\u001b[0m\u001b[1;33m)\u001b[0m\u001b[1;33m\u001b[0m\u001b[1;33m\u001b[0m\u001b[0m\n\u001b[0m\u001b[0;32m    573\u001b[0m \u001b[1;33m\u001b[0m\u001b[0m\n\u001b[0;32m    574\u001b[0m     \u001b[1;32mdef\u001b[0m \u001b[0mget\u001b[0m\u001b[1;33m(\u001b[0m\u001b[0mself\u001b[0m\u001b[1;33m)\u001b[0m\u001b[1;33m:\u001b[0m\u001b[1;33m\u001b[0m\u001b[1;33m\u001b[0m\u001b[0m\n",
      "\u001b[1;32m~\\anaconda3\\lib\\site-packages\\joblib\\parallel.py\u001b[0m in \u001b[0;36m__call__\u001b[1;34m(self)\u001b[0m\n\u001b[0;32m    260\u001b[0m         \u001b[1;31m# change the default number of processes to -1\u001b[0m\u001b[1;33m\u001b[0m\u001b[1;33m\u001b[0m\u001b[1;33m\u001b[0m\u001b[0m\n\u001b[0;32m    261\u001b[0m         \u001b[1;32mwith\u001b[0m \u001b[0mparallel_backend\u001b[0m\u001b[1;33m(\u001b[0m\u001b[0mself\u001b[0m\u001b[1;33m.\u001b[0m\u001b[0m_backend\u001b[0m\u001b[1;33m,\u001b[0m \u001b[0mn_jobs\u001b[0m\u001b[1;33m=\u001b[0m\u001b[0mself\u001b[0m\u001b[1;33m.\u001b[0m\u001b[0m_n_jobs\u001b[0m\u001b[1;33m)\u001b[0m\u001b[1;33m:\u001b[0m\u001b[1;33m\u001b[0m\u001b[1;33m\u001b[0m\u001b[0m\n\u001b[1;32m--> 262\u001b[1;33m             return [func(*args, **kwargs)\n\u001b[0m\u001b[0;32m    263\u001b[0m                     for func, args, kwargs in self.items]\n\u001b[0;32m    264\u001b[0m \u001b[1;33m\u001b[0m\u001b[0m\n",
      "\u001b[1;32m~\\anaconda3\\lib\\site-packages\\joblib\\parallel.py\u001b[0m in \u001b[0;36m<listcomp>\u001b[1;34m(.0)\u001b[0m\n\u001b[0;32m    260\u001b[0m         \u001b[1;31m# change the default number of processes to -1\u001b[0m\u001b[1;33m\u001b[0m\u001b[1;33m\u001b[0m\u001b[1;33m\u001b[0m\u001b[0m\n\u001b[0;32m    261\u001b[0m         \u001b[1;32mwith\u001b[0m \u001b[0mparallel_backend\u001b[0m\u001b[1;33m(\u001b[0m\u001b[0mself\u001b[0m\u001b[1;33m.\u001b[0m\u001b[0m_backend\u001b[0m\u001b[1;33m,\u001b[0m \u001b[0mn_jobs\u001b[0m\u001b[1;33m=\u001b[0m\u001b[0mself\u001b[0m\u001b[1;33m.\u001b[0m\u001b[0m_n_jobs\u001b[0m\u001b[1;33m)\u001b[0m\u001b[1;33m:\u001b[0m\u001b[1;33m\u001b[0m\u001b[1;33m\u001b[0m\u001b[0m\n\u001b[1;32m--> 262\u001b[1;33m             return [func(*args, **kwargs)\n\u001b[0m\u001b[0;32m    263\u001b[0m                     for func, args, kwargs in self.items]\n\u001b[0;32m    264\u001b[0m \u001b[1;33m\u001b[0m\u001b[0m\n",
      "\u001b[1;32m~\\anaconda3\\lib\\site-packages\\sklearn\\utils\\fixes.py\u001b[0m in \u001b[0;36m__call__\u001b[1;34m(self, *args, **kwargs)\u001b[0m\n\u001b[0;32m    220\u001b[0m     \u001b[1;32mdef\u001b[0m \u001b[0m__call__\u001b[0m\u001b[1;33m(\u001b[0m\u001b[0mself\u001b[0m\u001b[1;33m,\u001b[0m \u001b[1;33m*\u001b[0m\u001b[0margs\u001b[0m\u001b[1;33m,\u001b[0m \u001b[1;33m**\u001b[0m\u001b[0mkwargs\u001b[0m\u001b[1;33m)\u001b[0m\u001b[1;33m:\u001b[0m\u001b[1;33m\u001b[0m\u001b[1;33m\u001b[0m\u001b[0m\n\u001b[0;32m    221\u001b[0m         \u001b[1;32mwith\u001b[0m \u001b[0mconfig_context\u001b[0m\u001b[1;33m(\u001b[0m\u001b[1;33m**\u001b[0m\u001b[0mself\u001b[0m\u001b[1;33m.\u001b[0m\u001b[0mconfig\u001b[0m\u001b[1;33m)\u001b[0m\u001b[1;33m:\u001b[0m\u001b[1;33m\u001b[0m\u001b[1;33m\u001b[0m\u001b[0m\n\u001b[1;32m--> 222\u001b[1;33m             \u001b[1;32mreturn\u001b[0m \u001b[0mself\u001b[0m\u001b[1;33m.\u001b[0m\u001b[0mfunction\u001b[0m\u001b[1;33m(\u001b[0m\u001b[1;33m*\u001b[0m\u001b[0margs\u001b[0m\u001b[1;33m,\u001b[0m \u001b[1;33m**\u001b[0m\u001b[0mkwargs\u001b[0m\u001b[1;33m)\u001b[0m\u001b[1;33m\u001b[0m\u001b[1;33m\u001b[0m\u001b[0m\n\u001b[0m",
      "\u001b[1;32m~\\anaconda3\\lib\\site-packages\\sklearn\\model_selection\\_validation.py\u001b[0m in \u001b[0;36m_fit_and_score\u001b[1;34m(estimator, X, y, scorer, train, test, verbose, parameters, fit_params, return_train_score, return_parameters, return_n_test_samples, return_times, return_estimator, split_progress, candidate_progress, error_score)\u001b[0m\n\u001b[0;32m    618\u001b[0m \u001b[1;33m\u001b[0m\u001b[0m\n\u001b[0;32m    619\u001b[0m         \u001b[0mfit_time\u001b[0m \u001b[1;33m=\u001b[0m \u001b[0mtime\u001b[0m\u001b[1;33m.\u001b[0m\u001b[0mtime\u001b[0m\u001b[1;33m(\u001b[0m\u001b[1;33m)\u001b[0m \u001b[1;33m-\u001b[0m \u001b[0mstart_time\u001b[0m\u001b[1;33m\u001b[0m\u001b[1;33m\u001b[0m\u001b[0m\n\u001b[1;32m--> 620\u001b[1;33m         \u001b[0mtest_scores\u001b[0m \u001b[1;33m=\u001b[0m \u001b[0m_score\u001b[0m\u001b[1;33m(\u001b[0m\u001b[0mestimator\u001b[0m\u001b[1;33m,\u001b[0m \u001b[0mX_test\u001b[0m\u001b[1;33m,\u001b[0m \u001b[0my_test\u001b[0m\u001b[1;33m,\u001b[0m \u001b[0mscorer\u001b[0m\u001b[1;33m,\u001b[0m \u001b[0merror_score\u001b[0m\u001b[1;33m)\u001b[0m\u001b[1;33m\u001b[0m\u001b[1;33m\u001b[0m\u001b[0m\n\u001b[0m\u001b[0;32m    621\u001b[0m         \u001b[0mscore_time\u001b[0m \u001b[1;33m=\u001b[0m \u001b[0mtime\u001b[0m\u001b[1;33m.\u001b[0m\u001b[0mtime\u001b[0m\u001b[1;33m(\u001b[0m\u001b[1;33m)\u001b[0m \u001b[1;33m-\u001b[0m \u001b[0mstart_time\u001b[0m \u001b[1;33m-\u001b[0m \u001b[0mfit_time\u001b[0m\u001b[1;33m\u001b[0m\u001b[1;33m\u001b[0m\u001b[0m\n\u001b[0;32m    622\u001b[0m         \u001b[1;32mif\u001b[0m \u001b[0mreturn_train_score\u001b[0m\u001b[1;33m:\u001b[0m\u001b[1;33m\u001b[0m\u001b[1;33m\u001b[0m\u001b[0m\n",
      "\u001b[1;32m~\\anaconda3\\lib\\site-packages\\sklearn\\model_selection\\_validation.py\u001b[0m in \u001b[0;36m_score\u001b[1;34m(estimator, X_test, y_test, scorer, error_score)\u001b[0m\n\u001b[0;32m    672\u001b[0m             \u001b[0mscores\u001b[0m \u001b[1;33m=\u001b[0m \u001b[0mscorer\u001b[0m\u001b[1;33m(\u001b[0m\u001b[0mestimator\u001b[0m\u001b[1;33m,\u001b[0m \u001b[0mX_test\u001b[0m\u001b[1;33m)\u001b[0m\u001b[1;33m\u001b[0m\u001b[1;33m\u001b[0m\u001b[0m\n\u001b[0;32m    673\u001b[0m         \u001b[1;32melse\u001b[0m\u001b[1;33m:\u001b[0m\u001b[1;33m\u001b[0m\u001b[1;33m\u001b[0m\u001b[0m\n\u001b[1;32m--> 674\u001b[1;33m             \u001b[0mscores\u001b[0m \u001b[1;33m=\u001b[0m \u001b[0mscorer\u001b[0m\u001b[1;33m(\u001b[0m\u001b[0mestimator\u001b[0m\u001b[1;33m,\u001b[0m \u001b[0mX_test\u001b[0m\u001b[1;33m,\u001b[0m \u001b[0my_test\u001b[0m\u001b[1;33m)\u001b[0m\u001b[1;33m\u001b[0m\u001b[1;33m\u001b[0m\u001b[0m\n\u001b[0m\u001b[0;32m    675\u001b[0m     \u001b[1;32mexcept\u001b[0m \u001b[0mException\u001b[0m\u001b[1;33m:\u001b[0m\u001b[1;33m\u001b[0m\u001b[1;33m\u001b[0m\u001b[0m\n\u001b[0;32m    676\u001b[0m         \u001b[1;32mif\u001b[0m \u001b[0merror_score\u001b[0m \u001b[1;33m==\u001b[0m \u001b[1;34m'raise'\u001b[0m\u001b[1;33m:\u001b[0m\u001b[1;33m\u001b[0m\u001b[1;33m\u001b[0m\u001b[0m\n",
      "\u001b[1;32m~\\anaconda3\\lib\\site-packages\\sklearn\\metrics\\_scorer.py\u001b[0m in \u001b[0;36m__call__\u001b[1;34m(self, estimator, X, y_true, sample_weight)\u001b[0m\n\u001b[0;32m    197\u001b[0m             \u001b[0mScore\u001b[0m \u001b[0mfunction\u001b[0m \u001b[0mapplied\u001b[0m \u001b[0mto\u001b[0m \u001b[0mprediction\u001b[0m \u001b[0mof\u001b[0m \u001b[0mestimator\u001b[0m \u001b[0mon\u001b[0m \u001b[0mX\u001b[0m\u001b[1;33m.\u001b[0m\u001b[1;33m\u001b[0m\u001b[1;33m\u001b[0m\u001b[0m\n\u001b[0;32m    198\u001b[0m         \"\"\"\n\u001b[1;32m--> 199\u001b[1;33m         return self._score(partial(_cached_call, None), estimator, X, y_true,\n\u001b[0m\u001b[0;32m    200\u001b[0m                            sample_weight=sample_weight)\n\u001b[0;32m    201\u001b[0m \u001b[1;33m\u001b[0m\u001b[0m\n",
      "\u001b[1;32m~\\anaconda3\\lib\\site-packages\\sklearn\\metrics\\_scorer.py\u001b[0m in \u001b[0;36m_score\u001b[1;34m(self, method_caller, estimator, X, y_true, sample_weight)\u001b[0m\n\u001b[0;32m    234\u001b[0m         \"\"\"\n\u001b[0;32m    235\u001b[0m \u001b[1;33m\u001b[0m\u001b[0m\n\u001b[1;32m--> 236\u001b[1;33m         \u001b[0my_pred\u001b[0m \u001b[1;33m=\u001b[0m \u001b[0mmethod_caller\u001b[0m\u001b[1;33m(\u001b[0m\u001b[0mestimator\u001b[0m\u001b[1;33m,\u001b[0m \u001b[1;34m\"predict\"\u001b[0m\u001b[1;33m,\u001b[0m \u001b[0mX\u001b[0m\u001b[1;33m)\u001b[0m\u001b[1;33m\u001b[0m\u001b[1;33m\u001b[0m\u001b[0m\n\u001b[0m\u001b[0;32m    237\u001b[0m         \u001b[1;32mif\u001b[0m \u001b[0msample_weight\u001b[0m \u001b[1;32mis\u001b[0m \u001b[1;32mnot\u001b[0m \u001b[1;32mNone\u001b[0m\u001b[1;33m:\u001b[0m\u001b[1;33m\u001b[0m\u001b[1;33m\u001b[0m\u001b[0m\n\u001b[0;32m    238\u001b[0m             return self._sign * self._score_func(y_true, y_pred,\n",
      "\u001b[1;32m~\\anaconda3\\lib\\site-packages\\sklearn\\metrics\\_scorer.py\u001b[0m in \u001b[0;36m_cached_call\u001b[1;34m(cache, estimator, method, *args, **kwargs)\u001b[0m\n\u001b[0;32m     51\u001b[0m     \u001b[1;34m\"\"\"Call estimator with method and args and kwargs.\"\"\"\u001b[0m\u001b[1;33m\u001b[0m\u001b[1;33m\u001b[0m\u001b[0m\n\u001b[0;32m     52\u001b[0m     \u001b[1;32mif\u001b[0m \u001b[0mcache\u001b[0m \u001b[1;32mis\u001b[0m \u001b[1;32mNone\u001b[0m\u001b[1;33m:\u001b[0m\u001b[1;33m\u001b[0m\u001b[1;33m\u001b[0m\u001b[0m\n\u001b[1;32m---> 53\u001b[1;33m         \u001b[1;32mreturn\u001b[0m \u001b[0mgetattr\u001b[0m\u001b[1;33m(\u001b[0m\u001b[0mestimator\u001b[0m\u001b[1;33m,\u001b[0m \u001b[0mmethod\u001b[0m\u001b[1;33m)\u001b[0m\u001b[1;33m(\u001b[0m\u001b[1;33m*\u001b[0m\u001b[0margs\u001b[0m\u001b[1;33m,\u001b[0m \u001b[1;33m**\u001b[0m\u001b[0mkwargs\u001b[0m\u001b[1;33m)\u001b[0m\u001b[1;33m\u001b[0m\u001b[1;33m\u001b[0m\u001b[0m\n\u001b[0m\u001b[0;32m     54\u001b[0m \u001b[1;33m\u001b[0m\u001b[0m\n\u001b[0;32m     55\u001b[0m     \u001b[1;32mtry\u001b[0m\u001b[1;33m:\u001b[0m\u001b[1;33m\u001b[0m\u001b[1;33m\u001b[0m\u001b[0m\n",
      "\u001b[1;32m~\\anaconda3\\lib\\site-packages\\sklearn\\neighbors\\_classification.py\u001b[0m in \u001b[0;36mpredict\u001b[1;34m(self, X)\u001b[0m\n\u001b[0;32m    195\u001b[0m         \u001b[0mX\u001b[0m \u001b[1;33m=\u001b[0m \u001b[0mcheck_array\u001b[0m\u001b[1;33m(\u001b[0m\u001b[0mX\u001b[0m\u001b[1;33m,\u001b[0m \u001b[0maccept_sparse\u001b[0m\u001b[1;33m=\u001b[0m\u001b[1;34m'csr'\u001b[0m\u001b[1;33m)\u001b[0m\u001b[1;33m\u001b[0m\u001b[1;33m\u001b[0m\u001b[0m\n\u001b[0;32m    196\u001b[0m \u001b[1;33m\u001b[0m\u001b[0m\n\u001b[1;32m--> 197\u001b[1;33m         \u001b[0mneigh_dist\u001b[0m\u001b[1;33m,\u001b[0m \u001b[0mneigh_ind\u001b[0m \u001b[1;33m=\u001b[0m \u001b[0mself\u001b[0m\u001b[1;33m.\u001b[0m\u001b[0mkneighbors\u001b[0m\u001b[1;33m(\u001b[0m\u001b[0mX\u001b[0m\u001b[1;33m)\u001b[0m\u001b[1;33m\u001b[0m\u001b[1;33m\u001b[0m\u001b[0m\n\u001b[0m\u001b[0;32m    198\u001b[0m         \u001b[0mclasses_\u001b[0m \u001b[1;33m=\u001b[0m \u001b[0mself\u001b[0m\u001b[1;33m.\u001b[0m\u001b[0mclasses_\u001b[0m\u001b[1;33m\u001b[0m\u001b[1;33m\u001b[0m\u001b[0m\n\u001b[0;32m    199\u001b[0m         \u001b[0m_y\u001b[0m \u001b[1;33m=\u001b[0m \u001b[0mself\u001b[0m\u001b[1;33m.\u001b[0m\u001b[0m_y\u001b[0m\u001b[1;33m\u001b[0m\u001b[1;33m\u001b[0m\u001b[0m\n",
      "\u001b[1;32m~\\anaconda3\\lib\\site-packages\\sklearn\\neighbors\\_base.py\u001b[0m in \u001b[0;36mkneighbors\u001b[1;34m(self, X, n_neighbors, return_distance)\u001b[0m\n\u001b[0;32m    703\u001b[0m                 \u001b[0mkwds\u001b[0m \u001b[1;33m=\u001b[0m \u001b[0mself\u001b[0m\u001b[1;33m.\u001b[0m\u001b[0meffective_metric_params_\u001b[0m\u001b[1;33m\u001b[0m\u001b[1;33m\u001b[0m\u001b[0m\n\u001b[0;32m    704\u001b[0m \u001b[1;33m\u001b[0m\u001b[0m\n\u001b[1;32m--> 705\u001b[1;33m             chunked_results = list(pairwise_distances_chunked(\n\u001b[0m\u001b[0;32m    706\u001b[0m                 \u001b[0mX\u001b[0m\u001b[1;33m,\u001b[0m \u001b[0mself\u001b[0m\u001b[1;33m.\u001b[0m\u001b[0m_fit_X\u001b[0m\u001b[1;33m,\u001b[0m \u001b[0mreduce_func\u001b[0m\u001b[1;33m=\u001b[0m\u001b[0mreduce_func\u001b[0m\u001b[1;33m,\u001b[0m\u001b[1;33m\u001b[0m\u001b[1;33m\u001b[0m\u001b[0m\n\u001b[0;32m    707\u001b[0m                 \u001b[0mmetric\u001b[0m\u001b[1;33m=\u001b[0m\u001b[0mself\u001b[0m\u001b[1;33m.\u001b[0m\u001b[0meffective_metric_\u001b[0m\u001b[1;33m,\u001b[0m \u001b[0mn_jobs\u001b[0m\u001b[1;33m=\u001b[0m\u001b[0mn_jobs\u001b[0m\u001b[1;33m,\u001b[0m\u001b[1;33m\u001b[0m\u001b[1;33m\u001b[0m\u001b[0m\n",
      "\u001b[1;32m~\\anaconda3\\lib\\site-packages\\sklearn\\metrics\\pairwise.py\u001b[0m in \u001b[0;36mpairwise_distances_chunked\u001b[1;34m(X, Y, reduce_func, metric, n_jobs, working_memory, **kwds)\u001b[0m\n\u001b[0;32m   1621\u001b[0m         \u001b[1;32melse\u001b[0m\u001b[1;33m:\u001b[0m\u001b[1;33m\u001b[0m\u001b[1;33m\u001b[0m\u001b[0m\n\u001b[0;32m   1622\u001b[0m             \u001b[0mX_chunk\u001b[0m \u001b[1;33m=\u001b[0m \u001b[0mX\u001b[0m\u001b[1;33m[\u001b[0m\u001b[0msl\u001b[0m\u001b[1;33m]\u001b[0m\u001b[1;33m\u001b[0m\u001b[1;33m\u001b[0m\u001b[0m\n\u001b[1;32m-> 1623\u001b[1;33m         D_chunk = pairwise_distances(X_chunk, Y, metric=metric,\n\u001b[0m\u001b[0;32m   1624\u001b[0m                                      n_jobs=n_jobs, **kwds)\n\u001b[0;32m   1625\u001b[0m         if ((X is Y or Y is None)\n",
      "\u001b[1;32m~\\anaconda3\\lib\\site-packages\\sklearn\\utils\\validation.py\u001b[0m in \u001b[0;36minner_f\u001b[1;34m(*args, **kwargs)\u001b[0m\n\u001b[0;32m     61\u001b[0m             \u001b[0mextra_args\u001b[0m \u001b[1;33m=\u001b[0m \u001b[0mlen\u001b[0m\u001b[1;33m(\u001b[0m\u001b[0margs\u001b[0m\u001b[1;33m)\u001b[0m \u001b[1;33m-\u001b[0m \u001b[0mlen\u001b[0m\u001b[1;33m(\u001b[0m\u001b[0mall_args\u001b[0m\u001b[1;33m)\u001b[0m\u001b[1;33m\u001b[0m\u001b[1;33m\u001b[0m\u001b[0m\n\u001b[0;32m     62\u001b[0m             \u001b[1;32mif\u001b[0m \u001b[0mextra_args\u001b[0m \u001b[1;33m<=\u001b[0m \u001b[1;36m0\u001b[0m\u001b[1;33m:\u001b[0m\u001b[1;33m\u001b[0m\u001b[1;33m\u001b[0m\u001b[0m\n\u001b[1;32m---> 63\u001b[1;33m                 \u001b[1;32mreturn\u001b[0m \u001b[0mf\u001b[0m\u001b[1;33m(\u001b[0m\u001b[1;33m*\u001b[0m\u001b[0margs\u001b[0m\u001b[1;33m,\u001b[0m \u001b[1;33m**\u001b[0m\u001b[0mkwargs\u001b[0m\u001b[1;33m)\u001b[0m\u001b[1;33m\u001b[0m\u001b[1;33m\u001b[0m\u001b[0m\n\u001b[0m\u001b[0;32m     64\u001b[0m \u001b[1;33m\u001b[0m\u001b[0m\n\u001b[0;32m     65\u001b[0m             \u001b[1;31m# extra_args > 0\u001b[0m\u001b[1;33m\u001b[0m\u001b[1;33m\u001b[0m\u001b[1;33m\u001b[0m\u001b[0m\n",
      "\u001b[1;32m~\\anaconda3\\lib\\site-packages\\sklearn\\metrics\\pairwise.py\u001b[0m in \u001b[0;36mpairwise_distances\u001b[1;34m(X, Y, metric, n_jobs, force_all_finite, **kwds)\u001b[0m\n\u001b[0;32m   1788\u001b[0m         \u001b[0mfunc\u001b[0m \u001b[1;33m=\u001b[0m \u001b[0mpartial\u001b[0m\u001b[1;33m(\u001b[0m\u001b[0mdistance\u001b[0m\u001b[1;33m.\u001b[0m\u001b[0mcdist\u001b[0m\u001b[1;33m,\u001b[0m \u001b[0mmetric\u001b[0m\u001b[1;33m=\u001b[0m\u001b[0mmetric\u001b[0m\u001b[1;33m,\u001b[0m \u001b[1;33m**\u001b[0m\u001b[0mkwds\u001b[0m\u001b[1;33m)\u001b[0m\u001b[1;33m\u001b[0m\u001b[1;33m\u001b[0m\u001b[0m\n\u001b[0;32m   1789\u001b[0m \u001b[1;33m\u001b[0m\u001b[0m\n\u001b[1;32m-> 1790\u001b[1;33m     \u001b[1;32mreturn\u001b[0m \u001b[0m_parallel_pairwise\u001b[0m\u001b[1;33m(\u001b[0m\u001b[0mX\u001b[0m\u001b[1;33m,\u001b[0m \u001b[0mY\u001b[0m\u001b[1;33m,\u001b[0m \u001b[0mfunc\u001b[0m\u001b[1;33m,\u001b[0m \u001b[0mn_jobs\u001b[0m\u001b[1;33m,\u001b[0m \u001b[1;33m**\u001b[0m\u001b[0mkwds\u001b[0m\u001b[1;33m)\u001b[0m\u001b[1;33m\u001b[0m\u001b[1;33m\u001b[0m\u001b[0m\n\u001b[0m\u001b[0;32m   1791\u001b[0m \u001b[1;33m\u001b[0m\u001b[0m\n\u001b[0;32m   1792\u001b[0m \u001b[1;33m\u001b[0m\u001b[0m\n",
      "\u001b[1;32m~\\anaconda3\\lib\\site-packages\\sklearn\\metrics\\pairwise.py\u001b[0m in \u001b[0;36m_parallel_pairwise\u001b[1;34m(X, Y, func, n_jobs, **kwds)\u001b[0m\n\u001b[0;32m   1357\u001b[0m \u001b[1;33m\u001b[0m\u001b[0m\n\u001b[0;32m   1358\u001b[0m     \u001b[1;32mif\u001b[0m \u001b[0meffective_n_jobs\u001b[0m\u001b[1;33m(\u001b[0m\u001b[0mn_jobs\u001b[0m\u001b[1;33m)\u001b[0m \u001b[1;33m==\u001b[0m \u001b[1;36m1\u001b[0m\u001b[1;33m:\u001b[0m\u001b[1;33m\u001b[0m\u001b[1;33m\u001b[0m\u001b[0m\n\u001b[1;32m-> 1359\u001b[1;33m         \u001b[1;32mreturn\u001b[0m \u001b[0mfunc\u001b[0m\u001b[1;33m(\u001b[0m\u001b[0mX\u001b[0m\u001b[1;33m,\u001b[0m \u001b[0mY\u001b[0m\u001b[1;33m,\u001b[0m \u001b[1;33m**\u001b[0m\u001b[0mkwds\u001b[0m\u001b[1;33m)\u001b[0m\u001b[1;33m\u001b[0m\u001b[1;33m\u001b[0m\u001b[0m\n\u001b[0m\u001b[0;32m   1360\u001b[0m \u001b[1;33m\u001b[0m\u001b[0m\n\u001b[0;32m   1361\u001b[0m     \u001b[1;31m# enforce a threading backend to prevent data communication overhead\u001b[0m\u001b[1;33m\u001b[0m\u001b[1;33m\u001b[0m\u001b[1;33m\u001b[0m\u001b[0m\n",
      "\u001b[1;32m~\\anaconda3\\lib\\site-packages\\sklearn\\utils\\validation.py\u001b[0m in \u001b[0;36minner_f\u001b[1;34m(*args, **kwargs)\u001b[0m\n\u001b[0;32m     61\u001b[0m             \u001b[0mextra_args\u001b[0m \u001b[1;33m=\u001b[0m \u001b[0mlen\u001b[0m\u001b[1;33m(\u001b[0m\u001b[0margs\u001b[0m\u001b[1;33m)\u001b[0m \u001b[1;33m-\u001b[0m \u001b[0mlen\u001b[0m\u001b[1;33m(\u001b[0m\u001b[0mall_args\u001b[0m\u001b[1;33m)\u001b[0m\u001b[1;33m\u001b[0m\u001b[1;33m\u001b[0m\u001b[0m\n\u001b[0;32m     62\u001b[0m             \u001b[1;32mif\u001b[0m \u001b[0mextra_args\u001b[0m \u001b[1;33m<=\u001b[0m \u001b[1;36m0\u001b[0m\u001b[1;33m:\u001b[0m\u001b[1;33m\u001b[0m\u001b[1;33m\u001b[0m\u001b[0m\n\u001b[1;32m---> 63\u001b[1;33m                 \u001b[1;32mreturn\u001b[0m \u001b[0mf\u001b[0m\u001b[1;33m(\u001b[0m\u001b[1;33m*\u001b[0m\u001b[0margs\u001b[0m\u001b[1;33m,\u001b[0m \u001b[1;33m**\u001b[0m\u001b[0mkwargs\u001b[0m\u001b[1;33m)\u001b[0m\u001b[1;33m\u001b[0m\u001b[1;33m\u001b[0m\u001b[0m\n\u001b[0m\u001b[0;32m     64\u001b[0m \u001b[1;33m\u001b[0m\u001b[0m\n\u001b[0;32m     65\u001b[0m             \u001b[1;31m# extra_args > 0\u001b[0m\u001b[1;33m\u001b[0m\u001b[1;33m\u001b[0m\u001b[1;33m\u001b[0m\u001b[0m\n",
      "\u001b[1;32m~\\anaconda3\\lib\\site-packages\\sklearn\\metrics\\pairwise.py\u001b[0m in \u001b[0;36meuclidean_distances\u001b[1;34m(X, Y, Y_norm_squared, squared, X_norm_squared)\u001b[0m\n\u001b[0;32m    314\u001b[0m         \u001b[0mdistances\u001b[0m \u001b[1;33m+=\u001b[0m \u001b[0mXX\u001b[0m\u001b[1;33m\u001b[0m\u001b[1;33m\u001b[0m\u001b[0m\n\u001b[0;32m    315\u001b[0m         \u001b[0mdistances\u001b[0m \u001b[1;33m+=\u001b[0m \u001b[0mYY\u001b[0m\u001b[1;33m\u001b[0m\u001b[1;33m\u001b[0m\u001b[0m\n\u001b[1;32m--> 316\u001b[1;33m     \u001b[0mnp\u001b[0m\u001b[1;33m.\u001b[0m\u001b[0mmaximum\u001b[0m\u001b[1;33m(\u001b[0m\u001b[0mdistances\u001b[0m\u001b[1;33m,\u001b[0m \u001b[1;36m0\u001b[0m\u001b[1;33m,\u001b[0m \u001b[0mout\u001b[0m\u001b[1;33m=\u001b[0m\u001b[0mdistances\u001b[0m\u001b[1;33m)\u001b[0m\u001b[1;33m\u001b[0m\u001b[1;33m\u001b[0m\u001b[0m\n\u001b[0m\u001b[0;32m    317\u001b[0m \u001b[1;33m\u001b[0m\u001b[0m\n\u001b[0;32m    318\u001b[0m     \u001b[1;31m# Ensure that distances between vectors and themselves are set to 0.0.\u001b[0m\u001b[1;33m\u001b[0m\u001b[1;33m\u001b[0m\u001b[1;33m\u001b[0m\u001b[0m\n",
      "\u001b[1;31mKeyboardInterrupt\u001b[0m: "
     ]
    }
   ],
   "source": [
    "knn = KNeighborsClassifier()\n",
    "grid = GridSearchCV(knn, param_grid, cv=10, scoring='accuracy')\n",
    "grid.fit(X_train_smote, y_train_smote)"
   ]
  },
  {
   "cell_type": "code",
   "execution_count": 32,
   "id": "ad36af89",
   "metadata": {},
   "outputs": [
    {
     "name": "stdout",
     "output_type": "stream",
     "text": [
      "Best params:  {'n_neighbors': 9, 'weights': 'uniform'}\n",
      "Best estimator:  KNeighborsClassifier(n_neighbors=9)\n",
      "Best score:  0.9111963578702168\n"
     ]
    }
   ],
   "source": [
    "# examine the best model\n",
    "print(\"Best params: \", grid.best_params_)\n",
    "print(\"Best estimator: \", grid.best_estimator_)\n",
    "print(\"Best score: \", grid.best_score_)"
   ]
  },
  {
   "cell_type": "code",
   "execution_count": 34,
   "id": "3b0b070b",
   "metadata": {},
   "outputs": [],
   "source": [
    "#knn.predict() "
   ]
  },
  {
   "cell_type": "markdown",
   "id": "b6d7ad83",
   "metadata": {},
   "source": [
    "# KNN.."
   ]
  },
  {
   "cell_type": "markdown",
   "id": "62a296a8",
   "metadata": {},
   "source": [
    "### After choose best barameter"
   ]
  },
  {
   "cell_type": "code",
   "execution_count": 34,
   "id": "125c820f",
   "metadata": {},
   "outputs": [
    {
     "data": {
      "text/plain": [
       "0.8774302491861138"
      ]
     },
     "execution_count": 34,
     "metadata": {},
     "output_type": "execute_result"
    }
   ],
   "source": [
    "knn1 = KNeighborsClassifier(n_neighbors=9, weights='uniform') #After do palance\n",
    "knn1.fit(X_train_smote, y_train_smote)\n",
    "knn1.score(X_train_smote, y_train_smote)"
   ]
  },
  {
   "cell_type": "code",
   "execution_count": 35,
   "id": "83ce3e2f",
   "metadata": {},
   "outputs": [
    {
     "data": {
      "text/plain": [
       "0.688007016005262"
      ]
     },
     "execution_count": 35,
     "metadata": {},
     "output_type": "execute_result"
    }
   ],
   "source": [
    "knn1.score(X_test, y_test) # overfitting!!! use another model or change parameters"
   ]
  },
  {
   "cell_type": "code",
   "execution_count": 36,
   "id": "621236ad",
   "metadata": {},
   "outputs": [
    {
     "data": {
      "image/png": "[encoded data removed]",
      "text/plain": [
       "<Figure size 900x600 with 2 Axes>"
      ]
     },
     "metadata": {
      "needs_background": "light"
     },
     "output_type": "display_data"
    }
   ],
   "source": [
    "from sklearn.metrics import confusion_matrix\n",
    "logit_confusion = confusion_matrix(y_test, knn1.predict(X_test))\n",
    "plt.figure(dpi=150)\n",
    "sns.heatmap(logit_confusion, annot=True, square=True, fmt = 'g')\n",
    "           \n",
    "plt.xlabel('Predicted')\n",
    "plt.ylabel('Actual')\n",
    "plt.title('KNN regression confusion matrix');"
   ]
  },
  {
   "cell_type": "markdown",
   "id": "621da980",
   "metadata": {},
   "source": [
    "# Random Forest.."
   ]
  },
  {
   "cell_type": "code",
   "execution_count": null,
   "id": "65048730",
   "metadata": {},
   "outputs": [],
   "source": [
    "from sklearn.ensemble import RandomForestClassifier\n",
    "rfc=RandomForestClassifier(random_state=42)\n",
    "\n",
    "param_grid = { \n",
    "    'n_estimators': [200, 500],\n",
    "    'max_features': ['auto', 'sqrt', 'log2'],\n",
    "    'max_depth' : [4,5,6,7,8],\n",
    "    'criterion' :['gini', 'entropy']\n",
    "}\n",
    "\n",
    "CV_rfc = GridSearchCV(estimator=rfc, param_grid=param_grid, cv= 5)\n",
    "CV_rfc.fit(X_train_smote, y_train_smote)"
   ]
  },
  {
   "cell_type": "code",
   "execution_count": null,
   "id": "e8927fe6",
   "metadata": {},
   "outputs": [],
   "source": [
    "CV_rfc.best_params_"
   ]
  },
  {
   "cell_type": "code",
   "execution_count": null,
   "id": "ec7998d5",
   "metadata": {},
   "outputs": [],
   "source": [
    "rfc1=RandomForestClassifier(random_state=42, max_features='auto', n_estimators= 200, max_depth=8, criterion='gini')\n",
    "rfc1.fit(X_train_smote, y_train_smote)\n",
    "pred=rfc1.predict(x_test)\n",
    "print(\"Accuracy for Random Forest on CV data: \",accuracy_score(y_test,pred))"
   ]
  },
  {
   "cell_type": "markdown",
   "id": "8e40c56b",
   "metadata": {},
   "source": [
    "# LOG"
   ]
  },
  {
   "cell_type": "code",
   "execution_count": 30,
   "id": "0199c1bc",
   "metadata": {},
   "outputs": [
    {
     "name": "stderr",
     "output_type": "stream",
     "text": [
      "C:\\Users\\shaha\\anaconda3\\lib\\site-packages\\sklearn\\linear_model\\_logistic.py:763: ConvergenceWarning: lbfgs failed to converge (status=1):\n",
      "STOP: TOTAL NO. of ITERATIONS REACHED LIMIT.\n",
      "\n",
      "Increase the number of iterations (max_iter) or scale the data as shown in:\n",
      "    https://scikit-learn.org/stable/modules/preprocessing.html\n",
      "Please also refer to the documentation for alternative solver options:\n",
      "    https://scikit-learn.org/stable/modules/linear_model.html#logistic-regression\n",
      "  n_iter_i = _check_optimize_result(\n"
     ]
    }
   ],
   "source": [
    "from sklearn.linear_model import LogisticRegression\n",
    "\n",
    "Mymodel = LogisticRegression(solver = 'lbfgs')\n",
    "Mymodel.fit(X_train_smote, y_train_smote)\n",
    "\n",
    "train_pred_sm = Mymodel.predict(X_train_smote)\n",
    "test_pred_sm = Mymodel.predict(X_test)"
   ]
  },
  {
   "cell_type": "code",
   "execution_count": 31,
   "id": "2a55e216",
   "metadata": {},
   "outputs": [
    {
     "name": "stdout",
     "output_type": "stream",
     "text": [
      "Accuracy score for Training Dataset =  0.7058599811360939\n",
      "Accuracy score for Testing Dataset =  0.7171672878754659\n"
     ]
    }
   ],
   "source": [
    "from sklearn.metrics import accuracy_score\n",
    "print('Accuracy score for Training Dataset = ', accuracy_score(train_pred_sm, y_train_smote))\n",
    "print('Accuracy score for Testing Dataset = ', accuracy_score(test_pred_sm, y_test))"
   ]
  },
  {
   "cell_type": "code",
   "execution_count": 32,
   "id": "3e7c1b96",
   "metadata": {},
   "outputs": [
    {
     "data": {
      "image/png": "[encoded data removed]",
      "text/plain": [
       "<Figure size 900x600 with 2 Axes>"
      ]
     },
     "metadata": {
      "needs_background": "light"
     },
     "output_type": "display_data"
    }
   ],
   "source": [
    "from sklearn.metrics import confusion_matrix\n",
    "logit_confusion = confusion_matrix(y_test, Mymodel.predict(X_test))\n",
    "plt.figure(dpi=150)\n",
    "sns.heatmap(logit_confusion, annot=True, square=True, fmt = 'g')\n",
    "           \n",
    "plt.xlabel('Predicted')\n",
    "plt.ylabel('Actual')\n",
    "plt.title('Logistic regression confusion matrix');"
   ]
  },
  {
   "cell_type": "markdown",
   "id": "796b4565",
   "metadata": {},
   "source": [
    "# SVM"
   ]
  },
  {
   "cell_type": "code",
   "execution_count": 31,
   "id": "0d3890c8",
   "metadata": {},
   "outputs": [],
   "source": [
    "svc1=SVC() #with default hyperparameters(C = 1)\n",
    "\n",
    "svc1.fit(X_train_smote,y_train_smote)\n",
    "y_pred=svc.predict(X_test)\n"
   ]
  },
  {
   "cell_type": "code",
   "execution_count": 32,
   "id": "7f9d45a1",
   "metadata": {},
   "outputs": [
    {
     "data": {
      "text/plain": [
       "0.6860337645253234"
      ]
     },
     "execution_count": 32,
     "metadata": {},
     "output_type": "execute_result"
    }
   ],
   "source": [
    "accuracy_score(y_test, y_pred)"
   ]
  },
  {
   "cell_type": "code",
   "execution_count": 35,
   "id": "9d22d34c",
   "metadata": {},
   "outputs": [
    {
     "data": {
      "text/plain": [
       "0.7877658408243806"
      ]
     },
     "execution_count": 35,
     "metadata": {},
     "output_type": "execute_result"
    }
   ],
   "source": [
    "svc2=SVC(C=100.0) #with hyperparameters(C = 100)\n",
    "\n",
    "svc2.fit(X_train_smote,y_train_smote)\n",
    "y_pred2=svc2.predict(X_test)\n",
    "\n",
    "accuracy_score(y_test, y_pred2)"
   ]
  },
  {
   "cell_type": "code",
   "execution_count": 43,
   "id": "f8f3a1f9",
   "metadata": {},
   "outputs": [
    {
     "data": {
      "text/plain": [
       "0.8092523569392677"
      ]
     },
     "execution_count": 43,
     "metadata": {},
     "output_type": "execute_result"
    }
   ],
   "source": [
    "svc3=SVC(C=1000.0) #with hyperparameters(C = 1000)\n",
    "\n",
    "svc3.fit(X_train_smote,y_train_smote)\n",
    "y_pred=svc3.predict(X_test)\n",
    "\n",
    "accuracy_score(y_test, y_pred)"
   ]
  },
  {
   "cell_type": "code",
   "execution_count": null,
   "id": "ae93005d",
   "metadata": {},
   "outputs": [],
   "source": [
    "linear_svc=SVC(kernel='linear', C=1.0) #Linear kernal\n",
    "\n",
    "linear_svc.fit(X_train_smote,y_train_smote)\n",
    "y_pred_test=linear_svc.predict(X_test)\n",
    "\n",
    "accuracy_score(y_test, y_pred_test)"
   ]
  },
  {
   "cell_type": "code",
   "execution_count": null,
   "id": "6c532960",
   "metadata": {},
   "outputs": [],
   "source": [
    "poly_svc=SVC(kernel='poly', degree = 2) #Polynomial kernal\n",
    "\n",
    "poly_svc.fit(X_train_smote,y_train_smote)\n",
    "y_pred_poly=poly_svc.predict(X_test)\n",
    "\n",
    "accuracy_score(y_test, y_pred_poly)"
   ]
  },
  {
   "cell_type": "code",
   "execution_count": null,
   "id": "e015417f",
   "metadata": {},
   "outputs": [],
   "source": [
    "rbf_svc=SVC(kernel='rbf') #RBF(Gaussian)kernal\n",
    "\n",
    "rbf_svc.fit(X_train_smote,y_train_smote)\n",
    "y_pred_rbf=rbf_svc.predict(X_test)\n",
    "\n",
    "accuracy_score(y_test, y_pred_rbf)"
   ]
  },
  {
   "cell_type": "code",
   "execution_count": null,
   "id": "a380fde6",
   "metadata": {},
   "outputs": [],
   "source": [
    "y_pred_train = linear_svc.predict(X_train_smote)\n",
    "accuracy_score(y_train_smote, y_pred_train)"
   ]
  },
  {
   "cell_type": "markdown",
   "id": "257045e7",
   "metadata": {},
   "source": [
    "# SVM after Scalar"
   ]
  },
  {
   "cell_type": "code",
   "execution_count": 29,
   "id": "64da78f5",
   "metadata": {},
   "outputs": [],
   "source": [
    "cols = X_train.columns"
   ]
  },
  {
   "cell_type": "code",
   "execution_count": 30,
   "id": "7a8428eb",
   "metadata": {},
   "outputs": [],
   "source": [
    "from sklearn.preprocessing import StandardScaler\n",
    "\n",
    "scaler = StandardScaler()\n",
    "\n",
    "X_train_Sc = scaler.fit_transform(X_train_smote)\n",
    "\n",
    "X_test_Sc = scaler.transform(X_test)"
   ]
  },
  {
   "cell_type": "code",
   "execution_count": 31,
   "id": "bf1f6101",
   "metadata": {},
   "outputs": [],
   "source": [
    "X_train_Sc = pd.DataFrame(X_train_Sc, columns=[cols])"
   ]
  },
  {
   "cell_type": "code",
   "execution_count": 32,
   "id": "ed692ece",
   "metadata": {},
   "outputs": [],
   "source": [
    "X_test_Sc = pd.DataFrame(X_test_Sc, columns=[cols])"
   ]
  },
  {
   "cell_type": "code",
   "execution_count": 33,
   "id": "10cc6cc5",
   "metadata": {},
   "outputs": [
    {
     "data": {
      "text/html": [
       "<div>\n",
       "<style scoped>\n",
       "    .dataframe tbody tr th:only-of-type {\n",
       "        vertical-align: middle;\n",
       "    }\n",
       "\n",
       "    .dataframe tbody tr th {\n",
       "        vertical-align: top;\n",
       "    }\n",
       "\n",
       "    .dataframe thead tr th {\n",
       "        text-align: left;\n",
       "    }\n",
       "</style>\n",
       "<table border=\"1\" class=\"dataframe\">\n",
       "  <thead>\n",
       "    <tr>\n",
       "      <th></th>\n",
       "      <th>no_of_trainings</th>\n",
       "      <th>age</th>\n",
       "      <th>previous_year_rating</th>\n",
       "      <th>length_of_service</th>\n",
       "      <th>awards_won</th>\n",
       "      <th>avg_training_score</th>\n",
       "      <th>department_Analytics</th>\n",
       "      <th>department_Finance</th>\n",
       "      <th>department_HR</th>\n",
       "      <th>department_Legal</th>\n",
       "      <th>department_Operations</th>\n",
       "      <th>department_Procurement</th>\n",
       "      <th>department_R&amp;D</th>\n",
       "      <th>department_Sales &amp; Marketing</th>\n",
       "      <th>department_Technology</th>\n",
       "      <th>education_Bachelor's</th>\n",
       "      <th>education_Below Secondary</th>\n",
       "      <th>education_Master's &amp; above</th>\n",
       "      <th>gender_f</th>\n",
       "      <th>gender_m</th>\n",
       "    </tr>\n",
       "  </thead>\n",
       "  <tbody>\n",
       "    <tr>\n",
       "      <th>count</th>\n",
       "      <td>6.573400e+04</td>\n",
       "      <td>6.573400e+04</td>\n",
       "      <td>6.573400e+04</td>\n",
       "      <td>6.573400e+04</td>\n",
       "      <td>6.573400e+04</td>\n",
       "      <td>6.573400e+04</td>\n",
       "      <td>6.573400e+04</td>\n",
       "      <td>6.573400e+04</td>\n",
       "      <td>6.573400e+04</td>\n",
       "      <td>6.573400e+04</td>\n",
       "      <td>6.573400e+04</td>\n",
       "      <td>6.573400e+04</td>\n",
       "      <td>6.573400e+04</td>\n",
       "      <td>6.573400e+04</td>\n",
       "      <td>6.573400e+04</td>\n",
       "      <td>6.573400e+04</td>\n",
       "      <td>6.573400e+04</td>\n",
       "      <td>6.573400e+04</td>\n",
       "      <td>6.573400e+04</td>\n",
       "      <td>6.573400e+04</td>\n",
       "    </tr>\n",
       "    <tr>\n",
       "      <th>mean</th>\n",
       "      <td>-4.818007e-14</td>\n",
       "      <td>-3.234500e-15</td>\n",
       "      <td>9.293280e-14</td>\n",
       "      <td>-1.822216e-15</td>\n",
       "      <td>-1.019453e-13</td>\n",
       "      <td>-3.682355e-15</td>\n",
       "      <td>-3.841834e-15</td>\n",
       "      <td>-4.653380e-15</td>\n",
       "      <td>-3.714146e-14</td>\n",
       "      <td>-1.506015e-14</td>\n",
       "      <td>1.314487e-14</td>\n",
       "      <td>2.363101e-15</td>\n",
       "      <td>-1.472528e-14</td>\n",
       "      <td>3.034378e-15</td>\n",
       "      <td>1.664492e-15</td>\n",
       "      <td>-4.156410e-15</td>\n",
       "      <td>1.364766e-15</td>\n",
       "      <td>-4.211571e-15</td>\n",
       "      <td>-6.466969e-15</td>\n",
       "      <td>6.310956e-15</td>\n",
       "    </tr>\n",
       "    <tr>\n",
       "      <th>std</th>\n",
       "      <td>1.000008e+00</td>\n",
       "      <td>1.000008e+00</td>\n",
       "      <td>1.000008e+00</td>\n",
       "      <td>1.000008e+00</td>\n",
       "      <td>1.000008e+00</td>\n",
       "      <td>1.000008e+00</td>\n",
       "      <td>1.000008e+00</td>\n",
       "      <td>1.000008e+00</td>\n",
       "      <td>1.000008e+00</td>\n",
       "      <td>1.000008e+00</td>\n",
       "      <td>1.000008e+00</td>\n",
       "      <td>1.000008e+00</td>\n",
       "      <td>1.000008e+00</td>\n",
       "      <td>1.000008e+00</td>\n",
       "      <td>1.000008e+00</td>\n",
       "      <td>1.000008e+00</td>\n",
       "      <td>1.000008e+00</td>\n",
       "      <td>1.000008e+00</td>\n",
       "      <td>1.000008e+00</td>\n",
       "      <td>1.000008e+00</td>\n",
       "    </tr>\n",
       "    <tr>\n",
       "      <th>min</th>\n",
       "      <td>-4.230326e-01</td>\n",
       "      <td>-2.042333e+00</td>\n",
       "      <td>-2.231757e+00</td>\n",
       "      <td>-1.199146e+00</td>\n",
       "      <td>-2.893822e-01</td>\n",
       "      <td>-1.966950e+00</td>\n",
       "      <td>-3.455411e-01</td>\n",
       "      <td>-2.343421e-01</td>\n",
       "      <td>-2.047722e-01</td>\n",
       "      <td>-1.347355e-01</td>\n",
       "      <td>-5.490326e-01</td>\n",
       "      <td>-4.307007e-01</td>\n",
       "      <td>-1.386196e-01</td>\n",
       "      <td>-6.178326e-01</td>\n",
       "      <td>-4.404380e-01</td>\n",
       "      <td>-1.465127e+00</td>\n",
       "      <td>-1.230637e-01</td>\n",
       "      <td>-7.117254e-01</td>\n",
       "      <td>-7.035270e-01</td>\n",
       "      <td>-1.554842e+00</td>\n",
       "    </tr>\n",
       "    <tr>\n",
       "      <th>25%</th>\n",
       "      <td>-4.230326e-01</td>\n",
       "      <td>-6.960201e-01</td>\n",
       "      <td>-5.131867e-01</td>\n",
       "      <td>-7.217385e-01</td>\n",
       "      <td>-2.893822e-01</td>\n",
       "      <td>-8.537810e-01</td>\n",
       "      <td>-3.455411e-01</td>\n",
       "      <td>-2.343421e-01</td>\n",
       "      <td>-2.047722e-01</td>\n",
       "      <td>-1.347355e-01</td>\n",
       "      <td>-5.490326e-01</td>\n",
       "      <td>-4.307007e-01</td>\n",
       "      <td>-1.386196e-01</td>\n",
       "      <td>-6.178326e-01</td>\n",
       "      <td>-4.404380e-01</td>\n",
       "      <td>-1.465127e+00</td>\n",
       "      <td>-1.230637e-01</td>\n",
       "      <td>-7.117254e-01</td>\n",
       "      <td>-7.035270e-01</td>\n",
       "      <td>-1.554842e+00</td>\n",
       "    </tr>\n",
       "    <tr>\n",
       "      <th>50%</th>\n",
       "      <td>-4.230326e-01</td>\n",
       "      <td>-1.574948e-01</td>\n",
       "      <td>-9.093490e-02</td>\n",
       "      <td>-2.443309e-01</td>\n",
       "      <td>-2.893822e-01</td>\n",
       "      <td>-1.580502e-01</td>\n",
       "      <td>-3.455411e-01</td>\n",
       "      <td>-2.343421e-01</td>\n",
       "      <td>-2.047722e-01</td>\n",
       "      <td>-1.347355e-01</td>\n",
       "      <td>-5.490326e-01</td>\n",
       "      <td>-4.307007e-01</td>\n",
       "      <td>-1.386196e-01</td>\n",
       "      <td>-6.178326e-01</td>\n",
       "      <td>-4.404380e-01</td>\n",
       "      <td>7.356572e-01</td>\n",
       "      <td>-1.230637e-01</td>\n",
       "      <td>-7.117254e-01</td>\n",
       "      <td>-7.035270e-01</td>\n",
       "      <td>7.035270e-01</td>\n",
       "    </tr>\n",
       "    <tr>\n",
       "      <th>75%</th>\n",
       "      <td>-4.230326e-01</td>\n",
       "      <td>5.156619e-01</td>\n",
       "      <td>1.205384e+00</td>\n",
       "      <td>4.717806e-01</td>\n",
       "      <td>-2.893822e-01</td>\n",
       "      <td>8.989962e-01</td>\n",
       "      <td>-3.455411e-01</td>\n",
       "      <td>-2.343421e-01</td>\n",
       "      <td>-2.047722e-01</td>\n",
       "      <td>-1.347355e-01</td>\n",
       "      <td>-3.429694e-01</td>\n",
       "      <td>-4.307007e-01</td>\n",
       "      <td>-1.386196e-01</td>\n",
       "      <td>1.098417e+00</td>\n",
       "      <td>-4.404380e-01</td>\n",
       "      <td>7.356572e-01</td>\n",
       "      <td>-1.230637e-01</td>\n",
       "      <td>1.511378e+00</td>\n",
       "      <td>1.554842e+00</td>\n",
       "      <td>7.035270e-01</td>\n",
       "    </tr>\n",
       "    <tr>\n",
       "      <th>max</th>\n",
       "      <td>1.603345e+01</td>\n",
       "      <td>3.342920e+00</td>\n",
       "      <td>1.205384e+00</td>\n",
       "      <td>7.394192e+00</td>\n",
       "      <td>4.295005e+00</td>\n",
       "      <td>2.207435e+00</td>\n",
       "      <td>3.103135e+00</td>\n",
       "      <td>4.728937e+00</td>\n",
       "      <td>5.315671e+00</td>\n",
       "      <td>8.127929e+00</td>\n",
       "      <td>1.968369e+00</td>\n",
       "      <td>2.523585e+00</td>\n",
       "      <td>7.831361e+00</td>\n",
       "      <td>1.713343e+00</td>\n",
       "      <td>2.440445e+00</td>\n",
       "      <td>7.356572e-01</td>\n",
       "      <td>8.591809e+00</td>\n",
       "      <td>1.511378e+00</td>\n",
       "      <td>1.554842e+00</td>\n",
       "      <td>7.035270e-01</td>\n",
       "    </tr>\n",
       "  </tbody>\n",
       "</table>\n",
       "</div>"
      ],
      "text/plain": [
       "      no_of_trainings           age previous_year_rating length_of_service  \\\n",
       "count    6.573400e+04  6.573400e+04         6.573400e+04      6.573400e+04   \n",
       "mean    -4.818007e-14 -3.234500e-15         9.293280e-14     -1.822216e-15   \n",
       "std      1.000008e+00  1.000008e+00         1.000008e+00      1.000008e+00   \n",
       "min     -4.230326e-01 -2.042333e+00        -2.231757e+00     -1.199146e+00   \n",
       "25%     -4.230326e-01 -6.960201e-01        -5.131867e-01     -7.217385e-01   \n",
       "50%     -4.230326e-01 -1.574948e-01        -9.093490e-02     -2.443309e-01   \n",
       "75%     -4.230326e-01  5.156619e-01         1.205384e+00      4.717806e-01   \n",
       "max      1.603345e+01  3.342920e+00         1.205384e+00      7.394192e+00   \n",
       "\n",
       "         awards_won avg_training_score department_Analytics  \\\n",
       "count  6.573400e+04       6.573400e+04         6.573400e+04   \n",
       "mean  -1.019453e-13      -3.682355e-15        -3.841834e-15   \n",
       "std    1.000008e+00       1.000008e+00         1.000008e+00   \n",
       "min   -2.893822e-01      -1.966950e+00        -3.455411e-01   \n",
       "25%   -2.893822e-01      -8.537810e-01        -3.455411e-01   \n",
       "50%   -2.893822e-01      -1.580502e-01        -3.455411e-01   \n",
       "75%   -2.893822e-01       8.989962e-01        -3.455411e-01   \n",
       "max    4.295005e+00       2.207435e+00         3.103135e+00   \n",
       "\n",
       "      department_Finance department_HR department_Legal department_Operations  \\\n",
       "count       6.573400e+04  6.573400e+04     6.573400e+04          6.573400e+04   \n",
       "mean       -4.653380e-15 -3.714146e-14    -1.506015e-14          1.314487e-14   \n",
       "std         1.000008e+00  1.000008e+00     1.000008e+00          1.000008e+00   \n",
       "min        -2.343421e-01 -2.047722e-01    -1.347355e-01         -5.490326e-01   \n",
       "25%        -2.343421e-01 -2.047722e-01    -1.347355e-01         -5.490326e-01   \n",
       "50%        -2.343421e-01 -2.047722e-01    -1.347355e-01         -5.490326e-01   \n",
       "75%        -2.343421e-01 -2.047722e-01    -1.347355e-01         -3.429694e-01   \n",
       "max         4.728937e+00  5.315671e+00     8.127929e+00          1.968369e+00   \n",
       "\n",
       "      department_Procurement department_R&D department_Sales & Marketing  \\\n",
       "count           6.573400e+04   6.573400e+04                 6.573400e+04   \n",
       "mean            2.363101e-15  -1.472528e-14                 3.034378e-15   \n",
       "std             1.000008e+00   1.000008e+00                 1.000008e+00   \n",
       "min            -4.307007e-01  -1.386196e-01                -6.178326e-01   \n",
       "25%            -4.307007e-01  -1.386196e-01                -6.178326e-01   \n",
       "50%            -4.307007e-01  -1.386196e-01                -6.178326e-01   \n",
       "75%            -4.307007e-01  -1.386196e-01                 1.098417e+00   \n",
       "max             2.523585e+00   7.831361e+00                 1.713343e+00   \n",
       "\n",
       "      department_Technology education_Bachelor's education_Below Secondary  \\\n",
       "count          6.573400e+04         6.573400e+04              6.573400e+04   \n",
       "mean           1.664492e-15        -4.156410e-15              1.364766e-15   \n",
       "std            1.000008e+00         1.000008e+00              1.000008e+00   \n",
       "min           -4.404380e-01        -1.465127e+00             -1.230637e-01   \n",
       "25%           -4.404380e-01        -1.465127e+00             -1.230637e-01   \n",
       "50%           -4.404380e-01         7.356572e-01             -1.230637e-01   \n",
       "75%           -4.404380e-01         7.356572e-01             -1.230637e-01   \n",
       "max            2.440445e+00         7.356572e-01              8.591809e+00   \n",
       "\n",
       "      education_Master's & above      gender_f      gender_m  \n",
       "count               6.573400e+04  6.573400e+04  6.573400e+04  \n",
       "mean               -4.211571e-15 -6.466969e-15  6.310956e-15  \n",
       "std                 1.000008e+00  1.000008e+00  1.000008e+00  \n",
       "min                -7.117254e-01 -7.035270e-01 -1.554842e+00  \n",
       "25%                -7.117254e-01 -7.035270e-01 -1.554842e+00  \n",
       "50%                -7.117254e-01 -7.035270e-01  7.035270e-01  \n",
       "75%                 1.511378e+00  1.554842e+00  7.035270e-01  \n",
       "max                 1.511378e+00  1.554842e+00  7.035270e-01  "
      ]
     },
     "execution_count": 33,
     "metadata": {},
     "output_type": "execute_result"
    }
   ],
   "source": [
    "X_train_Sc.describe()"
   ]
  },
  {
   "cell_type": "markdown",
   "id": "8bc57566",
   "metadata": {},
   "source": [
    "# SVM C = 1"
   ]
  },
  {
   "cell_type": "code",
   "execution_count": 53,
   "id": "df20ced9",
   "metadata": {},
   "outputs": [
    {
     "data": {
      "text/plain": [
       "0.9035299276474458"
      ]
     },
     "execution_count": 53,
     "metadata": {},
     "output_type": "execute_result"
    }
   ],
   "source": [
    "svc1=SVC() #with default hyperparameters(C = 1)\n",
    "\n",
    "svc1.fit(X_train_Sc,y_train_smote)\n",
    "y_pred=svc1.predict(X_test_Sc)\n",
    "accuracy_score(y_test, y_pred)"
   ]
  },
  {
   "cell_type": "code",
   "execution_count": 44,
   "id": "55af9d5c",
   "metadata": {},
   "outputs": [
    {
     "data": {
      "text/plain": [
       "0.8389417957221529"
      ]
     },
     "execution_count": 44,
     "metadata": {},
     "output_type": "execute_result"
    }
   ],
   "source": [
    "y_pred_train = svc1.predict(X_train_Sc)\n",
    "accuracy_score(y_train_smote, y_pred_train)"
   ]
  },
  {
   "cell_type": "code",
   "execution_count": 55,
   "id": "8d224853",
   "metadata": {},
   "outputs": [
    {
     "data": {
      "image/png": "[encoded data removed]",
      "text/plain": [
       "<Figure size 900x600 with 2 Axes>"
      ]
     },
     "metadata": {
      "needs_background": "light"
     },
     "output_type": "display_data"
    }
   ],
   "source": [
    "from sklearn.metrics import confusion_matrix\n",
    "logit_confusion = confusion_matrix(y_test, svc1.predict(X_test_Sc))\n",
    "plt.figure(dpi=150)\n",
    "sns.heatmap(logit_confusion, annot=True, square=True, fmt = 'g')\n",
    "           \n",
    "plt.xlabel('Predicted')\n",
    "plt.ylabel('Actual')\n",
    "plt.title('SVM C = 1 confusion matrix');"
   ]
  },
  {
   "cell_type": "markdown",
   "id": "d8d599a0",
   "metadata": {},
   "source": [
    "# SVM C = 100"
   ]
  },
  {
   "cell_type": "code",
   "execution_count": 33,
   "id": "8545a1bf",
   "metadata": {},
   "outputs": [
    {
     "data": {
      "text/plain": [
       "0.9140539355404517"
      ]
     },
     "execution_count": 33,
     "metadata": {},
     "output_type": "execute_result"
    }
   ],
   "source": [
    "svc2=SVC(C=100.0) #with hyperparameters(C = 100)\n",
    "\n",
    "svc2.fit(X_train_Sc,y_train_smote)\n",
    "y_pred2=svc2.predict(X_test_Sc)\n",
    "\n",
    "accuracy_score(y_test, y_pred2)"
   ]
  },
  {
   "cell_type": "code",
   "execution_count": 34,
   "id": "1272d490",
   "metadata": {},
   "outputs": [
    {
     "data": {
      "text/plain": [
       "0.8736726808044544"
      ]
     },
     "execution_count": 34,
     "metadata": {},
     "output_type": "execute_result"
    }
   ],
   "source": [
    "y_pred_train = svc2.predict(X_train_Sc)\n",
    "accuracy_score(y_train_smote, y_pred_train)"
   ]
  },
  {
   "cell_type": "code",
   "execution_count": 57,
   "id": "33dbffa1",
   "metadata": {},
   "outputs": [
    {
     "data": {
      "image/png": "[encoded data removed]",
      "text/plain": [
       "<Figure size 900x600 with 2 Axes>"
      ]
     },
     "metadata": {
      "needs_background": "light"
     },
     "output_type": "display_data"
    }
   ],
   "source": [
    "from sklearn.metrics import confusion_matrix\n",
    "logit_confusion = confusion_matrix(y_test, svc2.predict(X_test_Sc))\n",
    "plt.figure(dpi=150)\n",
    "sns.heatmap(logit_confusion, annot=True, square=True, fmt = 'g')\n",
    "           \n",
    "plt.xlabel('Predicted')\n",
    "plt.ylabel('Actual')\n",
    "plt.title('SVM C = 100 confusion matrix');"
   ]
  },
  {
   "cell_type": "markdown",
   "id": "a47f4989",
   "metadata": {},
   "source": [
    "# SVM C = 1000"
   ]
  },
  {
   "cell_type": "code",
   "execution_count": 35,
   "id": "c6a510e6",
   "metadata": {},
   "outputs": [
    {
     "data": {
      "text/plain": [
       "0.905064678798509"
      ]
     },
     "execution_count": 35,
     "metadata": {},
     "output_type": "execute_result"
    }
   ],
   "source": [
    "svc3=SVC(C=1000.0) #with hyperparameters(C = 1000)\n",
    "\n",
    "svc3.fit(X_train_Sc,y_train_smote)\n",
    "y_pred=svc3.predict(X_test_Sc)\n",
    "\n",
    "accuracy_score(y_test, y_pred)"
   ]
  },
  {
   "cell_type": "code",
   "execution_count": 36,
   "id": "75542e3b",
   "metadata": {},
   "outputs": [
    {
     "data": {
      "text/plain": [
       "0.8839413393373292"
      ]
     },
     "execution_count": 36,
     "metadata": {},
     "output_type": "execute_result"
    }
   ],
   "source": [
    "y_pred_train = svc3.predict(X_train_Sc)\n",
    "accuracy_score(y_train_smote, y_pred_train)"
   ]
  },
  {
   "cell_type": "code",
   "execution_count": 56,
   "id": "4158dae4",
   "metadata": {},
   "outputs": [
    {
     "data": {
      "image/png": "[encoded data removed]",
      "text/plain": [
       "<Figure size 900x600 with 2 Axes>"
      ]
     },
     "metadata": {
      "needs_background": "light"
     },
     "output_type": "display_data"
    }
   ],
   "source": [
    "from sklearn.metrics import confusion_matrix\n",
    "logit_confusion = confusion_matrix(y_test, svc3.predict(X_test_Sc))\n",
    "plt.figure(dpi=150)\n",
    "sns.heatmap(logit_confusion, annot=True, square=True, fmt = 'g')\n",
    "           \n",
    "plt.xlabel('Predicted')\n",
    "plt.ylabel('Actual')\n",
    "plt.title('SVM C = 1000 confusion matrix');"
   ]
  },
  {
   "cell_type": "markdown",
   "id": "284e4bc8",
   "metadata": {},
   "source": [
    "# SVM linear "
   ]
  },
  {
   "cell_type": "code",
   "execution_count": 39,
   "id": "b27386c7",
   "metadata": {},
   "outputs": [
    {
     "data": {
      "text/plain": [
       "0.7644156983117737"
      ]
     },
     "execution_count": 39,
     "metadata": {},
     "output_type": "execute_result"
    }
   ],
   "source": [
    "linear_svc=SVC(kernel='linear') #Linear kernal\n",
    "\n",
    "linear_svc.fit(X_train_Sc,y_train_smote)\n",
    "y_pred_test=linear_svc.predict(X_test_Sc)\n",
    "\n",
    "accuracy_score(y_test, y_pred_test)"
   ]
  },
  {
   "cell_type": "code",
   "execution_count": 40,
   "id": "47412907",
   "metadata": {},
   "outputs": [
    {
     "data": {
      "text/plain": [
       "0.7177411993793167"
      ]
     },
     "execution_count": 40,
     "metadata": {},
     "output_type": "execute_result"
    }
   ],
   "source": [
    "y_pred_train1 = linear_svc.predict(X_train_Sc)\n",
    "accuracy_score(y_train_smote, y_pred_train1)"
   ]
  },
  {
   "cell_type": "code",
   "execution_count": 59,
   "id": "e6230041",
   "metadata": {},
   "outputs": [
    {
     "data": {
      "image/png": "[encoded data removed]",
      "text/plain": [
       "<Figure size 900x600 with 2 Axes>"
      ]
     },
     "metadata": {
      "needs_background": "light"
     },
     "output_type": "display_data"
    }
   ],
   "source": [
    "from sklearn.metrics import confusion_matrix\n",
    "logit_confusion = confusion_matrix(y_test, linear_svc.predict(X_test_Sc))\n",
    "plt.figure(dpi=150)\n",
    "sns.heatmap(logit_confusion, annot=True, square=True, fmt = 'g')\n",
    "           \n",
    "plt.xlabel('Predicted')\n",
    "plt.ylabel('Actual')\n",
    "plt.title('SVM linear confusion matrix');"
   ]
  },
  {
   "cell_type": "markdown",
   "id": "4390b62b",
   "metadata": {},
   "source": [
    "# SVM polynomial degree = 2"
   ]
  },
  {
   "cell_type": "code",
   "execution_count": 37,
   "id": "5c4e9bb7",
   "metadata": {},
   "outputs": [
    {
     "data": {
      "text/plain": [
       "0.8351238763429073"
      ]
     },
     "execution_count": 37,
     "metadata": {},
     "output_type": "execute_result"
    }
   ],
   "source": [
    "poly_svc=SVC(kernel='poly', degree = 2) #Polynomial kernal\n",
    "\n",
    "poly_svc.fit(X_train_Sc,y_train_smote)\n",
    "y_pred_poly=poly_svc.predict(X_test_Sc)\n",
    "\n",
    "accuracy_score(y_test, y_pred_poly)"
   ]
  },
  {
   "cell_type": "code",
   "execution_count": 38,
   "id": "0cb26c9d",
   "metadata": {},
   "outputs": [
    {
     "data": {
      "text/plain": [
       "0.7602154136367786"
      ]
     },
     "execution_count": 38,
     "metadata": {},
     "output_type": "execute_result"
    }
   ],
   "source": [
    "y_pred_train = poly_svc.predict(X_train_Sc)\n",
    "accuracy_score(y_train_smote, y_pred_train)"
   ]
  },
  {
   "cell_type": "code",
   "execution_count": 60,
   "id": "bcb32644",
   "metadata": {},
   "outputs": [
    {
     "data": {
      "image/png": "[encoded data removed]",
      "text/plain": [
       "<Figure size 900x600 with 2 Axes>"
      ]
     },
     "metadata": {
      "needs_background": "light"
     },
     "output_type": "display_data"
    }
   ],
   "source": [
    "from sklearn.metrics import confusion_matrix\n",
    "logit_confusion = confusion_matrix(y_test, poly_svc.predict(X_test_Sc))\n",
    "plt.figure(dpi=150)\n",
    "sns.heatmap(logit_confusion, annot=True, square=True, fmt = 'g')\n",
    "           \n",
    "plt.xlabel('Predicted')\n",
    "plt.ylabel('Actual')\n",
    "plt.title('SVM linear confusion matrix');"
   ]
  },
  {
   "cell_type": "markdown",
   "id": "d3795bc8",
   "metadata": {},
   "source": [
    "# SVM rbf C = 1"
   ]
  },
  {
   "cell_type": "code",
   "execution_count": 41,
   "id": "ad810aeb",
   "metadata": {},
   "outputs": [
    {
     "data": {
      "text/plain": [
       "0.9035299276474458"
      ]
     },
     "execution_count": 41,
     "metadata": {},
     "output_type": "execute_result"
    }
   ],
   "source": [
    "rbf_svc=SVC(kernel='rbf') #RBF(Gaussian)kernal\n",
    "\n",
    "rbf_svc.fit(X_train_Sc,y_train_smote)\n",
    "y_pred_rbf=rbf_svc.predict(X_test_Sc)\n",
    "\n",
    "accuracy_score(y_test, y_pred_rbf)"
   ]
  },
  {
   "cell_type": "code",
   "execution_count": 42,
   "id": "97dd2d81",
   "metadata": {},
   "outputs": [
    {
     "data": {
      "text/plain": [
       "0.8365685946389996"
      ]
     },
     "execution_count": 42,
     "metadata": {},
     "output_type": "execute_result"
    }
   ],
   "source": [
    "y_pred_trainbrf = rbf_svc.predict(X_train_Sc)\n",
    "accuracy_score(y_train_smote, y_pred_trainbrf)"
   ]
  },
  {
   "cell_type": "markdown",
   "id": "306875ca",
   "metadata": {},
   "source": [
    "# SVM rbf & C = 100"
   ]
  },
  {
   "cell_type": "code",
   "execution_count": 61,
   "id": "b6ba32dd",
   "metadata": {},
   "outputs": [
    {
     "data": {
      "text/plain": [
       "0.9140539355404517"
      ]
     },
     "execution_count": 61,
     "metadata": {},
     "output_type": "execute_result"
    }
   ],
   "source": [
    "rbf_svc1=SVC(kernel='rbf', C=100.0) #RBF(Gaussian)kernal\n",
    "\n",
    "rbf_svc1.fit(X_train_Sc,y_train_smote)\n",
    "y_pred_rbf=rbf_svc1.predict(X_test_Sc)\n",
    "\n",
    "accuracy_score(y_test, y_pred_rbf)"
   ]
  },
  {
   "cell_type": "code",
   "execution_count": 45,
   "id": "8e427677",
   "metadata": {},
   "outputs": [
    {
     "data": {
      "text/plain": [
       "0.8736726808044544"
      ]
     },
     "execution_count": 45,
     "metadata": {},
     "output_type": "execute_result"
    }
   ],
   "source": [
    "y_pred_trainbrf = rbf_svc1.predict(X_train_Sc)\n",
    "accuracy_score(y_train_smote, y_pred_trainbrf)"
   ]
  },
  {
   "cell_type": "code",
   "execution_count": 62,
   "id": "ef615980",
   "metadata": {},
   "outputs": [
    {
     "data": {
      "image/png": "[encoded data removed]",
      "text/plain": [
       "<Figure size 900x600 with 2 Axes>"
      ]
     },
     "metadata": {
      "needs_background": "light"
     },
     "output_type": "display_data"
    }
   ],
   "source": [
    "from sklearn.metrics import confusion_matrix\n",
    "logit_confusion = confusion_matrix(y_test, rbf_svc1.predict(X_test_Sc))\n",
    "plt.figure(dpi=150)\n",
    "sns.heatmap(logit_confusion, annot=True, square=True, fmt = 'g')\n",
    "           \n",
    "plt.xlabel('Predicted')\n",
    "plt.ylabel('Actual')\n",
    "plt.title('SVM with kernal RBF & C = 100 confusion matrix');"
   ]
  },
  {
   "cell_type": "markdown",
   "id": "39efee85",
   "metadata": {},
   "source": [
    "# SVM rbf & C = 1000"
   ]
  },
  {
   "cell_type": "code",
   "execution_count": 46,
   "id": "eb789fbd",
   "metadata": {},
   "outputs": [
    {
     "data": {
      "text/plain": [
       "0.8839413393373292"
      ]
     },
     "execution_count": 46,
     "metadata": {},
     "output_type": "execute_result"
    }
   ],
   "source": [
    "rbf_svc=SVC(kernel='rbf', C=1000.0) #RBF(Gaussian)kernal\n",
    "\n",
    "rbf_svc.fit(X_train_Sc,y_train_smote)\n",
    "y_pred_trainbrf = rbf_svc.predict(X_train_Sc)\n",
    "accuracy_score(y_train_smote, y_pred_trainbrf)"
   ]
  },
  {
   "cell_type": "code",
   "execution_count": 47,
   "id": "56fe4127",
   "metadata": {},
   "outputs": [
    {
     "data": {
      "text/plain": [
       "0.905064678798509"
      ]
     },
     "execution_count": 47,
     "metadata": {},
     "output_type": "execute_result"
    }
   ],
   "source": [
    "y_pred_rbf=rbf_svc.predict(X_test_Sc)\n",
    "accuracy_score(y_test, y_pred_rbf)"
   ]
  },
  {
   "cell_type": "code",
   "execution_count": 48,
   "id": "aeb7ada7",
   "metadata": {},
   "outputs": [
    {
     "data": {
      "image/png": "[encoded data removed]",
      "text/plain": [
       "<Figure size 900x600 with 2 Axes>"
      ]
     },
     "metadata": {
      "needs_background": "light"
     },
     "output_type": "display_data"
    }
   ],
   "source": [
    "from sklearn.metrics import confusion_matrix\n",
    "logit_confusion = confusion_matrix(y_test, rbf_svc.predict(X_test_Sc))\n",
    "plt.figure(dpi=150)\n",
    "sns.heatmap(logit_confusion, annot=True, square=True, fmt = 'g')\n",
    "           \n",
    "plt.xlabel('Predicted')\n",
    "plt.ylabel('Actual')\n",
    "plt.title('SVM with kernal RBF confusion matrix');"
   ]
  },
  {
   "cell_type": "code",
   "execution_count": 67,
   "id": "d1de5530",
   "metadata": {},
   "outputs": [
    {
     "data": {
      "text/plain": [
       "0.8788642841482132"
      ]
     },
     "execution_count": 67,
     "metadata": {},
     "output_type": "execute_result"
    }
   ],
   "source": [
    "poly_svc3=SVC(kernel='poly', degree = 5) #Polynomial kernal\n",
    "\n",
    "poly_svc3.fit(X_train_Sc,y_train_smote)\n",
    "y_pred_poly=poly_svc3.predict(X_test_Sc)\n",
    "\n",
    "accuracy_score(y_test, y_pred_poly)"
   ]
  },
  {
   "cell_type": "code",
   "execution_count": 66,
   "id": "bdf26d68",
   "metadata": {},
   "outputs": [
    {
     "data": {
      "text/plain": [
       "0.833069644324094"
      ]
     },
     "execution_count": 66,
     "metadata": {},
     "output_type": "execute_result"
    }
   ],
   "source": [
    "y_pred_train = poly_svc3.predict(X_train_Sc)\n",
    "accuracy_score(y_train_smote, y_pred_train)"
   ]
  },
  {
   "cell_type": "markdown",
   "id": "794568c0",
   "metadata": {},
   "source": [
    "# Voting Ensample"
   ]
  },
  {
   "cell_type": "code",
   "execution_count": 38,
   "id": "2b40cc8c",
   "metadata": {},
   "outputs": [
    {
     "data": {
      "text/plain": [
       "VotingClassifier(estimators=[('Logistic',\n",
       "                              LogisticRegression(solver='liblinear')),\n",
       "                             ('Tree', DecisionTreeClassifier()),\n",
       "                             ('SVM', SVC())])"
      ]
     },
     "execution_count": 38,
     "metadata": {},
     "output_type": "execute_result"
    }
   ],
   "source": [
    "from sklearn.ensemble import VotingClassifier\n",
    "from sklearn.linear_model import LogisticRegression\n",
    "from sklearn.svm import SVC\n",
    "from sklearn.tree import DecisionTreeClassifier\n",
    "from sklearn.metrics import confusion_matrix, accuracy_score, classification_report\n",
    "\n",
    "\n",
    "estimators = []\n",
    "log_reg = LogisticRegression(solver='liblinear')\n",
    "estimators.append(('Logistic', log_reg))\n",
    "\n",
    "tree = DecisionTreeClassifier()\n",
    "estimators.append(('Tree', tree))\n",
    "\n",
    "svm_clf = SVC(gamma='scale')\n",
    "estimators.append(('SVM', svm_clf))\n",
    "\n",
    "voting = VotingClassifier(estimators=estimators)\n",
    "voting.fit(X_train_Sc, y_train_smote)\n",
    "\n",
    "#evaluate(voting, X_train_Sc, X_test_Sc, y_train_smote, y_test)"
   ]
  },
  {
   "cell_type": "code",
   "execution_count": 41,
   "id": "736071e0",
   "metadata": {},
   "outputs": [
    {
     "data": {
      "text/plain": [
       "0.8927039279520491"
      ]
     },
     "execution_count": 41,
     "metadata": {},
     "output_type": "execute_result"
    }
   ],
   "source": [
    "y_pred_train = voting.predict(X_train_Sc)\n",
    "accuracy_score(y_train_smote, y_pred_train)"
   ]
  },
  {
   "cell_type": "code",
   "execution_count": 42,
   "id": "f2b791a2",
   "metadata": {},
   "outputs": [
    {
     "data": {
      "text/plain": [
       "0.8897171672878754"
      ]
     },
     "execution_count": 42,
     "metadata": {},
     "output_type": "execute_result"
    }
   ],
   "source": [
    "y_pred_train2 = voting.predict(X_test_Sc)\n",
    "accuracy_score(y_test, y_pred_train2)"
   ]
  },
  {
   "cell_type": "code",
   "execution_count": null,
   "id": "99164d21",
   "metadata": {},
   "outputs": [],
   "source": []
  },
  {
   "cell_type": "code",
   "execution_count": 35,
   "id": "b74fdbc7",
   "metadata": {},
   "outputs": [
    {
     "name": "stdout",
     "output_type": "stream",
     "text": [
      "Fitting 5 folds for each of 32 candidates, totalling 160 fits\n"
     ]
    },
    {
     "data": {
      "text/plain": [
       "GridSearchCV(cv=5, estimator=GradientBoostingClassifier(), n_jobs=-1,\n",
       "             param_grid={'learning_rate': [0.001, 0.1, 1, 10],\n",
       "                         'loss': ['deviance', 'exponential'],\n",
       "                         'n_estimators': [100, 150, 180, 200]},\n",
       "             verbose=1)"
      ]
     },
     "execution_count": 35,
     "metadata": {},
     "output_type": "execute_result"
    }
   ],
   "source": [
    "from sklearn.ensemble import GradientBoostingClassifier\n",
    "from sklearn.model_selection import GridSearchCV\n",
    "\n",
    "gbc = GradientBoostingClassifier()\n",
    "\n",
    "parameters = {\n",
    "    'loss': ['deviance', 'exponential'],\n",
    "    'learning_rate': [0.001, 0.1, 1, 10],\n",
    "    'n_estimators': [100, 150, 180, 200]\n",
    "}\n",
    "\n",
    "grid_search_gbc = GridSearchCV(gbc, parameters, cv = 5, n_jobs = -1, verbose = 1)\n",
    "grid_search_gbc.fit(X_train_Sc, y_train_smote)"
   ]
  },
  {
   "cell_type": "code",
   "execution_count": 36,
   "id": "e5c4c08f",
   "metadata": {},
   "outputs": [
    {
     "data": {
      "text/plain": [
       "{'learning_rate': 1, 'loss': 'deviance', 'n_estimators': 150}"
      ]
     },
     "execution_count": 36,
     "metadata": {},
     "output_type": "execute_result"
    }
   ],
   "source": [
    "# best parameters \n",
    "grid_search_gbc.best_params_"
   ]
  },
  {
   "cell_type": "code",
   "execution_count": 37,
   "id": "cb3bcdfe",
   "metadata": {},
   "outputs": [
    {
     "data": {
      "text/plain": [
       "GradientBoostingClassifier(learning_rate=1, n_estimators=150)"
      ]
     },
     "execution_count": 37,
     "metadata": {},
     "output_type": "execute_result"
    }
   ],
   "source": [
    "bc = GradientBoostingClassifier(learning_rate = 1, loss = 'deviance', n_estimators = 150)\n",
    "bc.fit(X_train_Sc, y_train_smote)"
   ]
  },
  {
   "cell_type": "code",
   "execution_count": 39,
   "id": "d4b56f9b",
   "metadata": {},
   "outputs": [],
   "source": [
    "y_pred = bc.predict(X_test_Sc)"
   ]
  },
  {
   "cell_type": "code",
   "execution_count": 40,
   "id": "bd5d353b",
   "metadata": {},
   "outputs": [
    {
     "name": "stdout",
     "output_type": "stream",
     "text": [
      "0.9633827243131409\n",
      "0.935978951984214\n"
     ]
    }
   ],
   "source": [
    "# accuracy score\n",
    "\n",
    "print(accuracy_score(y_train_smote, bc.predict(X_train_Sc)))\n",
    "\n",
    "gbc_acc = accuracy_score(y_test, y_pred)\n",
    "print(gbc_acc)"
   ]
  },
  {
   "cell_type": "code",
   "execution_count": 42,
   "id": "d858a473",
   "metadata": {},
   "outputs": [
    {
     "data": {
      "image/png": "[encoded data removed]",
      "text/plain": [
       "<Figure size 900x600 with 2 Axes>"
      ]
     },
     "metadata": {
      "needs_background": "light"
     },
     "output_type": "display_data"
    }
   ],
   "source": [
    "from sklearn.metrics import confusion_matrix\n",
    "logit_confusion = confusion_matrix(y_test, bc.predict(X_test_Sc))\n",
    "plt.figure(dpi=150)\n",
    "sns.heatmap(logit_confusion, annot=True, square=True, fmt = 'g')\n",
    "           \n",
    "plt.xlabel('Predicted')\n",
    "plt.ylabel('Actual')\n",
    "plt.title('Gradient Boosting confusion matrix');"
   ]
  },
  {
   "cell_type": "code",
   "execution_count": null,
   "id": "c597f213",
   "metadata": {},
   "outputs": [],
   "source": []
  }
 ],
 "metadata": {
  "kernelspec": {
   "display_name": "Python 3",
   "language": "python",
   "name": "python3"
  },
  "language_info": {
   "codemirror_mode": {
    "name": "ipython",
    "version": 3
   },
   "file_extension": ".py",
   "mimetype": "text/x-python",
   "name": "python",
   "nbconvert_exporter": "python",
   "pygments_lexer": "ipython3",
   "version": "3.8.8"
  }
 },
 "nbformat": 4,
 "nbformat_minor": 5
}
