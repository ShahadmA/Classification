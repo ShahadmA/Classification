{
 "cells": [
  {
   "cell_type": "markdown",
   "id": "dd625d6b",
   "metadata": {},
   "source": [
    "# Libraries imports:"
   ]
  },
  {
   "cell_type": "code",
   "execution_count": 1,
   "id": "3b8d1e74",
   "metadata": {},
   "outputs": [],
   "source": [
    "import numpy as np\n",
    "import matplotlib.pyplot as plt\n",
    "import pandas as pd\n",
    "import seaborn as sns\n",
    "%matplotlib inline"
   ]
  },
  {
   "cell_type": "code",
   "execution_count": 2,
   "id": "1a65e3f5",
   "metadata": {},
   "outputs": [],
   "source": [
    "from sklearn.neighbors import KNeighborsClassifier\n",
    "from sklearn import metrics"
   ]
  },
  {
   "cell_type": "markdown",
   "id": "609719d6",
   "metadata": {},
   "source": [
    "# Dataset Overview:"
   ]
  },
  {
   "cell_type": "code",
   "execution_count": 3,
   "id": "895efac8",
   "metadata": {},
   "outputs": [
    {
     "data": {
      "text/html": [
       "<div>\n",
       "<style scoped>\n",
       "    .dataframe tbody tr th:only-of-type {\n",
       "        vertical-align: middle;\n",
       "    }\n",
       "\n",
       "    .dataframe tbody tr th {\n",
       "        vertical-align: top;\n",
       "    }\n",
       "\n",
       "    .dataframe thead th {\n",
       "        text-align: right;\n",
       "    }\n",
       "</style>\n",
       "<table border=\"1\" class=\"dataframe\">\n",
       "  <thead>\n",
       "    <tr style=\"text-align: right;\">\n",
       "      <th></th>\n",
       "      <th>employee_id</th>\n",
       "      <th>department</th>\n",
       "      <th>region</th>\n",
       "      <th>education</th>\n",
       "      <th>gender</th>\n",
       "      <th>recruitment_channel</th>\n",
       "      <th>no_of_trainings</th>\n",
       "      <th>age</th>\n",
       "      <th>previous_year_rating</th>\n",
       "      <th>length_of_service</th>\n",
       "      <th>awards_won?</th>\n",
       "      <th>avg_training_score</th>\n",
       "      <th>is_promoted</th>\n",
       "    </tr>\n",
       "  </thead>\n",
       "  <tbody>\n",
       "    <tr>\n",
       "      <th>0</th>\n",
       "      <td>65438</td>\n",
       "      <td>Sales &amp; Marketing</td>\n",
       "      <td>region_7</td>\n",
       "      <td>Master's &amp; above</td>\n",
       "      <td>f</td>\n",
       "      <td>sourcing</td>\n",
       "      <td>1</td>\n",
       "      <td>35</td>\n",
       "      <td>5.0</td>\n",
       "      <td>8</td>\n",
       "      <td>0</td>\n",
       "      <td>49</td>\n",
       "      <td>0</td>\n",
       "    </tr>\n",
       "    <tr>\n",
       "      <th>1</th>\n",
       "      <td>65141</td>\n",
       "      <td>Operations</td>\n",
       "      <td>region_22</td>\n",
       "      <td>Bachelor's</td>\n",
       "      <td>m</td>\n",
       "      <td>other</td>\n",
       "      <td>1</td>\n",
       "      <td>30</td>\n",
       "      <td>5.0</td>\n",
       "      <td>4</td>\n",
       "      <td>0</td>\n",
       "      <td>60</td>\n",
       "      <td>0</td>\n",
       "    </tr>\n",
       "    <tr>\n",
       "      <th>2</th>\n",
       "      <td>7513</td>\n",
       "      <td>Sales &amp; Marketing</td>\n",
       "      <td>region_19</td>\n",
       "      <td>Bachelor's</td>\n",
       "      <td>m</td>\n",
       "      <td>sourcing</td>\n",
       "      <td>1</td>\n",
       "      <td>34</td>\n",
       "      <td>3.0</td>\n",
       "      <td>7</td>\n",
       "      <td>0</td>\n",
       "      <td>50</td>\n",
       "      <td>0</td>\n",
       "    </tr>\n",
       "    <tr>\n",
       "      <th>3</th>\n",
       "      <td>2542</td>\n",
       "      <td>Sales &amp; Marketing</td>\n",
       "      <td>region_23</td>\n",
       "      <td>Bachelor's</td>\n",
       "      <td>m</td>\n",
       "      <td>other</td>\n",
       "      <td>2</td>\n",
       "      <td>39</td>\n",
       "      <td>1.0</td>\n",
       "      <td>10</td>\n",
       "      <td>0</td>\n",
       "      <td>50</td>\n",
       "      <td>0</td>\n",
       "    </tr>\n",
       "    <tr>\n",
       "      <th>4</th>\n",
       "      <td>48945</td>\n",
       "      <td>Technology</td>\n",
       "      <td>region_26</td>\n",
       "      <td>Bachelor's</td>\n",
       "      <td>m</td>\n",
       "      <td>other</td>\n",
       "      <td>1</td>\n",
       "      <td>45</td>\n",
       "      <td>3.0</td>\n",
       "      <td>2</td>\n",
       "      <td>0</td>\n",
       "      <td>73</td>\n",
       "      <td>0</td>\n",
       "    </tr>\n",
       "  </tbody>\n",
       "</table>\n",
       "</div>"
      ],
      "text/plain": [
       "   employee_id         department     region         education gender  \\\n",
       "0        65438  Sales & Marketing   region_7  Master's & above      f   \n",
       "1        65141         Operations  region_22        Bachelor's      m   \n",
       "2         7513  Sales & Marketing  region_19        Bachelor's      m   \n",
       "3         2542  Sales & Marketing  region_23        Bachelor's      m   \n",
       "4        48945         Technology  region_26        Bachelor's      m   \n",
       "\n",
       "  recruitment_channel  no_of_trainings  age  previous_year_rating  \\\n",
       "0            sourcing                1   35                   5.0   \n",
       "1               other                1   30                   5.0   \n",
       "2            sourcing                1   34                   3.0   \n",
       "3               other                2   39                   1.0   \n",
       "4               other                1   45                   3.0   \n",
       "\n",
       "   length_of_service  awards_won?  avg_training_score  is_promoted  \n",
       "0                  8            0                  49            0  \n",
       "1                  4            0                  60            0  \n",
       "2                  7            0                  50            0  \n",
       "3                 10            0                  50            0  \n",
       "4                  2            0                  73            0  "
      ]
     },
     "execution_count": 3,
     "metadata": {},
     "output_type": "execute_result"
    }
   ],
   "source": [
    "df = pd.read_csv('HRDataset.csv')\n",
    "df.head()"
   ]
  },
  {
   "cell_type": "code",
   "execution_count": 4,
   "id": "f0ef3df6",
   "metadata": {},
   "outputs": [
    {
     "data": {
      "text/plain": [
       "Index(['employee_id', 'department', 'region', 'education', 'gender',\n",
       "       'recruitment_channel', 'no_of_trainings', 'age', 'previous_year_rating',\n",
       "       'length_of_service', 'awards_won?', 'avg_training_score',\n",
       "       'is_promoted'],\n",
       "      dtype='object')"
      ]
     },
     "execution_count": 4,
     "metadata": {},
     "output_type": "execute_result"
    }
   ],
   "source": [
    "df.columns"
   ]
  },
  {
   "cell_type": "code",
   "execution_count": 5,
   "id": "9c6971b6",
   "metadata": {},
   "outputs": [
    {
     "data": {
      "text/html": [
       "<div>\n",
       "<style scoped>\n",
       "    .dataframe tbody tr th:only-of-type {\n",
       "        vertical-align: middle;\n",
       "    }\n",
       "\n",
       "    .dataframe tbody tr th {\n",
       "        vertical-align: top;\n",
       "    }\n",
       "\n",
       "    .dataframe thead th {\n",
       "        text-align: right;\n",
       "    }\n",
       "</style>\n",
       "<table border=\"1\" class=\"dataframe\">\n",
       "  <thead>\n",
       "    <tr style=\"text-align: right;\">\n",
       "      <th></th>\n",
       "      <th>employee_id</th>\n",
       "      <th>no_of_trainings</th>\n",
       "      <th>age</th>\n",
       "      <th>previous_year_rating</th>\n",
       "      <th>length_of_service</th>\n",
       "      <th>awards_won?</th>\n",
       "      <th>avg_training_score</th>\n",
       "      <th>is_promoted</th>\n",
       "    </tr>\n",
       "  </thead>\n",
       "  <tbody>\n",
       "    <tr>\n",
       "      <th>count</th>\n",
       "      <td>54808.000000</td>\n",
       "      <td>54808.000000</td>\n",
       "      <td>54808.000000</td>\n",
       "      <td>50684.000000</td>\n",
       "      <td>54808.000000</td>\n",
       "      <td>54808.000000</td>\n",
       "      <td>54808.000000</td>\n",
       "      <td>54808.000000</td>\n",
       "    </tr>\n",
       "    <tr>\n",
       "      <th>mean</th>\n",
       "      <td>39195.830627</td>\n",
       "      <td>1.253011</td>\n",
       "      <td>34.803915</td>\n",
       "      <td>3.329256</td>\n",
       "      <td>5.865512</td>\n",
       "      <td>0.023172</td>\n",
       "      <td>63.386750</td>\n",
       "      <td>0.085170</td>\n",
       "    </tr>\n",
       "    <tr>\n",
       "      <th>std</th>\n",
       "      <td>22586.581449</td>\n",
       "      <td>0.609264</td>\n",
       "      <td>7.660169</td>\n",
       "      <td>1.259993</td>\n",
       "      <td>4.265094</td>\n",
       "      <td>0.150450</td>\n",
       "      <td>13.371559</td>\n",
       "      <td>0.279137</td>\n",
       "    </tr>\n",
       "    <tr>\n",
       "      <th>min</th>\n",
       "      <td>1.000000</td>\n",
       "      <td>1.000000</td>\n",
       "      <td>20.000000</td>\n",
       "      <td>1.000000</td>\n",
       "      <td>1.000000</td>\n",
       "      <td>0.000000</td>\n",
       "      <td>39.000000</td>\n",
       "      <td>0.000000</td>\n",
       "    </tr>\n",
       "    <tr>\n",
       "      <th>25%</th>\n",
       "      <td>19669.750000</td>\n",
       "      <td>1.000000</td>\n",
       "      <td>29.000000</td>\n",
       "      <td>3.000000</td>\n",
       "      <td>3.000000</td>\n",
       "      <td>0.000000</td>\n",
       "      <td>51.000000</td>\n",
       "      <td>0.000000</td>\n",
       "    </tr>\n",
       "    <tr>\n",
       "      <th>50%</th>\n",
       "      <td>39225.500000</td>\n",
       "      <td>1.000000</td>\n",
       "      <td>33.000000</td>\n",
       "      <td>3.000000</td>\n",
       "      <td>5.000000</td>\n",
       "      <td>0.000000</td>\n",
       "      <td>60.000000</td>\n",
       "      <td>0.000000</td>\n",
       "    </tr>\n",
       "    <tr>\n",
       "      <th>75%</th>\n",
       "      <td>58730.500000</td>\n",
       "      <td>1.000000</td>\n",
       "      <td>39.000000</td>\n",
       "      <td>4.000000</td>\n",
       "      <td>7.000000</td>\n",
       "      <td>0.000000</td>\n",
       "      <td>76.000000</td>\n",
       "      <td>0.000000</td>\n",
       "    </tr>\n",
       "    <tr>\n",
       "      <th>max</th>\n",
       "      <td>78298.000000</td>\n",
       "      <td>10.000000</td>\n",
       "      <td>60.000000</td>\n",
       "      <td>5.000000</td>\n",
       "      <td>37.000000</td>\n",
       "      <td>1.000000</td>\n",
       "      <td>99.000000</td>\n",
       "      <td>1.000000</td>\n",
       "    </tr>\n",
       "  </tbody>\n",
       "</table>\n",
       "</div>"
      ],
      "text/plain": [
       "        employee_id  no_of_trainings           age  previous_year_rating  \\\n",
       "count  54808.000000     54808.000000  54808.000000          50684.000000   \n",
       "mean   39195.830627         1.253011     34.803915              3.329256   \n",
       "std    22586.581449         0.609264      7.660169              1.259993   \n",
       "min        1.000000         1.000000     20.000000              1.000000   \n",
       "25%    19669.750000         1.000000     29.000000              3.000000   \n",
       "50%    39225.500000         1.000000     33.000000              3.000000   \n",
       "75%    58730.500000         1.000000     39.000000              4.000000   \n",
       "max    78298.000000        10.000000     60.000000              5.000000   \n",
       "\n",
       "       length_of_service   awards_won?  avg_training_score   is_promoted  \n",
       "count       54808.000000  54808.000000        54808.000000  54808.000000  \n",
       "mean            5.865512      0.023172           63.386750      0.085170  \n",
       "std             4.265094      0.150450           13.371559      0.279137  \n",
       "min             1.000000      0.000000           39.000000      0.000000  \n",
       "25%             3.000000      0.000000           51.000000      0.000000  \n",
       "50%             5.000000      0.000000           60.000000      0.000000  \n",
       "75%             7.000000      0.000000           76.000000      0.000000  \n",
       "max            37.000000      1.000000           99.000000      1.000000  "
      ]
     },
     "execution_count": 5,
     "metadata": {},
     "output_type": "execute_result"
    }
   ],
   "source": [
    "df.describe()"
   ]
  },
  {
   "cell_type": "markdown",
   "id": "3724b965",
   "metadata": {},
   "source": [
    "# Data Cleaning:"
   ]
  },
  {
   "cell_type": "code",
   "execution_count": 6,
   "id": "669c206d",
   "metadata": {},
   "outputs": [
    {
     "data": {
      "text/plain": [
       "array(['sourcing', 'other', 'referred'], dtype=object)"
      ]
     },
     "execution_count": 6,
     "metadata": {},
     "output_type": "execute_result"
    }
   ],
   "source": [
    "df['recruitment_channel'].unique()"
   ]
  },
  {
   "cell_type": "code",
   "execution_count": 7,
   "id": "742f2a6b",
   "metadata": {},
   "outputs": [
    {
     "data": {
      "text/plain": [
       "array(['region_7', 'region_22', 'region_19', 'region_23', 'region_26',\n",
       "       'region_2', 'region_20', 'region_34', 'region_1', 'region_4',\n",
       "       'region_29', 'region_31', 'region_15', 'region_14', 'region_11',\n",
       "       'region_5', 'region_28', 'region_17', 'region_13', 'region_16',\n",
       "       'region_25', 'region_10', 'region_27', 'region_30', 'region_12',\n",
       "       'region_21', 'region_8', 'region_32', 'region_6', 'region_33',\n",
       "       'region_24', 'region_3', 'region_9', 'region_18'], dtype=object)"
      ]
     },
     "execution_count": 7,
     "metadata": {},
     "output_type": "execute_result"
    }
   ],
   "source": [
    "df['region'].unique()"
   ]
  },
  {
   "cell_type": "code",
   "execution_count": 8,
   "id": "ef64f085",
   "metadata": {},
   "outputs": [],
   "source": [
    "df.drop(['employee_id','region','recruitment_channel'],axis=1 ,inplace= True)"
   ]
  },
  {
   "cell_type": "code",
   "execution_count": 9,
   "id": "74b52f5f",
   "metadata": {},
   "outputs": [],
   "source": [
    "df.rename(columns={'awards_won?':'awards_won'}, inplace = True)"
   ]
  },
  {
   "cell_type": "code",
   "execution_count": 10,
   "id": "feec95ab",
   "metadata": {},
   "outputs": [
    {
     "name": "stdout",
     "output_type": "stream",
     "text": [
      "<class 'pandas.core.frame.DataFrame'>\n",
      "RangeIndex: 54808 entries, 0 to 54807\n",
      "Data columns (total 10 columns):\n",
      " #   Column                Non-Null Count  Dtype  \n",
      "---  ------                --------------  -----  \n",
      " 0   department            54808 non-null  object \n",
      " 1   education             52399 non-null  object \n",
      " 2   gender                54808 non-null  object \n",
      " 3   no_of_trainings       54808 non-null  int64  \n",
      " 4   age                   54808 non-null  int64  \n",
      " 5   previous_year_rating  50684 non-null  float64\n",
      " 6   length_of_service     54808 non-null  int64  \n",
      " 7   awards_won            54808 non-null  int64  \n",
      " 8   avg_training_score    54808 non-null  int64  \n",
      " 9   is_promoted           54808 non-null  int64  \n",
      "dtypes: float64(1), int64(6), object(3)\n",
      "memory usage: 4.2+ MB\n"
     ]
    }
   ],
   "source": [
    "df.info()"
   ]
  },
  {
   "cell_type": "code",
   "execution_count": 11,
   "id": "d963d5cf",
   "metadata": {},
   "outputs": [
    {
     "data": {
      "text/plain": [
       "7024"
      ]
     },
     "execution_count": 11,
     "metadata": {},
     "output_type": "execute_result"
    }
   ],
   "source": [
    "sum(df.duplicated())"
   ]
  },
  {
   "cell_type": "code",
   "execution_count": 12,
   "id": "ae41bef2",
   "metadata": {},
   "outputs": [],
   "source": [
    "df.drop_duplicates(inplace=True) #drop duplicated rows"
   ]
  },
  {
   "cell_type": "code",
   "execution_count": 13,
   "id": "02d4ae94",
   "metadata": {},
   "outputs": [],
   "source": [
    "df.dropna(subset = ['education'],inplace=True)"
   ]
  },
  {
   "cell_type": "code",
   "execution_count": 14,
   "id": "603eaf50",
   "metadata": {},
   "outputs": [
    {
     "data": {
      "text/plain": [
       "department                 0\n",
       "education                  0\n",
       "gender                     0\n",
       "no_of_trainings            0\n",
       "age                        0\n",
       "previous_year_rating    2279\n",
       "length_of_service          0\n",
       "awards_won                 0\n",
       "avg_training_score         0\n",
       "is_promoted                0\n",
       "dtype: int64"
      ]
     },
     "execution_count": 14,
     "metadata": {},
     "output_type": "execute_result"
    }
   ],
   "source": [
    "df.isna().sum()"
   ]
  },
  {
   "cell_type": "markdown",
   "id": "d226757b",
   "metadata": {},
   "source": [
    "# Exploring Data:"
   ]
  },
  {
   "cell_type": "code",
   "execution_count": 15,
   "id": "9b089836",
   "metadata": {},
   "outputs": [
    {
     "data": {
      "text/html": [
       "<div>\n",
       "<style scoped>\n",
       "    .dataframe tbody tr th:only-of-type {\n",
       "        vertical-align: middle;\n",
       "    }\n",
       "\n",
       "    .dataframe tbody tr th {\n",
       "        vertical-align: top;\n",
       "    }\n",
       "\n",
       "    .dataframe thead th {\n",
       "        text-align: right;\n",
       "    }\n",
       "</style>\n",
       "<table border=\"1\" class=\"dataframe\">\n",
       "  <thead>\n",
       "    <tr style=\"text-align: right;\">\n",
       "      <th></th>\n",
       "      <th>no_of_trainings</th>\n",
       "      <th>age</th>\n",
       "      <th>previous_year_rating</th>\n",
       "      <th>length_of_service</th>\n",
       "      <th>awards_won</th>\n",
       "      <th>avg_training_score</th>\n",
       "      <th>is_promoted</th>\n",
       "    </tr>\n",
       "  </thead>\n",
       "  <tbody>\n",
       "    <tr>\n",
       "      <th>no_of_trainings</th>\n",
       "      <td>1.000000</td>\n",
       "      <td>-0.108833</td>\n",
       "      <td>-0.061732</td>\n",
       "      <td>-0.077764</td>\n",
       "      <td>-0.014022</td>\n",
       "      <td>0.033200</td>\n",
       "      <td>-0.037664</td>\n",
       "    </tr>\n",
       "    <tr>\n",
       "      <th>age</th>\n",
       "      <td>-0.108833</td>\n",
       "      <td>1.000000</td>\n",
       "      <td>0.006142</td>\n",
       "      <td>0.637573</td>\n",
       "      <td>-0.020908</td>\n",
       "      <td>-0.077603</td>\n",
       "      <td>-0.042689</td>\n",
       "    </tr>\n",
       "    <tr>\n",
       "      <th>previous_year_rating</th>\n",
       "      <td>-0.061732</td>\n",
       "      <td>0.006142</td>\n",
       "      <td>1.000000</td>\n",
       "      <td>-0.001156</td>\n",
       "      <td>0.030566</td>\n",
       "      <td>0.073300</td>\n",
       "      <td>0.167893</td>\n",
       "    </tr>\n",
       "    <tr>\n",
       "      <th>length_of_service</th>\n",
       "      <td>-0.077764</td>\n",
       "      <td>0.637573</td>\n",
       "      <td>-0.001156</td>\n",
       "      <td>1.000000</td>\n",
       "      <td>-0.051817</td>\n",
       "      <td>-0.057069</td>\n",
       "      <td>-0.031022</td>\n",
       "    </tr>\n",
       "    <tr>\n",
       "      <th>awards_won</th>\n",
       "      <td>-0.014022</td>\n",
       "      <td>-0.020908</td>\n",
       "      <td>0.030566</td>\n",
       "      <td>-0.051817</td>\n",
       "      <td>1.000000</td>\n",
       "      <td>0.072649</td>\n",
       "      <td>0.192659</td>\n",
       "    </tr>\n",
       "    <tr>\n",
       "      <th>avg_training_score</th>\n",
       "      <td>0.033200</td>\n",
       "      <td>-0.077603</td>\n",
       "      <td>0.073300</td>\n",
       "      <td>-0.057069</td>\n",
       "      <td>0.072649</td>\n",
       "      <td>1.000000</td>\n",
       "      <td>0.183961</td>\n",
       "    </tr>\n",
       "    <tr>\n",
       "      <th>is_promoted</th>\n",
       "      <td>-0.037664</td>\n",
       "      <td>-0.042689</td>\n",
       "      <td>0.167893</td>\n",
       "      <td>-0.031022</td>\n",
       "      <td>0.192659</td>\n",
       "      <td>0.183961</td>\n",
       "      <td>1.000000</td>\n",
       "    </tr>\n",
       "  </tbody>\n",
       "</table>\n",
       "</div>"
      ],
      "text/plain": [
       "                      no_of_trainings       age  previous_year_rating  \\\n",
       "no_of_trainings              1.000000 -0.108833             -0.061732   \n",
       "age                         -0.108833  1.000000              0.006142   \n",
       "previous_year_rating        -0.061732  0.006142              1.000000   \n",
       "length_of_service           -0.077764  0.637573             -0.001156   \n",
       "awards_won                  -0.014022 -0.020908              0.030566   \n",
       "avg_training_score           0.033200 -0.077603              0.073300   \n",
       "is_promoted                 -0.037664 -0.042689              0.167893   \n",
       "\n",
       "                      length_of_service  awards_won  avg_training_score  \\\n",
       "no_of_trainings               -0.077764   -0.014022            0.033200   \n",
       "age                            0.637573   -0.020908           -0.077603   \n",
       "previous_year_rating          -0.001156    0.030566            0.073300   \n",
       "length_of_service              1.000000   -0.051817           -0.057069   \n",
       "awards_won                    -0.051817    1.000000            0.072649   \n",
       "avg_training_score            -0.057069    0.072649            1.000000   \n",
       "is_promoted                   -0.031022    0.192659            0.183961   \n",
       "\n",
       "                      is_promoted  \n",
       "no_of_trainings         -0.037664  \n",
       "age                     -0.042689  \n",
       "previous_year_rating     0.167893  \n",
       "length_of_service       -0.031022  \n",
       "awards_won               0.192659  \n",
       "avg_training_score       0.183961  \n",
       "is_promoted              1.000000  "
      ]
     },
     "execution_count": 15,
     "metadata": {},
     "output_type": "execute_result"
    }
   ],
   "source": [
    "df.corr()"
   ]
  },
  {
   "cell_type": "code",
   "execution_count": 16,
   "id": "b494eed9",
   "metadata": {},
   "outputs": [
    {
     "data": {
      "image/png": "[encoded data removed]",
      "text/plain": [
       "<Figure size 1080x720 with 2 Axes>"
      ]
     },
     "metadata": {
      "needs_background": "light"
     },
     "output_type": "display_data"
    }
   ],
   "source": [
    "plt.figure(figsize= (15,10))\n",
    "sns.heatmap(df.corr(), cmap=\"seismic\", annot=True, vmin=-1, vmax=1);"
   ]
  },
  {
   "cell_type": "code",
   "execution_count": 17,
   "id": "de2c715c",
   "metadata": {},
   "outputs": [],
   "source": [
    "#parchart for Education"
   ]
  },
  {
   "cell_type": "code",
   "execution_count": 18,
   "id": "d3dffde1",
   "metadata": {},
   "outputs": [],
   "source": [
    "#parchart for Department"
   ]
  },
  {
   "cell_type": "markdown",
   "id": "6159ab8c",
   "metadata": {},
   "source": [
    "# Pre-proccessing:"
   ]
  },
  {
   "cell_type": "code",
   "execution_count": 19,
   "id": "5bbaff15",
   "metadata": {},
   "outputs": [
    {
     "data": {
      "text/html": [
       "<div>\n",
       "<style scoped>\n",
       "    .dataframe tbody tr th:only-of-type {\n",
       "        vertical-align: middle;\n",
       "    }\n",
       "\n",
       "    .dataframe tbody tr th {\n",
       "        vertical-align: top;\n",
       "    }\n",
       "\n",
       "    .dataframe thead th {\n",
       "        text-align: right;\n",
       "    }\n",
       "</style>\n",
       "<table border=\"1\" class=\"dataframe\">\n",
       "  <thead>\n",
       "    <tr style=\"text-align: right;\">\n",
       "      <th></th>\n",
       "      <th>no_of_trainings</th>\n",
       "      <th>age</th>\n",
       "      <th>previous_year_rating</th>\n",
       "      <th>length_of_service</th>\n",
       "      <th>awards_won</th>\n",
       "      <th>avg_training_score</th>\n",
       "      <th>is_promoted</th>\n",
       "      <th>department_Analytics</th>\n",
       "      <th>department_Finance</th>\n",
       "      <th>department_HR</th>\n",
       "      <th>...</th>\n",
       "      <th>department_Operations</th>\n",
       "      <th>department_Procurement</th>\n",
       "      <th>department_R&amp;D</th>\n",
       "      <th>department_Sales &amp; Marketing</th>\n",
       "      <th>department_Technology</th>\n",
       "      <th>education_Bachelor's</th>\n",
       "      <th>education_Below Secondary</th>\n",
       "      <th>education_Master's &amp; above</th>\n",
       "      <th>gender_f</th>\n",
       "      <th>gender_m</th>\n",
       "    </tr>\n",
       "  </thead>\n",
       "  <tbody>\n",
       "    <tr>\n",
       "      <th>0</th>\n",
       "      <td>1</td>\n",
       "      <td>35</td>\n",
       "      <td>5.0</td>\n",
       "      <td>8</td>\n",
       "      <td>0</td>\n",
       "      <td>49</td>\n",
       "      <td>0</td>\n",
       "      <td>0</td>\n",
       "      <td>0</td>\n",
       "      <td>0</td>\n",
       "      <td>...</td>\n",
       "      <td>0</td>\n",
       "      <td>0</td>\n",
       "      <td>0</td>\n",
       "      <td>1</td>\n",
       "      <td>0</td>\n",
       "      <td>0</td>\n",
       "      <td>0</td>\n",
       "      <td>1</td>\n",
       "      <td>1</td>\n",
       "      <td>0</td>\n",
       "    </tr>\n",
       "    <tr>\n",
       "      <th>1</th>\n",
       "      <td>1</td>\n",
       "      <td>30</td>\n",
       "      <td>5.0</td>\n",
       "      <td>4</td>\n",
       "      <td>0</td>\n",
       "      <td>60</td>\n",
       "      <td>0</td>\n",
       "      <td>0</td>\n",
       "      <td>0</td>\n",
       "      <td>0</td>\n",
       "      <td>...</td>\n",
       "      <td>1</td>\n",
       "      <td>0</td>\n",
       "      <td>0</td>\n",
       "      <td>0</td>\n",
       "      <td>0</td>\n",
       "      <td>1</td>\n",
       "      <td>0</td>\n",
       "      <td>0</td>\n",
       "      <td>0</td>\n",
       "      <td>1</td>\n",
       "    </tr>\n",
       "    <tr>\n",
       "      <th>2</th>\n",
       "      <td>1</td>\n",
       "      <td>34</td>\n",
       "      <td>3.0</td>\n",
       "      <td>7</td>\n",
       "      <td>0</td>\n",
       "      <td>50</td>\n",
       "      <td>0</td>\n",
       "      <td>0</td>\n",
       "      <td>0</td>\n",
       "      <td>0</td>\n",
       "      <td>...</td>\n",
       "      <td>0</td>\n",
       "      <td>0</td>\n",
       "      <td>0</td>\n",
       "      <td>1</td>\n",
       "      <td>0</td>\n",
       "      <td>1</td>\n",
       "      <td>0</td>\n",
       "      <td>0</td>\n",
       "      <td>0</td>\n",
       "      <td>1</td>\n",
       "    </tr>\n",
       "    <tr>\n",
       "      <th>3</th>\n",
       "      <td>2</td>\n",
       "      <td>39</td>\n",
       "      <td>1.0</td>\n",
       "      <td>10</td>\n",
       "      <td>0</td>\n",
       "      <td>50</td>\n",
       "      <td>0</td>\n",
       "      <td>0</td>\n",
       "      <td>0</td>\n",
       "      <td>0</td>\n",
       "      <td>...</td>\n",
       "      <td>0</td>\n",
       "      <td>0</td>\n",
       "      <td>0</td>\n",
       "      <td>1</td>\n",
       "      <td>0</td>\n",
       "      <td>1</td>\n",
       "      <td>0</td>\n",
       "      <td>0</td>\n",
       "      <td>0</td>\n",
       "      <td>1</td>\n",
       "    </tr>\n",
       "    <tr>\n",
       "      <th>4</th>\n",
       "      <td>1</td>\n",
       "      <td>45</td>\n",
       "      <td>3.0</td>\n",
       "      <td>2</td>\n",
       "      <td>0</td>\n",
       "      <td>73</td>\n",
       "      <td>0</td>\n",
       "      <td>0</td>\n",
       "      <td>0</td>\n",
       "      <td>0</td>\n",
       "      <td>...</td>\n",
       "      <td>0</td>\n",
       "      <td>0</td>\n",
       "      <td>0</td>\n",
       "      <td>0</td>\n",
       "      <td>1</td>\n",
       "      <td>1</td>\n",
       "      <td>0</td>\n",
       "      <td>0</td>\n",
       "      <td>0</td>\n",
       "      <td>1</td>\n",
       "    </tr>\n",
       "    <tr>\n",
       "      <th>...</th>\n",
       "      <td>...</td>\n",
       "      <td>...</td>\n",
       "      <td>...</td>\n",
       "      <td>...</td>\n",
       "      <td>...</td>\n",
       "      <td>...</td>\n",
       "      <td>...</td>\n",
       "      <td>...</td>\n",
       "      <td>...</td>\n",
       "      <td>...</td>\n",
       "      <td>...</td>\n",
       "      <td>...</td>\n",
       "      <td>...</td>\n",
       "      <td>...</td>\n",
       "      <td>...</td>\n",
       "      <td>...</td>\n",
       "      <td>...</td>\n",
       "      <td>...</td>\n",
       "      <td>...</td>\n",
       "      <td>...</td>\n",
       "      <td>...</td>\n",
       "    </tr>\n",
       "    <tr>\n",
       "      <th>54802</th>\n",
       "      <td>2</td>\n",
       "      <td>31</td>\n",
       "      <td>1.0</td>\n",
       "      <td>2</td>\n",
       "      <td>0</td>\n",
       "      <td>49</td>\n",
       "      <td>0</td>\n",
       "      <td>0</td>\n",
       "      <td>0</td>\n",
       "      <td>0</td>\n",
       "      <td>...</td>\n",
       "      <td>0</td>\n",
       "      <td>0</td>\n",
       "      <td>0</td>\n",
       "      <td>1</td>\n",
       "      <td>0</td>\n",
       "      <td>1</td>\n",
       "      <td>0</td>\n",
       "      <td>0</td>\n",
       "      <td>0</td>\n",
       "      <td>1</td>\n",
       "    </tr>\n",
       "    <tr>\n",
       "      <th>54803</th>\n",
       "      <td>1</td>\n",
       "      <td>48</td>\n",
       "      <td>3.0</td>\n",
       "      <td>17</td>\n",
       "      <td>0</td>\n",
       "      <td>78</td>\n",
       "      <td>0</td>\n",
       "      <td>0</td>\n",
       "      <td>0</td>\n",
       "      <td>0</td>\n",
       "      <td>...</td>\n",
       "      <td>0</td>\n",
       "      <td>0</td>\n",
       "      <td>0</td>\n",
       "      <td>0</td>\n",
       "      <td>1</td>\n",
       "      <td>1</td>\n",
       "      <td>0</td>\n",
       "      <td>0</td>\n",
       "      <td>0</td>\n",
       "      <td>1</td>\n",
       "    </tr>\n",
       "    <tr>\n",
       "      <th>54804</th>\n",
       "      <td>1</td>\n",
       "      <td>37</td>\n",
       "      <td>2.0</td>\n",
       "      <td>6</td>\n",
       "      <td>0</td>\n",
       "      <td>56</td>\n",
       "      <td>0</td>\n",
       "      <td>0</td>\n",
       "      <td>0</td>\n",
       "      <td>0</td>\n",
       "      <td>...</td>\n",
       "      <td>1</td>\n",
       "      <td>0</td>\n",
       "      <td>0</td>\n",
       "      <td>0</td>\n",
       "      <td>0</td>\n",
       "      <td>0</td>\n",
       "      <td>0</td>\n",
       "      <td>1</td>\n",
       "      <td>1</td>\n",
       "      <td>0</td>\n",
       "    </tr>\n",
       "    <tr>\n",
       "      <th>54805</th>\n",
       "      <td>1</td>\n",
       "      <td>27</td>\n",
       "      <td>5.0</td>\n",
       "      <td>3</td>\n",
       "      <td>0</td>\n",
       "      <td>79</td>\n",
       "      <td>0</td>\n",
       "      <td>1</td>\n",
       "      <td>0</td>\n",
       "      <td>0</td>\n",
       "      <td>...</td>\n",
       "      <td>0</td>\n",
       "      <td>0</td>\n",
       "      <td>0</td>\n",
       "      <td>0</td>\n",
       "      <td>0</td>\n",
       "      <td>1</td>\n",
       "      <td>0</td>\n",
       "      <td>0</td>\n",
       "      <td>0</td>\n",
       "      <td>1</td>\n",
       "    </tr>\n",
       "    <tr>\n",
       "      <th>54807</th>\n",
       "      <td>1</td>\n",
       "      <td>27</td>\n",
       "      <td>1.0</td>\n",
       "      <td>5</td>\n",
       "      <td>0</td>\n",
       "      <td>49</td>\n",
       "      <td>0</td>\n",
       "      <td>0</td>\n",
       "      <td>0</td>\n",
       "      <td>1</td>\n",
       "      <td>...</td>\n",
       "      <td>0</td>\n",
       "      <td>0</td>\n",
       "      <td>0</td>\n",
       "      <td>0</td>\n",
       "      <td>0</td>\n",
       "      <td>1</td>\n",
       "      <td>0</td>\n",
       "      <td>0</td>\n",
       "      <td>0</td>\n",
       "      <td>1</td>\n",
       "    </tr>\n",
       "  </tbody>\n",
       "</table>\n",
       "<p>45607 rows × 21 columns</p>\n",
       "</div>"
      ],
      "text/plain": [
       "       no_of_trainings  age  previous_year_rating  length_of_service  \\\n",
       "0                    1   35                   5.0                  8   \n",
       "1                    1   30                   5.0                  4   \n",
       "2                    1   34                   3.0                  7   \n",
       "3                    2   39                   1.0                 10   \n",
       "4                    1   45                   3.0                  2   \n",
       "...                ...  ...                   ...                ...   \n",
       "54802                2   31                   1.0                  2   \n",
       "54803                1   48                   3.0                 17   \n",
       "54804                1   37                   2.0                  6   \n",
       "54805                1   27                   5.0                  3   \n",
       "54807                1   27                   1.0                  5   \n",
       "\n",
       "       awards_won  avg_training_score  is_promoted  department_Analytics  \\\n",
       "0               0                  49            0                     0   \n",
       "1               0                  60            0                     0   \n",
       "2               0                  50            0                     0   \n",
       "3               0                  50            0                     0   \n",
       "4               0                  73            0                     0   \n",
       "...           ...                 ...          ...                   ...   \n",
       "54802           0                  49            0                     0   \n",
       "54803           0                  78            0                     0   \n",
       "54804           0                  56            0                     0   \n",
       "54805           0                  79            0                     1   \n",
       "54807           0                  49            0                     0   \n",
       "\n",
       "       department_Finance  department_HR  ...  department_Operations  \\\n",
       "0                       0              0  ...                      0   \n",
       "1                       0              0  ...                      1   \n",
       "2                       0              0  ...                      0   \n",
       "3                       0              0  ...                      0   \n",
       "4                       0              0  ...                      0   \n",
       "...                   ...            ...  ...                    ...   \n",
       "54802                   0              0  ...                      0   \n",
       "54803                   0              0  ...                      0   \n",
       "54804                   0              0  ...                      1   \n",
       "54805                   0              0  ...                      0   \n",
       "54807                   0              1  ...                      0   \n",
       "\n",
       "       department_Procurement  department_R&D  department_Sales & Marketing  \\\n",
       "0                           0               0                             1   \n",
       "1                           0               0                             0   \n",
       "2                           0               0                             1   \n",
       "3                           0               0                             1   \n",
       "4                           0               0                             0   \n",
       "...                       ...             ...                           ...   \n",
       "54802                       0               0                             1   \n",
       "54803                       0               0                             0   \n",
       "54804                       0               0                             0   \n",
       "54805                       0               0                             0   \n",
       "54807                       0               0                             0   \n",
       "\n",
       "       department_Technology  education_Bachelor's  education_Below Secondary  \\\n",
       "0                          0                     0                          0   \n",
       "1                          0                     1                          0   \n",
       "2                          0                     1                          0   \n",
       "3                          0                     1                          0   \n",
       "4                          1                     1                          0   \n",
       "...                      ...                   ...                        ...   \n",
       "54802                      0                     1                          0   \n",
       "54803                      1                     1                          0   \n",
       "54804                      0                     0                          0   \n",
       "54805                      0                     1                          0   \n",
       "54807                      0                     1                          0   \n",
       "\n",
       "       education_Master's & above  gender_f  gender_m  \n",
       "0                               1         1         0  \n",
       "1                               0         0         1  \n",
       "2                               0         0         1  \n",
       "3                               0         0         1  \n",
       "4                               0         0         1  \n",
       "...                           ...       ...       ...  \n",
       "54802                           0         0         1  \n",
       "54803                           0         0         1  \n",
       "54804                           1         1         0  \n",
       "54805                           0         0         1  \n",
       "54807                           0         0         1  \n",
       "\n",
       "[45607 rows x 21 columns]"
      ]
     },
     "execution_count": 19,
     "metadata": {},
     "output_type": "execute_result"
    }
   ],
   "source": [
    "df = pd.get_dummies(df) #convert all categorical data to numeric\n",
    "df"
   ]
  },
  {
   "cell_type": "markdown",
   "id": "9289f33d",
   "metadata": {},
   "source": [
    "# Split X & Y"
   ]
  },
  {
   "cell_type": "code",
   "execution_count": 20,
   "id": "481f3400",
   "metadata": {},
   "outputs": [],
   "source": [
    "X, y = df.drop('is_promoted',axis=1), df['is_promoted']"
   ]
  },
  {
   "cell_type": "code",
   "execution_count": 21,
   "id": "7e7435f3",
   "metadata": {},
   "outputs": [],
   "source": [
    "from sklearn.model_selection import train_test_split\n",
    "X_train, X_test, y_train, y_test = train_test_split(X, y, test_size=0.2, random_state=42)"
   ]
  },
  {
   "cell_type": "code",
   "execution_count": 22,
   "id": "a643fce7",
   "metadata": {},
   "outputs": [
    {
     "data": {
      "text/plain": [
       "no_of_trainings                    0\n",
       "age                                0\n",
       "previous_year_rating            1832\n",
       "length_of_service                  0\n",
       "awards_won                         0\n",
       "avg_training_score                 0\n",
       "department_Analytics               0\n",
       "department_Finance                 0\n",
       "department_HR                      0\n",
       "department_Legal                   0\n",
       "department_Operations              0\n",
       "department_Procurement             0\n",
       "department_R&D                     0\n",
       "department_Sales & Marketing       0\n",
       "department_Technology              0\n",
       "education_Bachelor's               0\n",
       "education_Below Secondary          0\n",
       "education_Master's & above         0\n",
       "gender_f                           0\n",
       "gender_m                           0\n",
       "dtype: int64"
      ]
     },
     "execution_count": 22,
     "metadata": {},
     "output_type": "execute_result"
    }
   ],
   "source": [
    "X_train.isna().sum()"
   ]
  },
  {
   "cell_type": "code",
   "execution_count": 23,
   "id": "051fa17f",
   "metadata": {},
   "outputs": [
    {
     "data": {
      "text/plain": [
       "no_of_trainings                   0\n",
       "age                               0\n",
       "previous_year_rating            447\n",
       "length_of_service                 0\n",
       "awards_won                        0\n",
       "avg_training_score                0\n",
       "department_Analytics              0\n",
       "department_Finance                0\n",
       "department_HR                     0\n",
       "department_Legal                  0\n",
       "department_Operations             0\n",
       "department_Procurement            0\n",
       "department_R&D                    0\n",
       "department_Sales & Marketing      0\n",
       "department_Technology             0\n",
       "education_Bachelor's              0\n",
       "education_Below Secondary         0\n",
       "education_Master's & above        0\n",
       "gender_f                          0\n",
       "gender_m                          0\n",
       "dtype: int64"
      ]
     },
     "execution_count": 23,
     "metadata": {},
     "output_type": "execute_result"
    }
   ],
   "source": [
    "X_test.isna().sum()"
   ]
  },
  {
   "cell_type": "code",
   "execution_count": 24,
   "id": "2648b477",
   "metadata": {},
   "outputs": [
    {
     "name": "stderr",
     "output_type": "stream",
     "text": [
      "C:\\Users\\shaha\\anaconda3\\lib\\site-packages\\pandas\\core\\series.py:4463: SettingWithCopyWarning: \n",
      "A value is trying to be set on a copy of a slice from a DataFrame\n",
      "\n",
      "See the caveats in the documentation: https://pandas.pydata.org/pandas-docs/stable/user_guide/indexing.html#returning-a-view-versus-a-copy\n",
      "  return super().fillna(\n"
     ]
    }
   ],
   "source": [
    "X_train['previous_year_rating'].fillna(value= X_train['previous_year_rating'].mean(),inplace = True )\n",
    "X_test['previous_year_rating'].fillna(value= X_train['previous_year_rating'].mean(),inplace = True )"
   ]
  },
  {
   "cell_type": "code",
   "execution_count": 25,
   "id": "088e85f1",
   "metadata": {},
   "outputs": [
    {
     "name": "stdout",
     "output_type": "stream",
     "text": [
      "<class 'pandas.core.frame.DataFrame'>\n",
      "Int64Index: 36485 entries, 4910 to 17485\n",
      "Data columns (total 20 columns):\n",
      " #   Column                        Non-Null Count  Dtype  \n",
      "---  ------                        --------------  -----  \n",
      " 0   no_of_trainings               36485 non-null  int64  \n",
      " 1   age                           36485 non-null  int64  \n",
      " 2   previous_year_rating          36485 non-null  float64\n",
      " 3   length_of_service             36485 non-null  int64  \n",
      " 4   awards_won                    36485 non-null  int64  \n",
      " 5   avg_training_score            36485 non-null  int64  \n",
      " 6   department_Analytics          36485 non-null  uint8  \n",
      " 7   department_Finance            36485 non-null  uint8  \n",
      " 8   department_HR                 36485 non-null  uint8  \n",
      " 9   department_Legal              36485 non-null  uint8  \n",
      " 10  department_Operations         36485 non-null  uint8  \n",
      " 11  department_Procurement        36485 non-null  uint8  \n",
      " 12  department_R&D                36485 non-null  uint8  \n",
      " 13  department_Sales & Marketing  36485 non-null  uint8  \n",
      " 14  department_Technology         36485 non-null  uint8  \n",
      " 15  education_Bachelor's          36485 non-null  uint8  \n",
      " 16  education_Below Secondary     36485 non-null  uint8  \n",
      " 17  education_Master's & above    36485 non-null  uint8  \n",
      " 18  gender_f                      36485 non-null  uint8  \n",
      " 19  gender_m                      36485 non-null  uint8  \n",
      "dtypes: float64(1), int64(5), uint8(14)\n",
      "memory usage: 2.4 MB\n"
     ]
    }
   ],
   "source": [
    "X_train.info()"
   ]
  },
  {
   "cell_type": "code",
   "execution_count": 26,
   "id": "3268b8c9",
   "metadata": {},
   "outputs": [
    {
     "name": "stdout",
     "output_type": "stream",
     "text": [
      "<class 'pandas.core.frame.DataFrame'>\n",
      "Int64Index: 9122 entries, 6572 to 54800\n",
      "Data columns (total 20 columns):\n",
      " #   Column                        Non-Null Count  Dtype  \n",
      "---  ------                        --------------  -----  \n",
      " 0   no_of_trainings               9122 non-null   int64  \n",
      " 1   age                           9122 non-null   int64  \n",
      " 2   previous_year_rating          9122 non-null   float64\n",
      " 3   length_of_service             9122 non-null   int64  \n",
      " 4   awards_won                    9122 non-null   int64  \n",
      " 5   avg_training_score            9122 non-null   int64  \n",
      " 6   department_Analytics          9122 non-null   uint8  \n",
      " 7   department_Finance            9122 non-null   uint8  \n",
      " 8   department_HR                 9122 non-null   uint8  \n",
      " 9   department_Legal              9122 non-null   uint8  \n",
      " 10  department_Operations         9122 non-null   uint8  \n",
      " 11  department_Procurement        9122 non-null   uint8  \n",
      " 12  department_R&D                9122 non-null   uint8  \n",
      " 13  department_Sales & Marketing  9122 non-null   uint8  \n",
      " 14  department_Technology         9122 non-null   uint8  \n",
      " 15  education_Bachelor's          9122 non-null   uint8  \n",
      " 16  education_Below Secondary     9122 non-null   uint8  \n",
      " 17  education_Master's & above    9122 non-null   uint8  \n",
      " 18  gender_f                      9122 non-null   uint8  \n",
      " 19  gender_m                      9122 non-null   uint8  \n",
      "dtypes: float64(1), int64(5), uint8(14)\n",
      "memory usage: 623.6 KB\n"
     ]
    }
   ],
   "source": [
    "X_test.info()"
   ]
  },
  {
   "cell_type": "markdown",
   "id": "81e91026",
   "metadata": {},
   "source": [
    "# KNN Model:"
   ]
  },
  {
   "cell_type": "code",
   "execution_count": 27,
   "id": "42d4cd30",
   "metadata": {},
   "outputs": [],
   "source": [
    "from sklearn.model_selection import GridSearchCV"
   ]
  },
  {
   "cell_type": "code",
   "execution_count": 28,
   "id": "70ac1204",
   "metadata": {},
   "outputs": [],
   "source": [
    "from sklearn.model_selection import cross_val_score\n",
    "from sklearn.model_selection import GridSearchCV\n",
    "\n",
    "# define the parameter values that should be searched\n",
    "k_range = list(range(1, 10))\n",
    "weight_options = ['uniform', 'distance']"
   ]
  },
  {
   "cell_type": "code",
   "execution_count": 29,
   "id": "12a5d9ce",
   "metadata": {},
   "outputs": [],
   "source": [
    "# create a parameter grid: map the parameter names to the values that should be searched\n",
    "param_grid = dict(n_neighbors=k_range, weights=weight_options)"
   ]
  },
  {
   "cell_type": "code",
   "execution_count": 30,
   "id": "a511d1de",
   "metadata": {},
   "outputs": [
    {
     "data": {
      "text/plain": [
       "GridSearchCV(cv=10, estimator=KNeighborsClassifier(),\n",
       "             param_grid={'n_neighbors': [1, 2, 3, 4, 5, 6, 7, 8, 9],\n",
       "                         'weights': ['uniform', 'distance']},\n",
       "             scoring='accuracy')"
      ]
     },
     "execution_count": 30,
     "metadata": {},
     "output_type": "execute_result"
    }
   ],
   "source": [
    "knn = KNeighborsClassifier()\n",
    "grid = GridSearchCV(knn, param_grid, cv=10, scoring='accuracy')\n",
    "grid.fit(X_train, y_train)"
   ]
  },
  {
   "cell_type": "code",
   "execution_count": 31,
   "id": "db092999",
   "metadata": {},
   "outputs": [
    {
     "name": "stdout",
     "output_type": "stream",
     "text": [
      "Best params:  {'n_neighbors': 9, 'weights': 'uniform'}\n",
      "Best estimator:  KNeighborsClassifier(n_neighbors=9)\n",
      "Best score:  0.9111963578702168\n"
     ]
    }
   ],
   "source": [
    "# examine the best model\n",
    "print(\"Best params: \", grid.best_params_)\n",
    "print(\"Best estimator: \", grid.best_estimator_)\n",
    "print(\"Best score: \", grid.best_score_)"
   ]
  },
  {
   "cell_type": "code",
   "execution_count": 40,
   "id": "484af309",
   "metadata": {},
   "outputs": [
    {
     "data": {
      "text/plain": [
       "0.9139098259558722"
      ]
     },
     "execution_count": 40,
     "metadata": {},
     "output_type": "execute_result"
    }
   ],
   "source": [
    "knn = KNeighborsClassifier(n_neighbors=9, weights='uniform')\n",
    "knn.fit(X_train, y_train)\n",
    "knn.score(X_train, y_train)"
   ]
  },
  {
   "cell_type": "code",
   "execution_count": 41,
   "id": "8524fcd1",
   "metadata": {},
   "outputs": [
    {
     "ename": "TypeError",
     "evalue": "predict() takes 2 positional arguments but 3 were given",
     "output_type": "error",
     "traceback": [
      "\u001b[1;31m---------------------------------------------------------------------------\u001b[0m",
      "\u001b[1;31mTypeError\u001b[0m                                 Traceback (most recent call last)",
      "\u001b[1;32m<ipython-input-41-0ec275a968b1>\u001b[0m in \u001b[0;36m<module>\u001b[1;34m\u001b[0m\n\u001b[1;32m----> 1\u001b[1;33m \u001b[0mknn\u001b[0m\u001b[1;33m.\u001b[0m\u001b[0mpredict\u001b[0m\u001b[1;33m(\u001b[0m\u001b[0mX_test\u001b[0m\u001b[1;33m,\u001b[0m \u001b[0my_test\u001b[0m\u001b[1;33m)\u001b[0m\u001b[1;33m\u001b[0m\u001b[1;33m\u001b[0m\u001b[0m\n\u001b[0m",
      "\u001b[1;31mTypeError\u001b[0m: predict() takes 2 positional arguments but 3 were given"
     ]
    }
   ],
   "source": [
    "#knn.predict(X_test, y_test)"
   ]
  },
  {
   "cell_type": "code",
   "execution_count": null,
   "id": "3a817e7c",
   "metadata": {},
   "outputs": [],
   "source": []
  }
 ],
 "metadata": {
  "kernelspec": {
   "display_name": "Python 3",
   "language": "python",
   "name": "python3"
  },
  "language_info": {
   "codemirror_mode": {
    "name": "ipython",
    "version": 3
   },
   "file_extension": ".py",
   "mimetype": "text/x-python",
   "name": "python",
   "nbconvert_exporter": "python",
   "pygments_lexer": "ipython3",
   "version": "3.8.8"
  }
 },
 "nbformat": 4,
 "nbformat_minor": 5
}
